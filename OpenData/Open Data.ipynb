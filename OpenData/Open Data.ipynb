{
 "cells": [
  {
   "cell_type": "code",
   "execution_count": 1,
   "metadata": {
    "collapsed": true,
    "deletable": true,
    "editable": true
   },
   "outputs": [],
   "source": [
    "import matplotlib\n",
    "import matplotlib.pyplot as plt\n",
    "import numpy as np\n",
    "import pandas as pd\n",
    "import os\n",
    "import json\n",
    "import requests\n",
    "import calendar\n",
    "import datetime\n"
   ]
  },
  {
   "cell_type": "code",
   "execution_count": 2,
   "metadata": {
    "collapsed": true,
    "deletable": true,
    "editable": true
   },
   "outputs": [],
   "source": [
    "%matplotlib inline\n",
    "plt.rcParams['figure.figsize'] = (20, 10)"
   ]
  },
  {
   "cell_type": "code",
   "execution_count": 3,
   "metadata": {
    "collapsed": true,
    "deletable": true,
    "editable": true
   },
   "outputs": [],
   "source": [
    "saved_style_state = matplotlib.rcParams.copy()"
   ]
  },
  {
   "cell_type": "markdown",
   "metadata": {
    "deletable": true,
    "editable": true
   },
   "source": [
    "Grab data locally"
   ]
  },
  {
   "cell_type": "code",
   "execution_count": 4,
   "metadata": {
    "collapsed": false,
    "deletable": true,
    "editable": true
   },
   "outputs": [
    {
     "name": "stdout",
     "output_type": "stream",
     "text": [
      "done\n"
     ]
    }
   ],
   "source": [
    "filepath = \"~/code1161base/OpenData/autos.csv\"\n",
    "if os.path.isfile(\"~/code1161base/OpenData/autos.csv\"):\n",
    "    print \"loading from file\"\n",
    "\n",
    "autos_data = pd.read_csv(filepath)\n",
    "print \"done\""
   ]
  },
  {
   "cell_type": "markdown",
   "metadata": {
    "deletable": true,
    "editable": true
   },
   "source": [
    "# Converting variables 'dateCrawled', 'dateCreated', 'lastSeen' to DateTime"
   ]
  },
  {
   "cell_type": "code",
   "execution_count": 5,
   "metadata": {
    "collapsed": false,
    "deletable": true,
    "editable": true
   },
   "outputs": [
    {
     "data": {
      "text/html": [
       "<div>\n",
       "<table border=\"1\" class=\"dataframe\">\n",
       "  <thead>\n",
       "    <tr style=\"text-align: right;\">\n",
       "      <th></th>\n",
       "      <th>dateCrawled</th>\n",
       "      <th>name</th>\n",
       "      <th>seller</th>\n",
       "      <th>offerType</th>\n",
       "      <th>price</th>\n",
       "      <th>abtest</th>\n",
       "      <th>vehicleType</th>\n",
       "      <th>yearOfRegistration</th>\n",
       "      <th>gearbox</th>\n",
       "      <th>powerPS</th>\n",
       "      <th>model</th>\n",
       "      <th>kilometer</th>\n",
       "      <th>monthOfRegistration</th>\n",
       "      <th>fuelType</th>\n",
       "      <th>brand</th>\n",
       "      <th>notRepairedDamage</th>\n",
       "      <th>dateCreated</th>\n",
       "      <th>nrOfPictures</th>\n",
       "      <th>postalCode</th>\n",
       "      <th>lastSeen</th>\n",
       "    </tr>\n",
       "  </thead>\n",
       "  <tbody>\n",
       "    <tr>\n",
       "      <th>0</th>\n",
       "      <td>2016-03-24 11:52:17</td>\n",
       "      <td>Golf_3_1.6</td>\n",
       "      <td>privat</td>\n",
       "      <td>Angebot</td>\n",
       "      <td>480</td>\n",
       "      <td>test</td>\n",
       "      <td>NaN</td>\n",
       "      <td>1993</td>\n",
       "      <td>manuell</td>\n",
       "      <td>0</td>\n",
       "      <td>golf</td>\n",
       "      <td>150000</td>\n",
       "      <td>0</td>\n",
       "      <td>benzin</td>\n",
       "      <td>volkswagen</td>\n",
       "      <td>NaN</td>\n",
       "      <td>2016-03-24</td>\n",
       "      <td>0</td>\n",
       "      <td>70435</td>\n",
       "      <td>2016-04-07 03:16:57</td>\n",
       "    </tr>\n",
       "    <tr>\n",
       "      <th>1</th>\n",
       "      <td>2016-03-24 10:58:45</td>\n",
       "      <td>A5_Sportback_2.7_Tdi</td>\n",
       "      <td>privat</td>\n",
       "      <td>Angebot</td>\n",
       "      <td>18300</td>\n",
       "      <td>test</td>\n",
       "      <td>coupe</td>\n",
       "      <td>2011</td>\n",
       "      <td>manuell</td>\n",
       "      <td>190</td>\n",
       "      <td>NaN</td>\n",
       "      <td>125000</td>\n",
       "      <td>5</td>\n",
       "      <td>diesel</td>\n",
       "      <td>audi</td>\n",
       "      <td>ja</td>\n",
       "      <td>2016-03-24</td>\n",
       "      <td>0</td>\n",
       "      <td>66954</td>\n",
       "      <td>2016-04-07 01:46:50</td>\n",
       "    </tr>\n",
       "    <tr>\n",
       "      <th>2</th>\n",
       "      <td>2016-03-14 12:52:21</td>\n",
       "      <td>Jeep_Grand_Cherokee_\"Overland\"</td>\n",
       "      <td>privat</td>\n",
       "      <td>Angebot</td>\n",
       "      <td>9800</td>\n",
       "      <td>test</td>\n",
       "      <td>suv</td>\n",
       "      <td>2004</td>\n",
       "      <td>automatik</td>\n",
       "      <td>163</td>\n",
       "      <td>grand</td>\n",
       "      <td>125000</td>\n",
       "      <td>8</td>\n",
       "      <td>diesel</td>\n",
       "      <td>jeep</td>\n",
       "      <td>NaN</td>\n",
       "      <td>2016-03-14</td>\n",
       "      <td>0</td>\n",
       "      <td>90480</td>\n",
       "      <td>2016-04-05 12:47:46</td>\n",
       "    </tr>\n",
       "    <tr>\n",
       "      <th>3</th>\n",
       "      <td>2016-03-17 16:54:04</td>\n",
       "      <td>GOLF_4_1_4__3T�RER</td>\n",
       "      <td>privat</td>\n",
       "      <td>Angebot</td>\n",
       "      <td>1500</td>\n",
       "      <td>test</td>\n",
       "      <td>kleinwagen</td>\n",
       "      <td>2001</td>\n",
       "      <td>manuell</td>\n",
       "      <td>75</td>\n",
       "      <td>golf</td>\n",
       "      <td>150000</td>\n",
       "      <td>6</td>\n",
       "      <td>benzin</td>\n",
       "      <td>volkswagen</td>\n",
       "      <td>nein</td>\n",
       "      <td>2016-03-17</td>\n",
       "      <td>0</td>\n",
       "      <td>91074</td>\n",
       "      <td>2016-03-17 17:40:17</td>\n",
       "    </tr>\n",
       "    <tr>\n",
       "      <th>4</th>\n",
       "      <td>2016-03-31 17:25:20</td>\n",
       "      <td>Skoda_Fabia_1.4_TDI_PD_Classic</td>\n",
       "      <td>privat</td>\n",
       "      <td>Angebot</td>\n",
       "      <td>3600</td>\n",
       "      <td>test</td>\n",
       "      <td>kleinwagen</td>\n",
       "      <td>2008</td>\n",
       "      <td>manuell</td>\n",
       "      <td>69</td>\n",
       "      <td>fabia</td>\n",
       "      <td>90000</td>\n",
       "      <td>7</td>\n",
       "      <td>diesel</td>\n",
       "      <td>skoda</td>\n",
       "      <td>nein</td>\n",
       "      <td>2016-03-31</td>\n",
       "      <td>0</td>\n",
       "      <td>60437</td>\n",
       "      <td>2016-04-06 10:17:21</td>\n",
       "    </tr>\n",
       "  </tbody>\n",
       "</table>\n",
       "</div>"
      ],
      "text/plain": [
       "          dateCrawled                            name  seller offerType  \\\n",
       "0 2016-03-24 11:52:17                      Golf_3_1.6  privat   Angebot   \n",
       "1 2016-03-24 10:58:45            A5_Sportback_2.7_Tdi  privat   Angebot   \n",
       "2 2016-03-14 12:52:21  Jeep_Grand_Cherokee_\"Overland\"  privat   Angebot   \n",
       "3 2016-03-17 16:54:04              GOLF_4_1_4__3T�RER  privat   Angebot   \n",
       "4 2016-03-31 17:25:20  Skoda_Fabia_1.4_TDI_PD_Classic  privat   Angebot   \n",
       "\n",
       "   price abtest vehicleType  yearOfRegistration    gearbox  powerPS  model  \\\n",
       "0    480   test         NaN                1993    manuell        0   golf   \n",
       "1  18300   test       coupe                2011    manuell      190    NaN   \n",
       "2   9800   test         suv                2004  automatik      163  grand   \n",
       "3   1500   test  kleinwagen                2001    manuell       75   golf   \n",
       "4   3600   test  kleinwagen                2008    manuell       69  fabia   \n",
       "\n",
       "   kilometer  monthOfRegistration fuelType       brand notRepairedDamage  \\\n",
       "0     150000                    0   benzin  volkswagen               NaN   \n",
       "1     125000                    5   diesel        audi                ja   \n",
       "2     125000                    8   diesel        jeep               NaN   \n",
       "3     150000                    6   benzin  volkswagen              nein   \n",
       "4      90000                    7   diesel       skoda              nein   \n",
       "\n",
       "  dateCreated  nrOfPictures  postalCode            lastSeen  \n",
       "0  2016-03-24             0       70435 2016-04-07 03:16:57  \n",
       "1  2016-03-24             0       66954 2016-04-07 01:46:50  \n",
       "2  2016-03-14             0       90480 2016-04-05 12:47:46  \n",
       "3  2016-03-17             0       91074 2016-03-17 17:40:17  \n",
       "4  2016-03-31             0       60437 2016-04-06 10:17:21  "
      ]
     },
     "execution_count": 5,
     "metadata": {},
     "output_type": "execute_result"
    }
   ],
   "source": [
    "autos_data = pd.read_csv(filepath,\n",
    "                           infer_datetime_format=True,\n",
    "                           parse_dates=['dateCrawled', 'dateCreated', 'lastSeen'],\n",
    "                           dayfirst=True)\n",
    "\n",
    "autos_data.head(5)"
   ]
  },
  {
   "cell_type": "code",
   "execution_count": 6,
   "metadata": {
    "collapsed": false,
    "deletable": true,
    "editable": true,
    "scrolled": true
   },
   "outputs": [
    {
     "data": {
      "text/html": [
       "<div>\n",
       "<table border=\"1\" class=\"dataframe\">\n",
       "  <thead>\n",
       "    <tr style=\"text-align: right;\">\n",
       "      <th></th>\n",
       "      <th>dateCrawled</th>\n",
       "      <th>name</th>\n",
       "      <th>seller</th>\n",
       "      <th>offerType</th>\n",
       "      <th>price</th>\n",
       "      <th>abtest</th>\n",
       "      <th>vehicleType</th>\n",
       "      <th>yearOfRegistration</th>\n",
       "      <th>gearbox</th>\n",
       "      <th>powerPS</th>\n",
       "      <th>model</th>\n",
       "      <th>kilometer</th>\n",
       "      <th>monthOfRegistration</th>\n",
       "      <th>fuelType</th>\n",
       "      <th>brand</th>\n",
       "      <th>notRepairedDamage</th>\n",
       "      <th>dateCreated</th>\n",
       "      <th>nrOfPictures</th>\n",
       "      <th>postalCode</th>\n",
       "      <th>lastSeen</th>\n",
       "    </tr>\n",
       "  </thead>\n",
       "  <tbody>\n",
       "    <tr>\n",
       "      <th>0</th>\n",
       "      <td>2016-03-24 11:52:17</td>\n",
       "      <td>Golf_3_1.6</td>\n",
       "      <td>privat</td>\n",
       "      <td>Angebot</td>\n",
       "      <td>480</td>\n",
       "      <td>test</td>\n",
       "      <td>NaN</td>\n",
       "      <td>1993</td>\n",
       "      <td>manuell</td>\n",
       "      <td>0</td>\n",
       "      <td>golf</td>\n",
       "      <td>150000</td>\n",
       "      <td>0</td>\n",
       "      <td>benzin</td>\n",
       "      <td>volkswagen</td>\n",
       "      <td>NaN</td>\n",
       "      <td>2016-03-24</td>\n",
       "      <td>0</td>\n",
       "      <td>70435</td>\n",
       "      <td>2016-04-07 03:16:57</td>\n",
       "    </tr>\n",
       "    <tr>\n",
       "      <th>1</th>\n",
       "      <td>2016-03-24 10:58:45</td>\n",
       "      <td>A5_Sportback_2.7_Tdi</td>\n",
       "      <td>privat</td>\n",
       "      <td>Angebot</td>\n",
       "      <td>18300</td>\n",
       "      <td>test</td>\n",
       "      <td>coupe</td>\n",
       "      <td>2011</td>\n",
       "      <td>manuell</td>\n",
       "      <td>190</td>\n",
       "      <td>NaN</td>\n",
       "      <td>125000</td>\n",
       "      <td>5</td>\n",
       "      <td>diesel</td>\n",
       "      <td>audi</td>\n",
       "      <td>ja</td>\n",
       "      <td>2016-03-24</td>\n",
       "      <td>0</td>\n",
       "      <td>66954</td>\n",
       "      <td>2016-04-07 01:46:50</td>\n",
       "    </tr>\n",
       "    <tr>\n",
       "      <th>2</th>\n",
       "      <td>2016-03-14 12:52:21</td>\n",
       "      <td>Jeep_Grand_Cherokee_\"Overland\"</td>\n",
       "      <td>privat</td>\n",
       "      <td>Angebot</td>\n",
       "      <td>9800</td>\n",
       "      <td>test</td>\n",
       "      <td>suv</td>\n",
       "      <td>2004</td>\n",
       "      <td>automatik</td>\n",
       "      <td>163</td>\n",
       "      <td>grand</td>\n",
       "      <td>125000</td>\n",
       "      <td>8</td>\n",
       "      <td>diesel</td>\n",
       "      <td>jeep</td>\n",
       "      <td>NaN</td>\n",
       "      <td>2016-03-14</td>\n",
       "      <td>0</td>\n",
       "      <td>90480</td>\n",
       "      <td>2016-04-05 12:47:46</td>\n",
       "    </tr>\n",
       "    <tr>\n",
       "      <th>3</th>\n",
       "      <td>2016-03-17 16:54:04</td>\n",
       "      <td>GOLF_4_1_4__3T�RER</td>\n",
       "      <td>privat</td>\n",
       "      <td>Angebot</td>\n",
       "      <td>1500</td>\n",
       "      <td>test</td>\n",
       "      <td>kleinwagen</td>\n",
       "      <td>2001</td>\n",
       "      <td>manuell</td>\n",
       "      <td>75</td>\n",
       "      <td>golf</td>\n",
       "      <td>150000</td>\n",
       "      <td>6</td>\n",
       "      <td>benzin</td>\n",
       "      <td>volkswagen</td>\n",
       "      <td>nein</td>\n",
       "      <td>2016-03-17</td>\n",
       "      <td>0</td>\n",
       "      <td>91074</td>\n",
       "      <td>2016-03-17 17:40:17</td>\n",
       "    </tr>\n",
       "    <tr>\n",
       "      <th>4</th>\n",
       "      <td>2016-03-31 17:25:20</td>\n",
       "      <td>Skoda_Fabia_1.4_TDI_PD_Classic</td>\n",
       "      <td>privat</td>\n",
       "      <td>Angebot</td>\n",
       "      <td>3600</td>\n",
       "      <td>test</td>\n",
       "      <td>kleinwagen</td>\n",
       "      <td>2008</td>\n",
       "      <td>manuell</td>\n",
       "      <td>69</td>\n",
       "      <td>fabia</td>\n",
       "      <td>90000</td>\n",
       "      <td>7</td>\n",
       "      <td>diesel</td>\n",
       "      <td>skoda</td>\n",
       "      <td>nein</td>\n",
       "      <td>2016-03-31</td>\n",
       "      <td>0</td>\n",
       "      <td>60437</td>\n",
       "      <td>2016-04-06 10:17:21</td>\n",
       "    </tr>\n",
       "  </tbody>\n",
       "</table>\n",
       "</div>"
      ],
      "text/plain": [
       "          dateCrawled                            name  seller offerType  \\\n",
       "0 2016-03-24 11:52:17                      Golf_3_1.6  privat   Angebot   \n",
       "1 2016-03-24 10:58:45            A5_Sportback_2.7_Tdi  privat   Angebot   \n",
       "2 2016-03-14 12:52:21  Jeep_Grand_Cherokee_\"Overland\"  privat   Angebot   \n",
       "3 2016-03-17 16:54:04              GOLF_4_1_4__3T�RER  privat   Angebot   \n",
       "4 2016-03-31 17:25:20  Skoda_Fabia_1.4_TDI_PD_Classic  privat   Angebot   \n",
       "\n",
       "   price abtest vehicleType  yearOfRegistration    gearbox  powerPS  model  \\\n",
       "0    480   test         NaN                1993    manuell        0   golf   \n",
       "1  18300   test       coupe                2011    manuell      190    NaN   \n",
       "2   9800   test         suv                2004  automatik      163  grand   \n",
       "3   1500   test  kleinwagen                2001    manuell       75   golf   \n",
       "4   3600   test  kleinwagen                2008    manuell       69  fabia   \n",
       "\n",
       "   kilometer  monthOfRegistration fuelType       brand notRepairedDamage  \\\n",
       "0     150000                    0   benzin  volkswagen               NaN   \n",
       "1     125000                    5   diesel        audi                ja   \n",
       "2     125000                    8   diesel        jeep               NaN   \n",
       "3     150000                    6   benzin  volkswagen              nein   \n",
       "4      90000                    7   diesel       skoda              nein   \n",
       "\n",
       "  dateCreated  nrOfPictures  postalCode            lastSeen  \n",
       "0  2016-03-24             0       70435 2016-04-07 03:16:57  \n",
       "1  2016-03-24             0       66954 2016-04-07 01:46:50  \n",
       "2  2016-03-14             0       90480 2016-04-05 12:47:46  \n",
       "3  2016-03-17             0       91074 2016-03-17 17:40:17  \n",
       "4  2016-03-31             0       60437 2016-04-06 10:17:21  "
      ]
     },
     "execution_count": 6,
     "metadata": {},
     "output_type": "execute_result"
    }
   ],
   "source": [
    "autos_data.head()"
   ]
  },
  {
   "cell_type": "markdown",
   "metadata": {
    "deletable": true,
    "editable": true
   },
   "source": [
    "Get categories headings (columns) for autos_data"
   ]
  },
  {
   "cell_type": "code",
   "execution_count": 7,
   "metadata": {
    "collapsed": false,
    "deletable": true,
    "editable": true,
    "scrolled": true
   },
   "outputs": [
    {
     "data": {
      "text/plain": [
       "Index([u'dateCrawled', u'name', u'seller', u'offerType', u'price', u'abtest',\n",
       "       u'vehicleType', u'yearOfRegistration', u'gearbox', u'powerPS', u'model',\n",
       "       u'kilometer', u'monthOfRegistration', u'fuelType', u'brand',\n",
       "       u'notRepairedDamage', u'dateCreated', u'nrOfPictures', u'postalCode',\n",
       "       u'lastSeen'],\n",
       "      dtype='object')"
      ]
     },
     "execution_count": 7,
     "metadata": {},
     "output_type": "execute_result"
    }
   ],
   "source": [
    "autos_data.columns"
   ]
  },
  {
   "cell_type": "markdown",
   "metadata": {
    "deletable": true,
    "editable": true
   },
   "source": [
    "# Dropping odd case = row (129969)"
   ]
  },
  {
   "cell_type": "code",
   "execution_count": 8,
   "metadata": {
    "collapsed": false,
    "deletable": true,
    "editable": true
   },
   "outputs": [],
   "source": [
    "autos_data.drop([129969], axis=0, inplace=True)"
   ]
  },
  {
   "cell_type": "markdown",
   "metadata": {
    "deletable": true,
    "editable": true
   },
   "source": [
    "Using iloc to index a row as Series\n",
    "*** row number - 1 ***"
   ]
  },
  {
   "cell_type": "markdown",
   "metadata": {
    "deletable": true,
    "editable": true
   },
   "source": [
    "# Testings the types of objects in Autos.csv"
   ]
  },
  {
   "cell_type": "code",
   "execution_count": 9,
   "metadata": {
    "collapsed": false,
    "deletable": true,
    "editable": true
   },
   "outputs": [
    {
     "data": {
      "text/plain": [
       "pandas.indexes.numeric.Int64Index"
      ]
     },
     "execution_count": 9,
     "metadata": {},
     "output_type": "execute_result"
    }
   ],
   "source": [
    "type(autos_data.index)"
   ]
  },
  {
   "cell_type": "code",
   "execution_count": 10,
   "metadata": {
    "collapsed": false,
    "deletable": true,
    "editable": true
   },
   "outputs": [
    {
     "data": {
      "text/plain": [
       "dateCrawled            2016-03-24 11:52:17\n",
       "name                            Golf_3_1.6\n",
       "seller                              privat\n",
       "offerType                          Angebot\n",
       "price                                  480\n",
       "abtest                                test\n",
       "vehicleType                            NaN\n",
       "yearOfRegistration                    1993\n",
       "gearbox                            manuell\n",
       "powerPS                                  0\n",
       "model                                 golf\n",
       "kilometer                           150000\n",
       "monthOfRegistration                      0\n",
       "fuelType                            benzin\n",
       "brand                           volkswagen\n",
       "notRepairedDamage                      NaN\n",
       "dateCreated            2016-03-24 00:00:00\n",
       "nrOfPictures                             0\n",
       "postalCode                           70435\n",
       "lastSeen               2016-04-07 03:16:57\n",
       "Name: 0, dtype: object"
      ]
     },
     "execution_count": 10,
     "metadata": {},
     "output_type": "execute_result"
    }
   ],
   "source": [
    "rowOne = autos_data.iloc[0]\n",
    "rowOne"
   ]
  },
  {
   "cell_type": "code",
   "execution_count": 11,
   "metadata": {
    "collapsed": false,
    "deletable": true,
    "editable": true
   },
   "outputs": [
    {
     "data": {
      "text/plain": [
       "Timestamp('2016-03-24 11:52:17')"
      ]
     },
     "execution_count": 11,
     "metadata": {},
     "output_type": "execute_result"
    }
   ],
   "source": [
    "rowOne[\"dateCrawled\"]"
   ]
  },
  {
   "cell_type": "markdown",
   "metadata": {
    "deletable": true,
    "editable": true
   },
   "source": [
    "indexing a column on a data frame"
   ]
  },
  {
   "cell_type": "code",
   "execution_count": 12,
   "metadata": {
    "collapsed": false,
    "deletable": true,
    "editable": true,
    "scrolled": true
   },
   "outputs": [
    {
     "data": {
      "text/plain": [
       "0        2016-03-24 11:52:17\n",
       "1        2016-03-24 10:58:45\n",
       "2        2016-03-14 12:52:21\n",
       "3        2016-03-17 16:54:04\n",
       "4        2016-03-31 17:25:20\n",
       "5        2016-04-04 17:36:23\n",
       "6        2016-04-01 20:48:51\n",
       "7        2016-03-21 18:54:38\n",
       "8        2016-04-04 23:42:13\n",
       "9        2016-03-17 10:53:50\n",
       "10       2016-03-26 19:54:18\n",
       "11       2016-04-07 10:06:22\n",
       "12       2016-03-15 22:49:09\n",
       "13       2016-03-21 21:37:40\n",
       "14       2016-03-21 12:57:01\n",
       "15       2016-03-11 21:39:15\n",
       "16       2016-04-01 12:46:46\n",
       "17       2016-03-20 10:25:19\n",
       "18       2016-03-23 15:48:05\n",
       "19       2016-04-01 22:55:47\n",
       "20       2016-04-01 19:56:48\n",
       "21       2016-03-27 11:38:00\n",
       "22       2016-03-23 14:52:51\n",
       "23       2016-03-12 19:43:07\n",
       "24       2016-03-13 20:40:49\n",
       "25       2016-03-18 21:44:09\n",
       "26       2016-03-10 19:38:18\n",
       "27       2016-03-07 12:51:23\n",
       "28       2016-03-09 11:56:38\n",
       "29       2016-03-08 19:55:19\n",
       "                 ...        \n",
       "371498   2016-03-11 15:50:38\n",
       "371499   2016-03-08 13:52:00\n",
       "371500   2016-03-21 23:40:49\n",
       "371501   2016-03-26 18:36:54\n",
       "371502   2016-04-01 12:59:21\n",
       "371503   2016-04-01 01:55:58\n",
       "371504   2016-03-07 17:06:35\n",
       "371505   2016-04-03 19:56:57\n",
       "371506   2016-03-20 18:47:59\n",
       "371507   2016-03-16 17:06:19\n",
       "371508   2016-04-02 16:43:27\n",
       "371509   2016-03-11 23:40:32\n",
       "371510   2016-03-06 21:11:23\n",
       "371511   2016-03-31 18:50:37\n",
       "371512   2016-03-25 18:48:06\n",
       "371513   2016-03-21 15:36:22\n",
       "371514   2016-04-04 11:45:16\n",
       "371515   2016-03-09 11:36:55\n",
       "371516   2016-04-04 09:57:12\n",
       "371517   2016-03-28 13:48:07\n",
       "371518   2016-04-02 20:37:03\n",
       "371519   2016-03-09 13:37:43\n",
       "371520   2016-03-19 19:53:49\n",
       "371521   2016-03-27 20:36:20\n",
       "371522   2016-03-21 09:50:58\n",
       "371523   2016-03-14 17:48:27\n",
       "371524   2016-03-05 19:56:21\n",
       "371525   2016-03-19 18:57:12\n",
       "371526   2016-03-20 19:41:08\n",
       "371527   2016-03-07 19:39:19\n",
       "Name: dateCrawled, dtype: datetime64[ns]"
      ]
     },
     "execution_count": 12,
     "metadata": {},
     "output_type": "execute_result"
    }
   ],
   "source": [
    "dateCrawled = autos_data[\"dateCrawled\"]\n",
    "\n",
    "dateCrawled"
   ]
  },
  {
   "cell_type": "code",
   "execution_count": 13,
   "metadata": {
    "collapsed": false,
    "deletable": true,
    "editable": true
   },
   "outputs": [
    {
     "data": {
      "text/plain": [
       "0                                                Golf_3_1.6\n",
       "1                                      A5_Sportback_2.7_Tdi\n",
       "2                            Jeep_Grand_Cherokee_\"Overland\"\n",
       "3                                        GOLF_4_1_4__3T�RER\n",
       "4                            Skoda_Fabia_1.4_TDI_PD_Classic\n",
       "5         BMW_316i___e36_Limousine___Bastlerfahrzeug__Ex...\n",
       "6                               Peugeot_206_CC_110_Platinum\n",
       "7                              VW_Derby_Bj_80__Scheunenfund\n",
       "8                      Ford_C___Max_Titanium_1_0_L_EcoBoost\n",
       "9         VW_Golf_4_5_tuerig_zu_verkaufen_mit_Anhaengerk...\n",
       "10                                        Mazda_3_1.6_Sport\n",
       "11            Volkswagen_Passat_Variant_2.0_TDI_Comfortline\n",
       "12                        VW_Passat_Facelift_35i__\"7Sitzer\"\n",
       "13                           VW_PASSAT_1.9_TDI_131_PS_LEDER\n",
       "14        Nissan_Navara_2.5DPF_SE4x4_Klima_Sitzheizg_Blu...\n",
       "15                             KA_Lufthansa_Edition_450�_VB\n",
       "16                                              Polo_6n_1_4\n",
       "17                              Renault_Twingo_1.2_16V_Aut.\n",
       "18                         Ford_C_MAX_2.0_TDCi_DPF_Titanium\n",
       "19                        Mercedes_Benz_A_160_Classic_Klima\n",
       "20                        Volkswagen_Scirocco_1.4_TSI_Sport\n",
       "21        BMW_530i_T�V_7/17_Scheckheftgepflegt_sehr_gute...\n",
       "22                            Opel_Meriva_1.Hand_T�V_3.2018\n",
       "23                                             Stadtflitzer\n",
       "24                               MERCEDES_200E__T�V_04/2016\n",
       "25                    BMW_530d_touring_Vollausstattung_NAVI\n",
       "26                                Citroen_C4_Grand_Picasso.\n",
       "27                           Honda_Civic_1.4_i_VTEC_Comfort\n",
       "28                                     Volkswagen_T3_andere\n",
       "29                                           Fiat_Punto_1.2\n",
       "                                ...                        \n",
       "371498                              Opel_Vectra_Edition_100\n",
       "371499    OPEL_CORSA_B__ECO_SWING__T�V_1/17_8fach_Bereif...\n",
       "371500    Volkswagen_Golf_1.4_TSI_BlueMotion_Technology_...\n",
       "371501                                     Chrysler_Voyager\n",
       "371502                                    Audi_A4_Avant_1.8\n",
       "371503                                     Subaru_Justy_1.3\n",
       "371504                                         220_cdi_Benz\n",
       "371505                     Opel_Astra_1.6_Caravan_Selection\n",
       "371506    Volkswagen_Golf_1.9_TDI_DPF_Goal_Rentnerfzg._1...\n",
       "371507    Gepflegter_Audi_a4_2.0tdi_xenon_ahk_klima_sche...\n",
       "371508                                       Opel_Astra_1.8\n",
       "371509    LT_35_DIESEL_Gruene_Plakette....letzte_Gelegen...\n",
       "371510    Mercedes_benz_e_klasse_avangarde_220_cdi_grune...\n",
       "371511                             Audi_A3_1.8_T_Attraction\n",
       "371512                   Mercedes_Benz_E_400_CDI_Avantgarde\n",
       "371513                         Seat_Leon_1.9_TDI_4/5_Tueren\n",
       "371514                   Renault_1_4_ltr.16_V_Megane_Cabrio\n",
       "371515                                Skoda_Fabia_Kombi_1.4\n",
       "371516                                  Volkswagen_Lupo_1.0\n",
       "371517                     Volkswagen_Golf_2.0_TDI_DPF_Team\n",
       "371518                            Bmw_320_D_DPF_Touring_!!!\n",
       "371519    Alfa_Romeo_159_Jtdm_1.9_150_ps_13_600_km_top_voll\n",
       "371520                                         turbo_defekt\n",
       "371521                   Opel_Zafira_1.6_Elegance_T�V_12/16\n",
       "371522                                      Mitsubishi_Cold\n",
       "371523                           Suche_t4___vito_ab_6_sitze\n",
       "371524                Smart_smart_leistungssteigerung_100ps\n",
       "371525                   Volkswagen_Multivan_T4_TDI_7DC_UY2\n",
       "371526                               VW_Golf_Kombi_1_9l_TDI\n",
       "371527         BMW_M135i_vollausgestattet_NP_52.720____Euro\n",
       "Name: name, dtype: object"
      ]
     },
     "execution_count": 13,
     "metadata": {},
     "output_type": "execute_result"
    }
   ],
   "source": [
    "name = autos_data[\"name\"]\n",
    "\n",
    "name"
   ]
  },
  {
   "cell_type": "code",
   "execution_count": 14,
   "metadata": {
    "collapsed": false,
    "deletable": true,
    "editable": true,
    "scrolled": true
   },
   "outputs": [
    {
     "data": {
      "text/plain": [
       "0         privat\n",
       "1         privat\n",
       "2         privat\n",
       "3         privat\n",
       "4         privat\n",
       "5         privat\n",
       "6         privat\n",
       "7         privat\n",
       "8         privat\n",
       "9         privat\n",
       "10        privat\n",
       "11        privat\n",
       "12        privat\n",
       "13        privat\n",
       "14        privat\n",
       "15        privat\n",
       "16        privat\n",
       "17        privat\n",
       "18        privat\n",
       "19        privat\n",
       "20        privat\n",
       "21        privat\n",
       "22        privat\n",
       "23        privat\n",
       "24        privat\n",
       "25        privat\n",
       "26        privat\n",
       "27        privat\n",
       "28        privat\n",
       "29        privat\n",
       "           ...  \n",
       "371498    privat\n",
       "371499    privat\n",
       "371500    privat\n",
       "371501    privat\n",
       "371502    privat\n",
       "371503    privat\n",
       "371504    privat\n",
       "371505    privat\n",
       "371506    privat\n",
       "371507    privat\n",
       "371508    privat\n",
       "371509    privat\n",
       "371510    privat\n",
       "371511    privat\n",
       "371512    privat\n",
       "371513    privat\n",
       "371514    privat\n",
       "371515    privat\n",
       "371516    privat\n",
       "371517    privat\n",
       "371518    privat\n",
       "371519    privat\n",
       "371520    privat\n",
       "371521    privat\n",
       "371522    privat\n",
       "371523    privat\n",
       "371524    privat\n",
       "371525    privat\n",
       "371526    privat\n",
       "371527    privat\n",
       "Name: seller, dtype: object"
      ]
     },
     "execution_count": 14,
     "metadata": {},
     "output_type": "execute_result"
    }
   ],
   "source": [
    "seller = autos_data[\"seller\"]\n",
    "\n",
    "seller"
   ]
  },
  {
   "cell_type": "code",
   "execution_count": 15,
   "metadata": {
    "collapsed": false,
    "deletable": true,
    "editable": true,
    "scrolled": true
   },
   "outputs": [
    {
     "data": {
      "text/plain": [
       "0         Angebot\n",
       "1         Angebot\n",
       "2         Angebot\n",
       "3         Angebot\n",
       "4         Angebot\n",
       "5         Angebot\n",
       "6         Angebot\n",
       "7         Angebot\n",
       "8         Angebot\n",
       "9         Angebot\n",
       "10        Angebot\n",
       "11        Angebot\n",
       "12        Angebot\n",
       "13        Angebot\n",
       "14        Angebot\n",
       "15        Angebot\n",
       "16        Angebot\n",
       "17        Angebot\n",
       "18        Angebot\n",
       "19        Angebot\n",
       "20        Angebot\n",
       "21        Angebot\n",
       "22        Angebot\n",
       "23        Angebot\n",
       "24        Angebot\n",
       "25        Angebot\n",
       "26        Angebot\n",
       "27        Angebot\n",
       "28        Angebot\n",
       "29        Angebot\n",
       "           ...   \n",
       "371498    Angebot\n",
       "371499    Angebot\n",
       "371500    Angebot\n",
       "371501    Angebot\n",
       "371502    Angebot\n",
       "371503    Angebot\n",
       "371504    Angebot\n",
       "371505    Angebot\n",
       "371506    Angebot\n",
       "371507    Angebot\n",
       "371508    Angebot\n",
       "371509    Angebot\n",
       "371510    Angebot\n",
       "371511    Angebot\n",
       "371512    Angebot\n",
       "371513    Angebot\n",
       "371514    Angebot\n",
       "371515    Angebot\n",
       "371516    Angebot\n",
       "371517    Angebot\n",
       "371518    Angebot\n",
       "371519    Angebot\n",
       "371520    Angebot\n",
       "371521    Angebot\n",
       "371522    Angebot\n",
       "371523    Angebot\n",
       "371524    Angebot\n",
       "371525    Angebot\n",
       "371526    Angebot\n",
       "371527    Angebot\n",
       "Name: offerType, dtype: object"
      ]
     },
     "execution_count": 15,
     "metadata": {},
     "output_type": "execute_result"
    }
   ],
   "source": [
    "offerType = autos_data[\"offerType\"]\n",
    "\n",
    "offerType"
   ]
  },
  {
   "cell_type": "code",
   "execution_count": 16,
   "metadata": {
    "collapsed": false,
    "deletable": true,
    "editable": true
   },
   "outputs": [
    {
     "data": {
      "text/plain": [
       "0           480\n",
       "1         18300\n",
       "2          9800\n",
       "3          1500\n",
       "4          3600\n",
       "5           650\n",
       "6          2200\n",
       "7             0\n",
       "8         14500\n",
       "9           999\n",
       "10         2000\n",
       "11         2799\n",
       "12          999\n",
       "13         2500\n",
       "14        17999\n",
       "15          450\n",
       "16          300\n",
       "17         1750\n",
       "18         7550\n",
       "19         1850\n",
       "20        10400\n",
       "21         3699\n",
       "22         2900\n",
       "23          450\n",
       "24          500\n",
       "25         2500\n",
       "26         5555\n",
       "27         6900\n",
       "28         1990\n",
       "29          690\n",
       "          ...  \n",
       "371498      699\n",
       "371499      600\n",
       "371500    20400\n",
       "371501     3900\n",
       "371502     1600\n",
       "371503     1700\n",
       "371504     2600\n",
       "371505      800\n",
       "371506     5900\n",
       "371507     5999\n",
       "371508     1400\n",
       "371509     1900\n",
       "371510     6500\n",
       "371511     1999\n",
       "371512     5000\n",
       "371513     4400\n",
       "371514      999\n",
       "371515     1690\n",
       "371516     1490\n",
       "371517     7900\n",
       "371518     3999\n",
       "371519     5250\n",
       "371520     3200\n",
       "371521     1150\n",
       "371522        0\n",
       "371523     2200\n",
       "371524     1199\n",
       "371525     9200\n",
       "371526     3400\n",
       "371527    28990\n",
       "Name: price, dtype: int64"
      ]
     },
     "execution_count": 16,
     "metadata": {},
     "output_type": "execute_result"
    }
   ],
   "source": [
    "price = autos_data[\"price\"]\n",
    "\n",
    "price"
   ]
  },
  {
   "cell_type": "code",
   "execution_count": 17,
   "metadata": {
    "collapsed": false,
    "deletable": true,
    "editable": true
   },
   "outputs": [
    {
     "data": {
      "text/plain": [
       "0            test\n",
       "1            test\n",
       "2            test\n",
       "3            test\n",
       "4            test\n",
       "5            test\n",
       "6            test\n",
       "7            test\n",
       "8         control\n",
       "9            test\n",
       "10        control\n",
       "11        control\n",
       "12        control\n",
       "13        control\n",
       "14        control\n",
       "15           test\n",
       "16           test\n",
       "17        control\n",
       "18           test\n",
       "19           test\n",
       "20        control\n",
       "21           test\n",
       "22           test\n",
       "23           test\n",
       "24           test\n",
       "25        control\n",
       "26        control\n",
       "27           test\n",
       "28           test\n",
       "29           test\n",
       "           ...   \n",
       "371498    control\n",
       "371499    control\n",
       "371500       test\n",
       "371501       test\n",
       "371502       test\n",
       "371503    control\n",
       "371504    control\n",
       "371505       test\n",
       "371506       test\n",
       "371507       test\n",
       "371508    control\n",
       "371509       test\n",
       "371510       test\n",
       "371511    control\n",
       "371512       test\n",
       "371513    control\n",
       "371514    control\n",
       "371515       test\n",
       "371516    control\n",
       "371517       test\n",
       "371518       test\n",
       "371519    control\n",
       "371520    control\n",
       "371521    control\n",
       "371522    control\n",
       "371523       test\n",
       "371524       test\n",
       "371525       test\n",
       "371526       test\n",
       "371527    control\n",
       "Name: abtest, dtype: object"
      ]
     },
     "execution_count": 17,
     "metadata": {},
     "output_type": "execute_result"
    }
   ],
   "source": [
    "abtest = autos_data[\"abtest\"]\n",
    "\n",
    "abtest"
   ]
  },
  {
   "cell_type": "code",
   "execution_count": 18,
   "metadata": {
    "collapsed": false,
    "deletable": true,
    "editable": true,
    "scrolled": true
   },
   "outputs": [
    {
     "data": {
      "text/plain": [
       "0                NaN\n",
       "1              coupe\n",
       "2                suv\n",
       "3         kleinwagen\n",
       "4         kleinwagen\n",
       "5          limousine\n",
       "6             cabrio\n",
       "7          limousine\n",
       "8                bus\n",
       "9         kleinwagen\n",
       "10         limousine\n",
       "11             kombi\n",
       "12             kombi\n",
       "13             kombi\n",
       "14               suv\n",
       "15        kleinwagen\n",
       "16               NaN\n",
       "17        kleinwagen\n",
       "18               bus\n",
       "19               bus\n",
       "20             coupe\n",
       "21         limousine\n",
       "22               NaN\n",
       "23        kleinwagen\n",
       "24         limousine\n",
       "25             kombi\n",
       "26               NaN\n",
       "27         limousine\n",
       "28               bus\n",
       "29        kleinwagen\n",
       "             ...    \n",
       "371498     limousine\n",
       "371499    kleinwagen\n",
       "371500     limousine\n",
       "371501           bus\n",
       "371502         kombi\n",
       "371503    kleinwagen\n",
       "371504           NaN\n",
       "371505         kombi\n",
       "371506     limousine\n",
       "371507         kombi\n",
       "371508     limousine\n",
       "371509           NaN\n",
       "371510     limousine\n",
       "371511     limousine\n",
       "371512     limousine\n",
       "371513     limousine\n",
       "371514        cabrio\n",
       "371515         kombi\n",
       "371516    kleinwagen\n",
       "371517     limousine\n",
       "371518         kombi\n",
       "371519           NaN\n",
       "371520     limousine\n",
       "371521           bus\n",
       "371522           NaN\n",
       "371523           NaN\n",
       "371524        cabrio\n",
       "371525           bus\n",
       "371526         kombi\n",
       "371527     limousine\n",
       "Name: vehicleType, dtype: object"
      ]
     },
     "execution_count": 18,
     "metadata": {},
     "output_type": "execute_result"
    }
   ],
   "source": [
    "vehicleType = autos_data[\"vehicleType\"]\n",
    "\n",
    "vehicleType"
   ]
  },
  {
   "cell_type": "code",
   "execution_count": 19,
   "metadata": {
    "collapsed": false,
    "deletable": true,
    "editable": true,
    "scrolled": true
   },
   "outputs": [
    {
     "data": {
      "text/plain": [
       "0         1993\n",
       "1         2011\n",
       "2         2004\n",
       "3         2001\n",
       "4         2008\n",
       "5         1995\n",
       "6         2004\n",
       "7         1980\n",
       "8         2014\n",
       "9         1998\n",
       "10        2004\n",
       "11        2005\n",
       "12        1995\n",
       "13        2004\n",
       "14        2011\n",
       "15        1910\n",
       "16        2016\n",
       "17        2004\n",
       "18        2007\n",
       "19        2004\n",
       "20        2009\n",
       "21        2002\n",
       "22        2018\n",
       "23        1997\n",
       "24        1990\n",
       "25        2002\n",
       "26        2017\n",
       "27        2008\n",
       "28        1981\n",
       "29        2003\n",
       "          ... \n",
       "371498    1999\n",
       "371499    1998\n",
       "371500    2014\n",
       "371501    2003\n",
       "371502    1998\n",
       "371503    1999\n",
       "371504    2005\n",
       "371505    2000\n",
       "371506    2006\n",
       "371507    2005\n",
       "371508    2001\n",
       "371509    2000\n",
       "371510    2003\n",
       "371511    1997\n",
       "371512    2003\n",
       "371513    2008\n",
       "371514    2000\n",
       "371515    2004\n",
       "371516    1998\n",
       "371517    2010\n",
       "371518    2005\n",
       "371519    2016\n",
       "371520    2004\n",
       "371521    2000\n",
       "371522    2005\n",
       "371523    2005\n",
       "371524    2000\n",
       "371525    1996\n",
       "371526    2002\n",
       "371527    2013\n",
       "Name: yearOfRegistration, dtype: int64"
      ]
     },
     "execution_count": 19,
     "metadata": {},
     "output_type": "execute_result"
    }
   ],
   "source": [
    "yearOfRego = autos_data[\"yearOfRegistration\"]\n",
    "\n",
    "yearOfRego"
   ]
  },
  {
   "cell_type": "code",
   "execution_count": 20,
   "metadata": {
    "collapsed": false,
    "deletable": true,
    "editable": true,
    "scrolled": true
   },
   "outputs": [
    {
     "data": {
      "text/plain": [
       "0           manuell\n",
       "1           manuell\n",
       "2         automatik\n",
       "3           manuell\n",
       "4           manuell\n",
       "5           manuell\n",
       "6           manuell\n",
       "7           manuell\n",
       "8           manuell\n",
       "9           manuell\n",
       "10          manuell\n",
       "11          manuell\n",
       "12          manuell\n",
       "13          manuell\n",
       "14          manuell\n",
       "15              NaN\n",
       "16              NaN\n",
       "17        automatik\n",
       "18          manuell\n",
       "19          manuell\n",
       "20          manuell\n",
       "21        automatik\n",
       "22          manuell\n",
       "23          manuell\n",
       "24          manuell\n",
       "25        automatik\n",
       "26          manuell\n",
       "27          manuell\n",
       "28          manuell\n",
       "29          manuell\n",
       "            ...    \n",
       "371498      manuell\n",
       "371499      manuell\n",
       "371500    automatik\n",
       "371501    automatik\n",
       "371502      manuell\n",
       "371503      manuell\n",
       "371504    automatik\n",
       "371505      manuell\n",
       "371506      manuell\n",
       "371507      manuell\n",
       "371508      manuell\n",
       "371509      manuell\n",
       "371510    automatik\n",
       "371511      manuell\n",
       "371512    automatik\n",
       "371513      manuell\n",
       "371514      manuell\n",
       "371515      manuell\n",
       "371516      manuell\n",
       "371517      manuell\n",
       "371518      manuell\n",
       "371519    automatik\n",
       "371520      manuell\n",
       "371521      manuell\n",
       "371522      manuell\n",
       "371523          NaN\n",
       "371524    automatik\n",
       "371525      manuell\n",
       "371526      manuell\n",
       "371527      manuell\n",
       "Name: gearbox, dtype: object"
      ]
     },
     "execution_count": 20,
     "metadata": {},
     "output_type": "execute_result"
    }
   ],
   "source": [
    "gearbox = autos_data[\"gearbox\"]\n",
    "\n",
    "gearbox"
   ]
  },
  {
   "cell_type": "code",
   "execution_count": 21,
   "metadata": {
    "collapsed": false,
    "deletable": true,
    "editable": true,
    "scrolled": true
   },
   "outputs": [
    {
     "data": {
      "text/plain": [
       "0           0\n",
       "1         190\n",
       "2         163\n",
       "3          75\n",
       "4          69\n",
       "5         102\n",
       "6         109\n",
       "7          50\n",
       "8         125\n",
       "9         101\n",
       "10        105\n",
       "11        140\n",
       "12        115\n",
       "13        131\n",
       "14        190\n",
       "15          0\n",
       "16         60\n",
       "17         75\n",
       "18        136\n",
       "19        102\n",
       "20        160\n",
       "21        231\n",
       "22         90\n",
       "23         50\n",
       "24        118\n",
       "25        193\n",
       "26        125\n",
       "27         99\n",
       "28         50\n",
       "29         60\n",
       "         ... \n",
       "371498    101\n",
       "371499     54\n",
       "371500    150\n",
       "371501    174\n",
       "371502    125\n",
       "371503     68\n",
       "371504      0\n",
       "371505    101\n",
       "371506    105\n",
       "371507    140\n",
       "371508    125\n",
       "371509    110\n",
       "371510    145\n",
       "371511    150\n",
       "371512    260\n",
       "371513    105\n",
       "371514     95\n",
       "371515     55\n",
       "371516     50\n",
       "371517    140\n",
       "371518      3\n",
       "371519    150\n",
       "371520    225\n",
       "371521      0\n",
       "371522      0\n",
       "371523      0\n",
       "371524    101\n",
       "371525    102\n",
       "371526    100\n",
       "371527    320\n",
       "Name: powerPS, dtype: int64"
      ]
     },
     "execution_count": 21,
     "metadata": {},
     "output_type": "execute_result"
    }
   ],
   "source": [
    "powerPS = autos_data[\"powerPS\"]\n",
    "\n",
    "powerPS"
   ]
  },
  {
   "cell_type": "code",
   "execution_count": 22,
   "metadata": {
    "collapsed": false,
    "deletable": true,
    "editable": true,
    "scrolled": true
   },
   "outputs": [
    {
     "data": {
      "text/plain": [
       "0                golf\n",
       "1                 NaN\n",
       "2               grand\n",
       "3                golf\n",
       "4               fabia\n",
       "5                 3er\n",
       "6             2_reihe\n",
       "7              andere\n",
       "8               c_max\n",
       "9                golf\n",
       "10            3_reihe\n",
       "11             passat\n",
       "12             passat\n",
       "13             passat\n",
       "14             navara\n",
       "15                 ka\n",
       "16               polo\n",
       "17             twingo\n",
       "18              c_max\n",
       "19           a_klasse\n",
       "20           scirocco\n",
       "21                5er\n",
       "22             meriva\n",
       "23              arosa\n",
       "24             andere\n",
       "25                5er\n",
       "26                 c4\n",
       "27              civic\n",
       "28        transporter\n",
       "29              punto\n",
       "             ...     \n",
       "371498         vectra\n",
       "371499          corsa\n",
       "371500           golf\n",
       "371501        voyager\n",
       "371502             a4\n",
       "371503          justy\n",
       "371504       c_klasse\n",
       "371505          astra\n",
       "371506           golf\n",
       "371507             a4\n",
       "371508          astra\n",
       "371509            NaN\n",
       "371510       e_klasse\n",
       "371511             a3\n",
       "371512       e_klasse\n",
       "371513           leon\n",
       "371514         megane\n",
       "371515          fabia\n",
       "371516           lupo\n",
       "371517           golf\n",
       "371518            3er\n",
       "371519            159\n",
       "371520           leon\n",
       "371521         zafira\n",
       "371522           colt\n",
       "371523            NaN\n",
       "371524         fortwo\n",
       "371525    transporter\n",
       "371526           golf\n",
       "371527        m_reihe\n",
       "Name: model, dtype: object"
      ]
     },
     "execution_count": 22,
     "metadata": {},
     "output_type": "execute_result"
    }
   ],
   "source": [
    "model = autos_data[\"model\"]\n",
    "\n",
    "model"
   ]
  },
  {
   "cell_type": "code",
   "execution_count": 23,
   "metadata": {
    "collapsed": false,
    "deletable": true,
    "editable": true,
    "scrolled": true
   },
   "outputs": [
    {
     "data": {
      "text/plain": [
       "0         150000\n",
       "1         125000\n",
       "2         125000\n",
       "3         150000\n",
       "4          90000\n",
       "5         150000\n",
       "6         150000\n",
       "7          40000\n",
       "8          30000\n",
       "9         150000\n",
       "10        150000\n",
       "11        150000\n",
       "12        150000\n",
       "13        150000\n",
       "14         70000\n",
       "15          5000\n",
       "16        150000\n",
       "17        150000\n",
       "18        150000\n",
       "19        150000\n",
       "20        100000\n",
       "21        150000\n",
       "22        150000\n",
       "23        150000\n",
       "24        150000\n",
       "25        150000\n",
       "26        125000\n",
       "27         60000\n",
       "28          5000\n",
       "29        150000\n",
       "           ...  \n",
       "371498    150000\n",
       "371499    150000\n",
       "371500     30000\n",
       "371501    150000\n",
       "371502    150000\n",
       "371503     70000\n",
       "371504    150000\n",
       "371505    150000\n",
       "371506    150000\n",
       "371507    150000\n",
       "371508    150000\n",
       "371509    150000\n",
       "371510    150000\n",
       "371511    150000\n",
       "371512    150000\n",
       "371513    150000\n",
       "371514    150000\n",
       "371515    150000\n",
       "371516    150000\n",
       "371517    150000\n",
       "371518    150000\n",
       "371519    150000\n",
       "371520    150000\n",
       "371521    150000\n",
       "371522    150000\n",
       "371523     20000\n",
       "371524    125000\n",
       "371525    150000\n",
       "371526    150000\n",
       "371527     50000\n",
       "Name: kilometer, dtype: int64"
      ]
     },
     "execution_count": 23,
     "metadata": {},
     "output_type": "execute_result"
    }
   ],
   "source": [
    "km = autos_data[\"kilometer\"]\n",
    "\n",
    "km"
   ]
  },
  {
   "cell_type": "markdown",
   "metadata": {
    "deletable": true,
    "editable": true
   },
   "source": [
    "# Converting Month integer into Month"
   ]
  },
  {
   "cell_type": "markdown",
   "metadata": {
    "deletable": true,
    "editable": true
   },
   "source": [
    "Before:"
   ]
  },
  {
   "cell_type": "code",
   "execution_count": 24,
   "metadata": {
    "collapsed": false,
    "deletable": true,
    "editable": true,
    "scrolled": true
   },
   "outputs": [
    {
     "data": {
      "text/plain": [
       "0          0\n",
       "1          5\n",
       "2          8\n",
       "3          6\n",
       "4          7\n",
       "5         10\n",
       "6          8\n",
       "7          7\n",
       "8          8\n",
       "9          0\n",
       "10        12\n",
       "11        12\n",
       "12        11\n",
       "13         2\n",
       "14         3\n",
       "15         0\n",
       "16         0\n",
       "17         2\n",
       "18         6\n",
       "19         1\n",
       "20         4\n",
       "21         7\n",
       "22         5\n",
       "23         5\n",
       "24        10\n",
       "25         9\n",
       "26         4\n",
       "27        11\n",
       "28         1\n",
       "29         3\n",
       "          ..\n",
       "371498     3\n",
       "371499     1\n",
       "371500     9\n",
       "371501     7\n",
       "371502     2\n",
       "371503    11\n",
       "371504     9\n",
       "371505    11\n",
       "371506     9\n",
       "371507     4\n",
       "371508     2\n",
       "371509     7\n",
       "371510     3\n",
       "371511    12\n",
       "371512    12\n",
       "371513     7\n",
       "371514     4\n",
       "371515     4\n",
       "371516     9\n",
       "371517     7\n",
       "371518     5\n",
       "371519    12\n",
       "371520     5\n",
       "371521     3\n",
       "371522     7\n",
       "371523     1\n",
       "371524     3\n",
       "371525     3\n",
       "371526     6\n",
       "371527     8\n",
       "Name: monthOfRegistration, dtype: int64"
      ]
     },
     "execution_count": 24,
     "metadata": {},
     "output_type": "execute_result"
    }
   ],
   "source": [
    "monthOfRego = autos_data[\"monthOfRegistration\"]\n",
    "\n",
    "monthOfRego"
   ]
  },
  {
   "cell_type": "code",
   "execution_count": 25,
   "metadata": {
    "collapsed": false,
    "deletable": true,
    "editable": true
   },
   "outputs": [],
   "source": [
    "autos_data['monthOfRegistration'] = autos_data['monthOfRegistration'].apply(lambda x: calendar.month_abbr[x])"
   ]
  },
  {
   "cell_type": "markdown",
   "metadata": {
    "deletable": true,
    "editable": true
   },
   "source": [
    "Using a variable instead:"
   ]
  },
  {
   "cell_type": "code",
   "execution_count": 26,
   "metadata": {
    "collapsed": false,
    "deletable": true,
    "editable": true,
    "scrolled": true
   },
   "outputs": [
    {
     "data": {
      "text/plain": [
       "0            \n",
       "1         May\n",
       "2         Aug\n",
       "3         Jun\n",
       "4         Jul\n",
       "5         Oct\n",
       "6         Aug\n",
       "7         Jul\n",
       "8         Aug\n",
       "9            \n",
       "10        Dec\n",
       "11        Dec\n",
       "12        Nov\n",
       "13        Feb\n",
       "14        Mar\n",
       "15           \n",
       "16           \n",
       "17        Feb\n",
       "18        Jun\n",
       "19        Jan\n",
       "20        Apr\n",
       "21        Jul\n",
       "22        May\n",
       "23        May\n",
       "24        Oct\n",
       "25        Sep\n",
       "26        Apr\n",
       "27        Nov\n",
       "28        Jan\n",
       "29        Mar\n",
       "         ... \n",
       "371498    Mar\n",
       "371499    Jan\n",
       "371500    Sep\n",
       "371501    Jul\n",
       "371502    Feb\n",
       "371503    Nov\n",
       "371504    Sep\n",
       "371505    Nov\n",
       "371506    Sep\n",
       "371507    Apr\n",
       "371508    Feb\n",
       "371509    Jul\n",
       "371510    Mar\n",
       "371511    Dec\n",
       "371512    Dec\n",
       "371513    Jul\n",
       "371514    Apr\n",
       "371515    Apr\n",
       "371516    Sep\n",
       "371517    Jul\n",
       "371518    May\n",
       "371519    Dec\n",
       "371520    May\n",
       "371521    Mar\n",
       "371522    Jul\n",
       "371523    Jan\n",
       "371524    Mar\n",
       "371525    Mar\n",
       "371526    Jun\n",
       "371527    Aug\n",
       "Name: monthOfRegistration, dtype: object"
      ]
     },
     "execution_count": 26,
     "metadata": {},
     "output_type": "execute_result"
    }
   ],
   "source": [
    "monthOfRego = monthOfRego.apply(lambda x: calendar.month_abbr[x])\n",
    "\n",
    "monthOfRego"
   ]
  },
  {
   "cell_type": "code",
   "execution_count": 27,
   "metadata": {
    "collapsed": false,
    "deletable": true,
    "editable": true,
    "scrolled": true
   },
   "outputs": [],
   "source": [
    "# months_map = {1: 'January', \n",
    "#               2: 'February', \n",
    "#               3: 'March', \n",
    "#               4: 'April', \n",
    "#               5: 'May', \n",
    "#               6: 'June', \n",
    "#               7: 'July',\n",
    "#               8: 'August',\n",
    "#               9: 'September',\n",
    "#               10: 'October',\n",
    "#               11: 'November',\n",
    "#               12: 'December'\n",
    "#              }\n",
    "# def mapper(monthOfRegistration):\n",
    "#     return months_map[monthOfRegistration]\n",
    "\n",
    "# autos_data['monthOfRegistration'].apply(mapper)"
   ]
  },
  {
   "cell_type": "markdown",
   "metadata": {
    "deletable": true,
    "editable": true
   },
   "source": [
    "# Cars with no 'monthsOfRego' needs a variable name"
   ]
  },
  {
   "cell_type": "code",
   "execution_count": null,
   "metadata": {
    "collapsed": true,
    "deletable": true,
    "editable": true
   },
   "outputs": [],
   "source": []
  },
  {
   "cell_type": "code",
   "execution_count": 28,
   "metadata": {
    "collapsed": false,
    "deletable": true,
    "editable": true,
    "scrolled": true
   },
   "outputs": [
    {
     "data": {
      "text/plain": [
       "0         benzin\n",
       "1         diesel\n",
       "2         diesel\n",
       "3         benzin\n",
       "4         diesel\n",
       "5         benzin\n",
       "6         benzin\n",
       "7         benzin\n",
       "8         benzin\n",
       "9            NaN\n",
       "10        benzin\n",
       "11        diesel\n",
       "12        benzin\n",
       "13           NaN\n",
       "14        diesel\n",
       "15        benzin\n",
       "16        benzin\n",
       "17        benzin\n",
       "18        diesel\n",
       "19        benzin\n",
       "20        benzin\n",
       "21        benzin\n",
       "22        benzin\n",
       "23        benzin\n",
       "24        benzin\n",
       "25        diesel\n",
       "26           NaN\n",
       "27        benzin\n",
       "28        benzin\n",
       "29        benzin\n",
       "           ...  \n",
       "371498    benzin\n",
       "371499    benzin\n",
       "371500    benzin\n",
       "371501    benzin\n",
       "371502    benzin\n",
       "371503    benzin\n",
       "371504       NaN\n",
       "371505    benzin\n",
       "371506    diesel\n",
       "371507    diesel\n",
       "371508    benzin\n",
       "371509       NaN\n",
       "371510    diesel\n",
       "371511    benzin\n",
       "371512    diesel\n",
       "371513    diesel\n",
       "371514    benzin\n",
       "371515    benzin\n",
       "371516    benzin\n",
       "371517    diesel\n",
       "371518    diesel\n",
       "371519       NaN\n",
       "371520    benzin\n",
       "371521    benzin\n",
       "371522    benzin\n",
       "371523       NaN\n",
       "371524    benzin\n",
       "371525    diesel\n",
       "371526    diesel\n",
       "371527    benzin\n",
       "Name: fuelType, dtype: object"
      ]
     },
     "execution_count": 28,
     "metadata": {},
     "output_type": "execute_result"
    }
   ],
   "source": [
    "fuelType = autos_data[\"fuelType\"]\n",
    "\n",
    "fuelType"
   ]
  },
  {
   "cell_type": "code",
   "execution_count": 29,
   "metadata": {
    "collapsed": false,
    "deletable": true,
    "editable": true,
    "scrolled": true
   },
   "outputs": [
    {
     "data": {
      "text/plain": [
       "0             volkswagen\n",
       "1                   audi\n",
       "2                   jeep\n",
       "3             volkswagen\n",
       "4                  skoda\n",
       "5                    bmw\n",
       "6                peugeot\n",
       "7             volkswagen\n",
       "8                   ford\n",
       "9             volkswagen\n",
       "10                 mazda\n",
       "11            volkswagen\n",
       "12            volkswagen\n",
       "13            volkswagen\n",
       "14                nissan\n",
       "15                  ford\n",
       "16            volkswagen\n",
       "17               renault\n",
       "18                  ford\n",
       "19         mercedes_benz\n",
       "20            volkswagen\n",
       "21                   bmw\n",
       "22                  opel\n",
       "23                  seat\n",
       "24         mercedes_benz\n",
       "25                   bmw\n",
       "26               citroen\n",
       "27                 honda\n",
       "28            volkswagen\n",
       "29                  fiat\n",
       "               ...      \n",
       "371498              opel\n",
       "371499              opel\n",
       "371500        volkswagen\n",
       "371501          chrysler\n",
       "371502              audi\n",
       "371503            subaru\n",
       "371504     mercedes_benz\n",
       "371505              opel\n",
       "371506        volkswagen\n",
       "371507              audi\n",
       "371508              opel\n",
       "371509        volkswagen\n",
       "371510     mercedes_benz\n",
       "371511              audi\n",
       "371512     mercedes_benz\n",
       "371513              seat\n",
       "371514           renault\n",
       "371515             skoda\n",
       "371516        volkswagen\n",
       "371517        volkswagen\n",
       "371518               bmw\n",
       "371519        alfa_romeo\n",
       "371520              seat\n",
       "371521              opel\n",
       "371522        mitsubishi\n",
       "371523    sonstige_autos\n",
       "371524             smart\n",
       "371525        volkswagen\n",
       "371526        volkswagen\n",
       "371527               bmw\n",
       "Name: brand, dtype: object"
      ]
     },
     "execution_count": 29,
     "metadata": {},
     "output_type": "execute_result"
    }
   ],
   "source": [
    "brand = autos_data[\"brand\"]\n",
    "\n",
    "brand"
   ]
  },
  {
   "cell_type": "code",
   "execution_count": 30,
   "metadata": {
    "collapsed": false,
    "deletable": true,
    "editable": true,
    "scrolled": true
   },
   "outputs": [
    {
     "data": {
      "text/plain": [
       "0          NaN\n",
       "1           ja\n",
       "2          NaN\n",
       "3         nein\n",
       "4         nein\n",
       "5           ja\n",
       "6         nein\n",
       "7         nein\n",
       "8          NaN\n",
       "9          NaN\n",
       "10        nein\n",
       "11          ja\n",
       "12         NaN\n",
       "13        nein\n",
       "14        nein\n",
       "15         NaN\n",
       "16         NaN\n",
       "17        nein\n",
       "18        nein\n",
       "19        nein\n",
       "20        nein\n",
       "21        nein\n",
       "22        nein\n",
       "23        nein\n",
       "24          ja\n",
       "25          ja\n",
       "26        nein\n",
       "27        nein\n",
       "28        nein\n",
       "29        nein\n",
       "          ... \n",
       "371498     NaN\n",
       "371499    nein\n",
       "371500    nein\n",
       "371501    nein\n",
       "371502    nein\n",
       "371503    nein\n",
       "371504     NaN\n",
       "371505      ja\n",
       "371506    nein\n",
       "371507     NaN\n",
       "371508    nein\n",
       "371509    nein\n",
       "371510    nein\n",
       "371511    nein\n",
       "371512      ja\n",
       "371513    nein\n",
       "371514     NaN\n",
       "371515     NaN\n",
       "371516    nein\n",
       "371517    nein\n",
       "371518    nein\n",
       "371519    nein\n",
       "371520      ja\n",
       "371521    nein\n",
       "371522      ja\n",
       "371523     NaN\n",
       "371524    nein\n",
       "371525    nein\n",
       "371526     NaN\n",
       "371527    nein\n",
       "Name: notRepairedDamage, dtype: object"
      ]
     },
     "execution_count": 30,
     "metadata": {},
     "output_type": "execute_result"
    }
   ],
   "source": [
    "damaged = autos_data[\"notRepairedDamage\"]\n",
    "\n",
    "damaged"
   ]
  },
  {
   "cell_type": "code",
   "execution_count": 31,
   "metadata": {
    "collapsed": false,
    "deletable": true,
    "editable": true,
    "scrolled": true
   },
   "outputs": [
    {
     "data": {
      "text/plain": [
       "0        2016-03-24\n",
       "1        2016-03-24\n",
       "2        2016-03-14\n",
       "3        2016-03-17\n",
       "4        2016-03-31\n",
       "5        2016-04-04\n",
       "6        2016-04-01\n",
       "7        2016-03-21\n",
       "8        2016-04-04\n",
       "9        2016-03-17\n",
       "10       2016-03-26\n",
       "11       2016-04-07\n",
       "12       2016-03-15\n",
       "13       2016-03-21\n",
       "14       2016-03-21\n",
       "15       2016-03-11\n",
       "16       2016-04-01\n",
       "17       2016-03-20\n",
       "18       2016-03-23\n",
       "19       2016-04-01\n",
       "20       2016-04-01\n",
       "21       2016-03-27\n",
       "22       2016-03-23\n",
       "23       2016-03-12\n",
       "24       2016-03-13\n",
       "25       2016-03-18\n",
       "26       2016-03-10\n",
       "27       2016-03-07\n",
       "28       2016-03-09\n",
       "29       2016-03-08\n",
       "            ...    \n",
       "371498   2016-03-11\n",
       "371499   2016-03-08\n",
       "371500   2016-03-21\n",
       "371501   2016-03-26\n",
       "371502   2016-04-01\n",
       "371503   2016-03-31\n",
       "371504   2016-03-07\n",
       "371505   2016-04-03\n",
       "371506   2016-03-20\n",
       "371507   2016-03-16\n",
       "371508   2016-04-02\n",
       "371509   2016-03-11\n",
       "371510   2016-03-05\n",
       "371511   2016-03-31\n",
       "371512   2016-03-25\n",
       "371513   2016-03-21\n",
       "371514   2016-04-04\n",
       "371515   2016-03-09\n",
       "371516   2016-04-04\n",
       "371517   2016-03-28\n",
       "371518   2016-04-02\n",
       "371519   2016-03-09\n",
       "371520   2016-03-19\n",
       "371521   2016-03-27\n",
       "371522   2016-03-21\n",
       "371523   2016-03-14\n",
       "371524   2016-03-05\n",
       "371525   2016-03-19\n",
       "371526   2016-03-20\n",
       "371527   2016-03-07\n",
       "Name: dateCreated, dtype: datetime64[ns]"
      ]
     },
     "execution_count": 31,
     "metadata": {},
     "output_type": "execute_result"
    }
   ],
   "source": [
    "dateCreated = autos_data['dateCreated']\n",
    "\n",
    "dateCreated"
   ]
  },
  {
   "cell_type": "code",
   "execution_count": 32,
   "metadata": {
    "collapsed": false,
    "deletable": true,
    "editable": true,
    "scrolled": true
   },
   "outputs": [
    {
     "data": {
      "text/plain": [
       "0         0\n",
       "1         0\n",
       "2         0\n",
       "3         0\n",
       "4         0\n",
       "5         0\n",
       "6         0\n",
       "7         0\n",
       "8         0\n",
       "9         0\n",
       "10        0\n",
       "11        0\n",
       "12        0\n",
       "13        0\n",
       "14        0\n",
       "15        0\n",
       "16        0\n",
       "17        0\n",
       "18        0\n",
       "19        0\n",
       "20        0\n",
       "21        0\n",
       "22        0\n",
       "23        0\n",
       "24        0\n",
       "25        0\n",
       "26        0\n",
       "27        0\n",
       "28        0\n",
       "29        0\n",
       "         ..\n",
       "371498    0\n",
       "371499    0\n",
       "371500    0\n",
       "371501    0\n",
       "371502    0\n",
       "371503    0\n",
       "371504    0\n",
       "371505    0\n",
       "371506    0\n",
       "371507    0\n",
       "371508    0\n",
       "371509    0\n",
       "371510    0\n",
       "371511    0\n",
       "371512    0\n",
       "371513    0\n",
       "371514    0\n",
       "371515    0\n",
       "371516    0\n",
       "371517    0\n",
       "371518    0\n",
       "371519    0\n",
       "371520    0\n",
       "371521    0\n",
       "371522    0\n",
       "371523    0\n",
       "371524    0\n",
       "371525    0\n",
       "371526    0\n",
       "371527    0\n",
       "Name: nrOfPictures, dtype: int64"
      ]
     },
     "execution_count": 32,
     "metadata": {},
     "output_type": "execute_result"
    }
   ],
   "source": [
    "pictures = autos_data['nrOfPictures']\n",
    "\n",
    "pictures"
   ]
  },
  {
   "cell_type": "code",
   "execution_count": 33,
   "metadata": {
    "collapsed": false,
    "deletable": true,
    "editable": true,
    "scrolled": true
   },
   "outputs": [
    {
     "data": {
      "text/plain": [
       "0         70435\n",
       "1         66954\n",
       "2         90480\n",
       "3         91074\n",
       "4         60437\n",
       "5         33775\n",
       "6         67112\n",
       "7         19348\n",
       "8         94505\n",
       "9         27472\n",
       "10        96224\n",
       "11        57290\n",
       "12        37269\n",
       "13        90762\n",
       "14         4177\n",
       "15        24148\n",
       "16        38871\n",
       "17        65599\n",
       "18        88361\n",
       "19        49565\n",
       "20        75365\n",
       "21        68309\n",
       "22        49716\n",
       "23         9526\n",
       "24        35390\n",
       "25        73765\n",
       "26        31139\n",
       "27        12621\n",
       "28        87471\n",
       "29        86199\n",
       "          ...  \n",
       "371498    65936\n",
       "371499    24850\n",
       "371500    38470\n",
       "371501    34320\n",
       "371502    34414\n",
       "371503    90439\n",
       "371504    61169\n",
       "371505    58730\n",
       "371506     1217\n",
       "371507    56472\n",
       "371508    23820\n",
       "371509    87700\n",
       "371510    60437\n",
       "371511     4275\n",
       "371512    90473\n",
       "371513    45896\n",
       "371514    88477\n",
       "371515    18246\n",
       "371516    48653\n",
       "371517    75223\n",
       "371518    81825\n",
       "371519    51371\n",
       "371520    96465\n",
       "371521    26624\n",
       "371522     2694\n",
       "371523    39576\n",
       "371524    26135\n",
       "371525    87439\n",
       "371526    40764\n",
       "371527    73326\n",
       "Name: postalCode, dtype: int64"
      ]
     },
     "execution_count": 33,
     "metadata": {},
     "output_type": "execute_result"
    }
   ],
   "source": [
    "postCode = autos_data['postalCode']\n",
    "\n",
    "postCode"
   ]
  },
  {
   "cell_type": "code",
   "execution_count": 34,
   "metadata": {
    "collapsed": false,
    "deletable": true,
    "editable": true,
    "scrolled": true
   },
   "outputs": [
    {
     "data": {
      "text/plain": [
       "0        2016-04-07 03:16:57\n",
       "1        2016-04-07 01:46:50\n",
       "2        2016-04-05 12:47:46\n",
       "3        2016-03-17 17:40:17\n",
       "4        2016-04-06 10:17:21\n",
       "5        2016-04-06 19:17:07\n",
       "6        2016-04-05 18:18:39\n",
       "7        2016-03-25 16:47:58\n",
       "8        2016-04-04 23:42:13\n",
       "9        2016-03-31 17:17:06\n",
       "10       2016-04-06 10:45:34\n",
       "11       2016-04-07 10:25:17\n",
       "12       2016-04-01 13:16:16\n",
       "13       2016-03-23 02:50:54\n",
       "14       2016-04-06 07:45:42\n",
       "15       2016-03-19 08:46:47\n",
       "16       2016-04-01 12:46:46\n",
       "17       2016-04-06 13:16:07\n",
       "18       2016-04-05 18:45:11\n",
       "19       2016-04-05 22:46:05\n",
       "20       2016-04-05 16:45:49\n",
       "21       2016-04-07 06:44:26\n",
       "22       2016-03-31 01:16:33\n",
       "23       2016-03-21 01:46:11\n",
       "24       2016-03-13 20:40:49\n",
       "25       2016-03-18 21:44:09\n",
       "26       2016-03-16 09:16:46\n",
       "27       2016-03-26 09:44:53\n",
       "28       2016-03-10 07:44:33\n",
       "29       2016-03-09 11:45:28\n",
       "                 ...        \n",
       "371498   2016-03-17 12:44:29\n",
       "371499   2016-03-13 00:16:40\n",
       "371500   2016-04-07 04:17:32\n",
       "371501   2016-04-06 09:16:04\n",
       "371502   2016-04-07 09:44:29\n",
       "371503   2016-04-07 04:16:26\n",
       "371504   2016-03-08 21:28:38\n",
       "371505   2016-04-05 20:45:39\n",
       "371506   2016-04-07 02:44:27\n",
       "371507   2016-03-18 11:30:17\n",
       "371508   2016-04-06 15:18:04\n",
       "371509   2016-03-12 14:16:51\n",
       "371510   2016-03-12 12:18:05\n",
       "371511   2016-04-06 12:46:41\n",
       "371512   2016-04-07 00:44:51\n",
       "371513   2016-04-06 15:45:01\n",
       "371514   2016-04-06 12:44:52\n",
       "371515   2016-04-04 08:15:30\n",
       "371516   2016-04-06 11:17:13\n",
       "371517   2016-04-02 18:16:20\n",
       "371518   2016-04-06 20:47:12\n",
       "371519   2016-03-13 01:44:13\n",
       "371520   2016-03-19 20:44:43\n",
       "371521   2016-03-29 10:17:23\n",
       "371522   2016-03-21 10:42:49\n",
       "371523   2016-04-06 00:46:52\n",
       "371524   2016-03-11 18:17:12\n",
       "371525   2016-04-07 07:15:26\n",
       "371526   2016-03-24 12:45:21\n",
       "371527   2016-03-22 03:17:10\n",
       "Name: lastSeen, dtype: datetime64[ns]"
      ]
     },
     "execution_count": 34,
     "metadata": {},
     "output_type": "execute_result"
    }
   ],
   "source": [
    "lastSeen = autos_data['lastSeen']\n",
    "\n",
    "lastSeen"
   ]
  },
  {
   "cell_type": "markdown",
   "metadata": {
    "deletable": true,
    "editable": true
   },
   "source": [
    "# Counting Objects in Each Series"
   ]
  },
  {
   "cell_type": "code",
   "execution_count": 35,
   "metadata": {
    "collapsed": false,
    "deletable": true,
    "editable": true,
    "scrolled": true
   },
   "outputs": [
    {
     "data": {
      "text/plain": [
       "2016-03-24 14:49:47    7\n",
       "2016-03-26 22:57:31    6\n",
       "2016-03-19 21:49:56    6\n",
       "2016-03-20 16:50:22    5\n",
       "2016-03-31 16:50:28    5\n",
       "2016-03-22 14:50:05    5\n",
       "2016-03-29 22:50:49    5\n",
       "2016-03-08 15:50:29    5\n",
       "2016-04-01 19:25:23    5\n",
       "2016-04-01 16:52:05    5\n",
       "2016-03-05 14:44:30    5\n",
       "2016-03-22 10:42:10    5\n",
       "2016-03-19 12:50:39    5\n",
       "2016-04-02 14:50:21    5\n",
       "2016-03-26 10:51:07    5\n",
       "2016-04-01 15:56:46    5\n",
       "2016-04-02 21:54:36    5\n",
       "2016-03-16 13:47:44    5\n",
       "2016-03-16 17:43:49    5\n",
       "2016-03-09 13:50:56    5\n",
       "2016-04-02 22:54:55    5\n",
       "2016-03-22 15:50:32    5\n",
       "2016-03-28 10:48:11    5\n",
       "2016-03-21 14:50:20    5\n",
       "2016-03-05 14:25:23    5\n",
       "2016-04-03 13:41:21    5\n",
       "2016-04-04 22:38:11    5\n",
       "2016-03-14 16:51:53    5\n",
       "2016-03-09 16:48:39    5\n",
       "2016-03-31 17:57:07    5\n",
       "                      ..\n",
       "2016-03-16 11:53:34    1\n",
       "2016-03-11 14:52:42    1\n",
       "2016-03-19 16:37:43    1\n",
       "2016-03-30 13:55:25    1\n",
       "2016-03-08 20:36:50    1\n",
       "2016-03-28 10:56:58    1\n",
       "2016-03-14 20:49:40    1\n",
       "2016-03-06 14:47:06    1\n",
       "2016-03-31 14:45:13    1\n",
       "2016-03-20 23:52:53    1\n",
       "2016-03-11 11:25:56    1\n",
       "2016-03-09 13:44:00    1\n",
       "2016-03-11 15:49:37    1\n",
       "2016-03-09 18:37:04    1\n",
       "2016-03-07 01:51:59    1\n",
       "2016-03-23 19:47:32    1\n",
       "2016-03-08 16:57:03    1\n",
       "2016-03-23 13:40:03    1\n",
       "2016-03-20 20:54:58    1\n",
       "2016-03-19 06:03:21    1\n",
       "2016-04-02 20:25:25    1\n",
       "2016-04-03 15:57:57    1\n",
       "2016-03-23 20:57:37    1\n",
       "2016-03-27 08:36:44    1\n",
       "2016-03-21 10:54:08    1\n",
       "2016-03-23 14:50:08    1\n",
       "2016-03-30 14:49:00    1\n",
       "2016-03-09 20:48:09    1\n",
       "2016-03-31 10:57:54    1\n",
       "2016-03-19 17:49:48    1\n",
       "Name: dateCrawled, dtype: int64"
      ]
     },
     "execution_count": 35,
     "metadata": {},
     "output_type": "execute_result"
    }
   ],
   "source": [
    "dateCrawledCount = dateCrawled.value_counts()\n",
    "\n",
    "dateCrawledCount"
   ]
  },
  {
   "cell_type": "code",
   "execution_count": 36,
   "metadata": {
    "collapsed": false,
    "deletable": true,
    "editable": true
   },
   "outputs": [
    {
     "data": {
      "text/plain": [
       "Ford_Fiesta                                                           657\n",
       "BMW_318i                                                              627\n",
       "Opel_Corsa                                                            622\n",
       "Volkswagen_Golf_1.4                                                   603\n",
       "BMW_316i                                                              523\n",
       "BMW_320i                                                              492\n",
       "Volkswagen_Polo                                                       475\n",
       "Renault_Twingo                                                        447\n",
       "Volkswagen_Golf                                                       428\n",
       "Volkswagen_Golf_1.6                                                   413\n",
       "Volkswagen_Polo_1.2                                                   412\n",
       "BMW_116i                                                              394\n",
       "Opel_Corsa_1.2_16V                                                    373\n",
       "Opel_Corsa_B                                                          369\n",
       "Opel_Astra                                                            366\n",
       "Peugeot_206                                                           365\n",
       "Ford_Focus                                                            361\n",
       "Opel_Corsa_1.0_12V                                                    344\n",
       "Renault_Twingo_1.2                                                    322\n",
       "Volkswagen_Passat_Variant_1.9_TDI                                     274\n",
       "Volkswagen_Golf_1.9_TDI                                               273\n",
       "Opel_Astra_1.6                                                        260\n",
       "Audi_A4_Avant_2.0_TDI_DPF                                             254\n",
       "MINI_Mini_Cooper                                                      245\n",
       "Ford_Ka                                                               242\n",
       "Fiat_Punto                                                            242\n",
       "Audi_A4_Avant_1.9_TDI                                                 241\n",
       "Audi_A4_1.6                                                           238\n",
       "MINI_Mini_One                                                         233\n",
       "BMW_520i                                                              226\n",
       "                                                                     ... \n",
       "Golf_2_Oldtimer_tuning_GTI_Kamei_VR6                                    1\n",
       "Volkswagen_Lupo_1.0_T�V_07/17                                           1\n",
       "Fuer_Bastler_oder_zum_aufbereiten_und_selbst_fahren                     1\n",
       "Andere_DKW__F_102                                                       1\n",
       "VW__Sharan                                                              1\n",
       "Porsche_997_Carrera_S_gelb                                              1\n",
       "Honda_civic_zum_ausschlachten                                           1\n",
       "Dacia___Duster                                                          1\n",
       "Audi_A4_1.9_TDI_AHK___KLIMA___SITZHEIZUNG___LEDER                       1\n",
       "Volkswagen_Caddy_Maxi_EcoFuel_7_Sitzer_Comf._Team_Edition               1\n",
       "BMW_328i_touring_Schaltgetriebe_mit_LPG_Prins                           1\n",
       "Volkswagen_Golf_1.4_Trendline_2._Hand_Scheckheftgepflegt                1\n",
       "Seat_Leon__Baujahr_2/2013__77kw__Nicht_fahrbereit                       1\n",
       "Mercedes_Benz_E_350_CDI_DPF_C_BlueEFFICIENCY_7G_TRONIC                  1\n",
       "Toyota_RAV_4_2.2_D_4D_4x4_Automatik_Schiebedac                          1\n",
       "vw_Touran_1_6_fsi                                                       1\n",
       "Mercedes_Benz_SLK_320__Automatik__Leder__Super_Zustand                  1\n",
       "BMW_316_i.__Export                                                      1\n",
       "BMW_E36_GTR_Breitbau__M5_Motor_eingetragen_im_Brief                     1\n",
       "Porsche_996_org._ATM_25_tsd._Km                                         1\n",
       "Mercedes_Benz_W201_2.0D_190er_Original_Zustand_5Gang_ABS_Selten         1\n",
       "BMW_520i__Scheckheft__8_fach_bereift__TOP_Zustand!_Tausch_moeglich      1\n",
       "Mazda_3_center_line_120_ps                                              1\n",
       "Vectra_Caravan                                                          1\n",
       "Audi_TT_Coupe_1.8_T_quattro_20V                                         1\n",
       "Polo_6n_rostfrei_T�V_BIS_07/17                                          1\n",
       "VW_Cross_Polo_1.2_TSI_nur_29700km                                       1\n",
       "Mitsubishi__Colt_/_/_sehr_guter_Zustand                                 1\n",
       "Volkswagen_Golf_1.8_Rolling_Stones_Klima                                1\n",
       "Seat_Inca__1_9_l___DIESEL                                               1\n",
       "Name: name, dtype: int64"
      ]
     },
     "execution_count": 36,
     "metadata": {},
     "output_type": "execute_result"
    }
   ],
   "source": [
    "nameCount = name.value_counts()\n",
    "\n",
    "nameCount"
   ]
  },
  {
   "cell_type": "code",
   "execution_count": 37,
   "metadata": {
    "collapsed": false,
    "deletable": true,
    "editable": true
   },
   "outputs": [
    {
     "data": {
      "text/plain": [
       "privat        371524\n",
       "gewerblich         3\n",
       "Name: seller, dtype: int64"
      ]
     },
     "execution_count": 37,
     "metadata": {},
     "output_type": "execute_result"
    }
   ],
   "source": [
    "sellerCount = seller.value_counts()\n",
    "\n",
    "sellerCount"
   ]
  },
  {
   "cell_type": "code",
   "execution_count": 38,
   "metadata": {
    "collapsed": false,
    "deletable": true,
    "editable": true
   },
   "outputs": [
    {
     "data": {
      "text/plain": [
       "Angebot    371515\n",
       "Gesuch         12\n",
       "Name: offerType, dtype: int64"
      ]
     },
     "execution_count": 38,
     "metadata": {},
     "output_type": "execute_result"
    }
   ],
   "source": [
    "offerTypeCount = offerType.value_counts()\n",
    "\n",
    "offerTypeCount"
   ]
  },
  {
   "cell_type": "code",
   "execution_count": 39,
   "metadata": {
    "collapsed": false,
    "deletable": true,
    "editable": true,
    "scrolled": true
   },
   "outputs": [
    {
     "data": {
      "text/plain": [
       "0          10778\n",
       "500         5670\n",
       "1500        5394\n",
       "1000        4649\n",
       "1200        4594\n",
       "2500        4438\n",
       "600         3819\n",
       "3500        3792\n",
       "800         3784\n",
       "2000        3432\n",
       "999         3364\n",
       "750         3203\n",
       "650         3150\n",
       "4500        3053\n",
       "850         2946\n",
       "2200        2936\n",
       "700         2936\n",
       "1800        2886\n",
       "900         2874\n",
       "950         2793\n",
       "1100        2772\n",
       "1300        2757\n",
       "300         2731\n",
       "3000        2720\n",
       "550         2591\n",
       "1600        2570\n",
       "5500        2543\n",
       "350         2514\n",
       "400         2442\n",
       "1250        2441\n",
       "           ...  \n",
       "2125           1\n",
       "22599          1\n",
       "4782           1\n",
       "8008           1\n",
       "20290          1\n",
       "50100          1\n",
       "3245           1\n",
       "58800          1\n",
       "2795000        1\n",
       "75400          1\n",
       "137999         1\n",
       "19269          1\n",
       "5544           1\n",
       "13485          1\n",
       "3755           1\n",
       "14666          1\n",
       "28995          1\n",
       "4175           1\n",
       "10670          1\n",
       "77             1\n",
       "8265           1\n",
       "145900         1\n",
       "2730           1\n",
       "12973          1\n",
       "42840          1\n",
       "30530          1\n",
       "23456          1\n",
       "171000         1\n",
       "21830          1\n",
       "8188           1\n",
       "Name: price, dtype: int64"
      ]
     },
     "execution_count": 39,
     "metadata": {},
     "output_type": "execute_result"
    }
   ],
   "source": [
    "priceCount = price.value_counts()\n",
    "\n",
    "priceCount"
   ]
  },
  {
   "cell_type": "code",
   "execution_count": 40,
   "metadata": {
    "collapsed": false,
    "deletable": true,
    "editable": true
   },
   "outputs": [
    {
     "data": {
      "text/plain": [
       "test       192584\n",
       "control    178943\n",
       "Name: abtest, dtype: int64"
      ]
     },
     "execution_count": 40,
     "metadata": {},
     "output_type": "execute_result"
    }
   ],
   "source": [
    "abtestCount = abtest.value_counts()\n",
    "\n",
    "abtestCount"
   ]
  },
  {
   "cell_type": "code",
   "execution_count": 41,
   "metadata": {
    "collapsed": false,
    "deletable": true,
    "editable": true
   },
   "outputs": [
    {
     "data": {
      "text/plain": [
       "limousine     95894\n",
       "kleinwagen    80023\n",
       "kombi         67564\n",
       "bus           30201\n",
       "cabrio        22898\n",
       "coupe         19015\n",
       "suv           14707\n",
       "andere         3356\n",
       "Name: vehicleType, dtype: int64"
      ]
     },
     "execution_count": 41,
     "metadata": {},
     "output_type": "execute_result"
    }
   ],
   "source": [
    "vehicleTypeCount = vehicleType.value_counts()\n",
    "\n",
    "vehicleTypeCount"
   ]
  },
  {
   "cell_type": "code",
   "execution_count": 42,
   "metadata": {
    "collapsed": false,
    "deletable": true,
    "editable": true
   },
   "outputs": [
    {
     "data": {
      "text/plain": [
       "2000    24551\n",
       "1999    22767\n",
       "2005    22316\n",
       "2006    20230\n",
       "2001    20218\n",
       "2003    19873\n",
       "2004    19746\n",
       "2002    19189\n",
       "1998    17951\n",
       "2007    17673\n",
       "2008    16175\n",
       "2009    15607\n",
       "1997    14706\n",
       "2010    12354\n",
       "2011    12068\n",
       "1996    10885\n",
       "2017    10546\n",
       "2016     9859\n",
       "1995     9658\n",
       "2012     9418\n",
       "2013     6157\n",
       "1994     4872\n",
       "2014     4802\n",
       "2018     3993\n",
       "1993     3469\n",
       "1992     3048\n",
       "2015     2982\n",
       "1990     2852\n",
       "1991     2810\n",
       "1989     1342\n",
       "        ...  \n",
       "5900        1\n",
       "2066        1\n",
       "6500        1\n",
       "9229        1\n",
       "8500        1\n",
       "8200        1\n",
       "2290        1\n",
       "3700        1\n",
       "1200        1\n",
       "9450        1\n",
       "1001        1\n",
       "1255        1\n",
       "1253        1\n",
       "5600        1\n",
       "3800        1\n",
       "4800        1\n",
       "7100        1\n",
       "5300        1\n",
       "3500        1\n",
       "1911        1\n",
       "2200        1\n",
       "1688        1\n",
       "1925        1\n",
       "3200        1\n",
       "1920        1\n",
       "1919        1\n",
       "1915        1\n",
       "7800        1\n",
       "1400        1\n",
       "8455        1\n",
       "Name: yearOfRegistration, dtype: int64"
      ]
     },
     "execution_count": 42,
     "metadata": {},
     "output_type": "execute_result"
    }
   ],
   "source": [
    "yearOfRegoCount = yearOfRego.value_counts()\n",
    "\n",
    "yearOfRegoCount"
   ]
  },
  {
   "cell_type": "code",
   "execution_count": 43,
   "metadata": {
    "collapsed": false,
    "deletable": true,
    "editable": true
   },
   "outputs": [
    {
     "data": {
      "text/plain": [
       "manuell      274213\n",
       "automatik     77105\n",
       "Name: gearbox, dtype: int64"
      ]
     },
     "execution_count": 43,
     "metadata": {},
     "output_type": "execute_result"
    }
   ],
   "source": [
    "gearboxCount = gearbox.value_counts()\n",
    "\n",
    "gearboxCount"
   ]
  },
  {
   "cell_type": "code",
   "execution_count": 44,
   "metadata": {
    "collapsed": false,
    "deletable": true,
    "editable": true
   },
   "outputs": [
    {
     "data": {
      "text/plain": [
       "0        40820\n",
       "75       24035\n",
       "60       15907\n",
       "150      15442\n",
       "140      13585\n",
       "101      13313\n",
       "90       12748\n",
       "116      11963\n",
       "170      10982\n",
       "105      10429\n",
       "125       7051\n",
       "136       6952\n",
       "102       6500\n",
       "163       6287\n",
       "54        5752\n",
       "143       5547\n",
       "122       5322\n",
       "131       5179\n",
       "110       4862\n",
       "109       4817\n",
       "50        4661\n",
       "80        4050\n",
       "120       3914\n",
       "177       3886\n",
       "58        3855\n",
       "69        3655\n",
       "115       3332\n",
       "95        3023\n",
       "45        2991\n",
       "68        2828\n",
       "         ...  \n",
       "1367         1\n",
       "15017        1\n",
       "685          1\n",
       "7515         1\n",
       "6062         1\n",
       "1625         1\n",
       "1707         1\n",
       "1105         1\n",
       "6226         1\n",
       "584          1\n",
       "332          1\n",
       "8011         1\n",
       "15033        1\n",
       "3144         1\n",
       "442          1\n",
       "953          1\n",
       "3000         1\n",
       "331          1\n",
       "587          1\n",
       "1100         1\n",
       "5809         1\n",
       "952          1\n",
       "696          1\n",
       "589          1\n",
       "1102         1\n",
       "1870         1\n",
       "5815         1\n",
       "16051        1\n",
       "1360         1\n",
       "1398         1\n",
       "Name: powerPS, dtype: int64"
      ]
     },
     "execution_count": 44,
     "metadata": {},
     "output_type": "execute_result"
    }
   ],
   "source": [
    "powerPSCount = powerPS.value_counts()\n",
    "\n",
    "powerPSCount"
   ]
  },
  {
   "cell_type": "markdown",
   "metadata": {
    "deletable": true,
    "editable": true
   },
   "source": [
    "PowerPS will need some cleaning up"
   ]
  },
  {
   "cell_type": "code",
   "execution_count": 45,
   "metadata": {
    "collapsed": false,
    "deletable": true,
    "editable": true
   },
   "outputs": [
    {
     "data": {
      "text/plain": [
       "golf                  30070\n",
       "andere                26400\n",
       "3er                   20567\n",
       "polo                  13092\n",
       "corsa                 12573\n",
       "astra                 10830\n",
       "passat                10306\n",
       "a4                    10257\n",
       "c_klasse               8775\n",
       "5er                    8546\n",
       "e_klasse               7561\n",
       "a3                     6604\n",
       "a6                     6023\n",
       "focus                  5950\n",
       "fiesta                 5775\n",
       "transporter            5528\n",
       "twingo                 4953\n",
       "2_reihe                4816\n",
       "fortwo                 4338\n",
       "a_klasse               4316\n",
       "vectra                 4255\n",
       "1er                    3837\n",
       "mondeo                 3626\n",
       "clio                   3553\n",
       "touran                 3540\n",
       "3_reihe                3503\n",
       "punto                  3349\n",
       "zafira                 3049\n",
       "megane                 2927\n",
       "ibiza                  2702\n",
       "                      ...  \n",
       "mii                      81\n",
       "crossfire                66\n",
       "range_rover_evoque       65\n",
       "gl                       64\n",
       "nubira                   62\n",
       "move                     60\n",
       "lybra                    54\n",
       "145                      50\n",
       "v60                      48\n",
       "croma                    45\n",
       "amarok                   42\n",
       "delta                    40\n",
       "terios                   35\n",
       "lodgy                    35\n",
       "9000                     31\n",
       "charade                  27\n",
       "b_max                    26\n",
       "musa                     25\n",
       "materia                  18\n",
       "200                      18\n",
       "kappa                    15\n",
       "samara                   13\n",
       "elefantino               11\n",
       "i3                       10\n",
       "kalina                    9\n",
       "serie_2                   8\n",
       "rangerover                6\n",
       "serie_3                   4\n",
       "serie_1                   2\n",
       "discovery_sport           1\n",
       "Name: model, dtype: int64"
      ]
     },
     "execution_count": 45,
     "metadata": {},
     "output_type": "execute_result"
    }
   ],
   "source": [
    "modelCount = model.value_counts()\n",
    "\n",
    "modelCount"
   ]
  },
  {
   "cell_type": "code",
   "execution_count": 46,
   "metadata": {
    "collapsed": false,
    "deletable": true,
    "editable": true
   },
   "outputs": [
    {
     "data": {
      "text/plain": [
       "150000    240796\n",
       "125000     38067\n",
       "100000     15920\n",
       "90000      12523\n",
       "80000      11053\n",
       "70000       9773\n",
       "60000       8669\n",
       "50000       7615\n",
       "5000        7069\n",
       "40000       6376\n",
       "30000       6041\n",
       "20000       5676\n",
       "10000       1949\n",
       "Name: kilometer, dtype: int64"
      ]
     },
     "execution_count": 46,
     "metadata": {},
     "output_type": "execute_result"
    }
   ],
   "source": [
    "kmCount = km.value_counts()\n",
    "\n",
    "kmCount"
   ]
  },
  {
   "cell_type": "code",
   "execution_count": 47,
   "metadata": {
    "collapsed": false,
    "deletable": true,
    "editable": true
   },
   "outputs": [
    {
     "data": {
      "text/plain": [
       "       37675\n",
       "Mar    36170\n",
       "Jun    33167\n",
       "Apr    30918\n",
       "May    30631\n",
       "Jul    28958\n",
       "Oct    27337\n",
       "Nov    25489\n",
       "Dec    25380\n",
       "Sep    25074\n",
       "Jan    24560\n",
       "Aug    23765\n",
       "Feb    22403\n",
       "Name: monthOfRegistration, dtype: int64"
      ]
     },
     "execution_count": 47,
     "metadata": {},
     "output_type": "execute_result"
    }
   ],
   "source": [
    "monthOfRegoCount = monthOfRego.value_counts()\n",
    "\n",
    "monthOfRegoCount"
   ]
  },
  {
   "cell_type": "markdown",
   "metadata": {
    "deletable": true,
    "editable": true
   },
   "source": [
    "monthOfRego seems to have an extra column, Cars with no monthOfRego will be assigned to a new variable."
   ]
  },
  {
   "cell_type": "code",
   "execution_count": 48,
   "metadata": {
    "collapsed": false,
    "deletable": true,
    "editable": true
   },
   "outputs": [
    {
     "data": {
      "text/plain": [
       "benzin     223857\n",
       "diesel     107746\n",
       "lpg          5378\n",
       "cng           571\n",
       "hybrid        278\n",
       "andere        207\n",
       "elektro       104\n",
       "Name: fuelType, dtype: int64"
      ]
     },
     "execution_count": 48,
     "metadata": {},
     "output_type": "execute_result"
    }
   ],
   "source": [
    "fuelTypeCount = fuelType.value_counts()\n",
    "\n",
    "fuelTypeCount"
   ]
  },
  {
   "cell_type": "code",
   "execution_count": 49,
   "metadata": {
    "collapsed": false,
    "deletable": true,
    "editable": true,
    "scrolled": true
   },
   "outputs": [
    {
     "data": {
      "text/plain": [
       "volkswagen        79640\n",
       "bmw               40274\n",
       "opel              40136\n",
       "mercedes_benz     35309\n",
       "audi              32873\n",
       "ford              25573\n",
       "renault           17969\n",
       "peugeot           11027\n",
       "fiat               9676\n",
       "seat               7022\n",
       "mazda              5695\n",
       "skoda              5641\n",
       "smart              5249\n",
       "citroen            5182\n",
       "nissan             5037\n",
       "toyota             4694\n",
       "sonstige_autos     3981\n",
       "hyundai            3646\n",
       "mini               3394\n",
       "volvo              3327\n",
       "mitsubishi         3061\n",
       "honda              2836\n",
       "kia                2555\n",
       "alfa_romeo         2345\n",
       "suzuki             2328\n",
       "porsche            2215\n",
       "chevrolet          1845\n",
       "chrysler           1452\n",
       "dacia               900\n",
       "jeep                807\n",
       "daihatsu            806\n",
       "subaru              779\n",
       "land_rover          770\n",
       "jaguar              621\n",
       "trabant             591\n",
       "daewoo              542\n",
       "saab                530\n",
       "rover               490\n",
       "lancia              484\n",
       "lada                225\n",
       "Name: brand, dtype: int64"
      ]
     },
     "execution_count": 49,
     "metadata": {},
     "output_type": "execute_result"
    }
   ],
   "source": [
    "brandCount = brand.value_counts()\n",
    "\n",
    "brandCount"
   ]
  },
  {
   "cell_type": "code",
   "execution_count": 50,
   "metadata": {
    "collapsed": false,
    "deletable": true,
    "editable": true
   },
   "outputs": [
    {
     "data": {
      "text/plain": [
       "nein    263182\n",
       "ja       36285\n",
       "Name: notRepairedDamage, dtype: int64"
      ]
     },
     "execution_count": 50,
     "metadata": {},
     "output_type": "execute_result"
    }
   ],
   "source": [
    "damagedCount = damaged.value_counts()\n",
    "\n",
    "damagedCount"
   ]
  },
  {
   "cell_type": "code",
   "execution_count": 51,
   "metadata": {
    "collapsed": false,
    "deletable": true,
    "editable": true,
    "scrolled": true
   },
   "outputs": [
    {
     "data": {
      "text/plain": [
       "2016-04-03    14450\n",
       "2016-04-04    14022\n",
       "2016-03-20    13547\n",
       "2016-03-12    13379\n",
       "2016-03-21    13305\n",
       "2016-03-14    13088\n",
       "2016-03-28    13069\n",
       "2016-04-02    12991\n",
       "2016-03-07    12821\n",
       "2016-03-19    12752\n",
       "2016-03-09    12723\n",
       "2016-03-29    12714\n",
       "2016-04-01    12623\n",
       "2016-03-30    12402\n",
       "2016-03-15    12399\n",
       "2016-03-08    12396\n",
       "2016-03-25    12264\n",
       "2016-03-11    12180\n",
       "2016-03-10    12050\n",
       "2016-03-22    11958\n",
       "2016-03-26    11920\n",
       "2016-03-31    11872\n",
       "2016-03-23    11856\n",
       "2016-03-17    11610\n",
       "2016-03-16    11285\n",
       "2016-03-27    11161\n",
       "2016-03-24    11132\n",
       "2016-03-05     8528\n",
       "2016-03-13     6318\n",
       "2016-03-06     5752\n",
       "              ...  \n",
       "2016-01-20        2\n",
       "2016-01-18        2\n",
       "2015-11-23        2\n",
       "2016-01-22        2\n",
       "2015-11-24        2\n",
       "2016-01-16        2\n",
       "2016-02-04        2\n",
       "2016-01-14        1\n",
       "2015-12-28        1\n",
       "2015-03-20        1\n",
       "2015-12-06        1\n",
       "2015-11-08        1\n",
       "2015-10-14        1\n",
       "2015-06-18        1\n",
       "2015-06-11        1\n",
       "2015-12-17        1\n",
       "2015-11-10        1\n",
       "2015-08-07        1\n",
       "2015-12-27        1\n",
       "2016-01-06        1\n",
       "2016-01-15        1\n",
       "2015-11-17        1\n",
       "2014-03-10        1\n",
       "2015-11-12        1\n",
       "2016-01-03        1\n",
       "2016-01-08        1\n",
       "2015-08-10        1\n",
       "2015-11-02        1\n",
       "2015-11-13        1\n",
       "2015-09-09        1\n",
       "Name: dateCreated, dtype: int64"
      ]
     },
     "execution_count": 51,
     "metadata": {},
     "output_type": "execute_result"
    }
   ],
   "source": [
    "dateCreatedCount = dateCreated.value_counts()\n",
    "\n",
    "dateCreatedCount"
   ]
  },
  {
   "cell_type": "code",
   "execution_count": 52,
   "metadata": {
    "collapsed": false,
    "deletable": true,
    "editable": true
   },
   "outputs": [
    {
     "data": {
      "text/plain": [
       "0    371527\n",
       "Name: nrOfPictures, dtype: int64"
      ]
     },
     "execution_count": 52,
     "metadata": {},
     "output_type": "execute_result"
    }
   ],
   "source": [
    "picturesCount = pictures.value_counts()\n",
    "\n",
    "picturesCount"
   ]
  },
  {
   "cell_type": "markdown",
   "metadata": {
    "deletable": true,
    "editable": true
   },
   "source": [
    "Seems to be a bug, non of the listings have pictures"
   ]
  },
  {
   "cell_type": "code",
   "execution_count": 53,
   "metadata": {
    "collapsed": false,
    "deletable": true,
    "editable": true,
    "scrolled": true
   },
   "outputs": [
    {
     "data": {
      "text/plain": [
       "10115    828\n",
       "65428    637\n",
       "66333    349\n",
       "38518    326\n",
       "44145    323\n",
       "32257    323\n",
       "52525    314\n",
       "78224    309\n",
       "26789    301\n",
       "48599    294\n",
       "13357    293\n",
       "53757    284\n",
       "50354    283\n",
       "40764    282\n",
       "48249    282\n",
       "60311    281\n",
       "51065    278\n",
       "52249    277\n",
       "60386    275\n",
       "61169    269\n",
       "92637    266\n",
       "26871    265\n",
       "66424    265\n",
       "56070    262\n",
       "45881    262\n",
       "65719    261\n",
       "13409    257\n",
       "87700    257\n",
       "59192    254\n",
       "44339    254\n",
       "        ... \n",
       "55499      1\n",
       "67311      1\n",
       "21784      1\n",
       "38325      1\n",
       "63874      1\n",
       "21360      1\n",
       "95356      1\n",
       "26906      1\n",
       "29361      1\n",
       "17154      1\n",
       "79685      1\n",
       "91471      1\n",
       "88376      1\n",
       "77787      1\n",
       "95694      1\n",
       "27254      1\n",
       "60306      1\n",
       "7619       1\n",
       "29587      1\n",
       "91465      1\n",
       "25946      1\n",
       "4685       1\n",
       "98749      1\n",
       "74937      1\n",
       "24638      1\n",
       "97859      1\n",
       "29484      1\n",
       "85071      1\n",
       "17329      1\n",
       "37297      1\n",
       "Name: postalCode, dtype: int64"
      ]
     },
     "execution_count": 53,
     "metadata": {},
     "output_type": "execute_result"
    }
   ],
   "source": [
    "postCodeCount = postCode.value_counts()\n",
    "\n",
    "postCodeCount"
   ]
  },
  {
   "cell_type": "code",
   "execution_count": 54,
   "metadata": {
    "collapsed": false,
    "deletable": true,
    "editable": true,
    "scrolled": true
   },
   "outputs": [
    {
     "data": {
      "text/plain": [
       "2016-04-06 13:45:54    17\n",
       "2016-04-07 06:45:59    17\n",
       "2016-04-07 07:17:35    16\n",
       "2016-04-06 09:44:33    16\n",
       "2016-04-06 04:15:59    16\n",
       "2016-04-06 02:45:52    16\n",
       "2016-04-06 04:17:20    16\n",
       "2016-04-06 12:15:45    16\n",
       "2016-04-06 09:46:00    16\n",
       "2016-04-06 13:15:54    16\n",
       "2016-04-07 09:46:25    16\n",
       "2016-04-07 06:44:26    16\n",
       "2016-04-06 01:16:21    16\n",
       "2016-04-06 05:45:43    16\n",
       "2016-04-07 13:17:48    16\n",
       "2016-04-06 08:46:30    16\n",
       "2016-04-07 06:45:32    16\n",
       "2016-04-07 09:44:27    16\n",
       "2016-04-07 00:45:17    16\n",
       "2016-04-06 17:46:58    16\n",
       "2016-04-06 22:44:53    16\n",
       "2016-04-07 08:16:54    16\n",
       "2016-04-06 10:15:26    16\n",
       "2016-04-06 07:45:46    16\n",
       "2016-04-07 09:45:10    16\n",
       "2016-04-06 09:17:58    16\n",
       "2016-04-07 09:15:43    16\n",
       "2016-04-07 07:46:26    16\n",
       "2016-04-07 00:46:04    16\n",
       "2016-04-06 10:18:03    16\n",
       "                       ..\n",
       "2016-04-03 12:58:34     1\n",
       "2016-04-02 05:16:06     1\n",
       "2016-03-22 07:48:52     1\n",
       "2016-03-26 09:41:00     1\n",
       "2016-03-14 19:41:48     1\n",
       "2016-03-17 09:16:59     1\n",
       "2016-03-14 16:31:22     1\n",
       "2016-03-30 08:47:26     1\n",
       "2016-04-02 00:18:42     1\n",
       "2016-04-04 14:36:53     1\n",
       "2016-03-16 17:21:38     1\n",
       "2016-04-02 10:46:57     1\n",
       "2016-03-10 19:46:38     1\n",
       "2016-03-18 06:51:03     1\n",
       "2016-03-17 15:15:50     1\n",
       "2016-04-03 13:16:36     1\n",
       "2016-03-30 12:44:33     1\n",
       "2016-03-30 16:17:47     1\n",
       "2016-03-16 23:46:11     1\n",
       "2016-04-04 14:53:57     1\n",
       "2016-03-22 03:17:42     1\n",
       "2016-04-01 23:18:25     1\n",
       "2016-03-08 15:15:59     1\n",
       "2016-03-21 06:18:47     1\n",
       "2016-03-11 10:42:46     1\n",
       "2016-03-29 15:51:48     1\n",
       "2016-03-20 18:36:54     1\n",
       "2016-03-27 09:47:07     1\n",
       "2016-03-30 18:42:14     1\n",
       "2016-03-30 15:16:50     1\n",
       "Name: lastSeen, dtype: int64"
      ]
     },
     "execution_count": 54,
     "metadata": {},
     "output_type": "execute_result"
    }
   ],
   "source": [
    "lastSeenCount = lastSeen.value_counts()\n",
    "\n",
    "lastSeenCount"
   ]
  },
  {
   "cell_type": "markdown",
   "metadata": {
    "deletable": true,
    "editable": true
   },
   "source": [
    "LastSeen could indicate the date/time of the car sold."
   ]
  },
  {
   "cell_type": "markdown",
   "metadata": {
    "deletable": true,
    "editable": true
   },
   "source": [
    "# The variables ‘name’, ‘seller’, ‘offerType’, ‘abtest’ and ‘nrOfPictures’ are not meaningful data, and will be removed."
   ]
  },
  {
   "cell_type": "code",
   "execution_count": 55,
   "metadata": {
    "collapsed": false,
    "deletable": true,
    "editable": true,
    "scrolled": true
   },
   "outputs": [
    {
     "data": {
      "text/plain": [
       "Index([u'dateCrawled', u'price', u'vehicleType', u'yearOfRegistration',\n",
       "       u'gearbox', u'powerPS', u'model', u'kilometer', u'monthOfRegistration',\n",
       "       u'fuelType', u'brand', u'notRepairedDamage', u'dateCreated',\n",
       "       u'postalCode', u'lastSeen'],\n",
       "      dtype='object')"
      ]
     },
     "execution_count": 55,
     "metadata": {},
     "output_type": "execute_result"
    }
   ],
   "source": [
    "# dropping variables 'name', 'seller','offerType', 'abtest', 'nrOfPictures'\n",
    "\n",
    "autos_data.drop('name', axis=1, inplace=True)\n",
    "autos_data.drop('seller', axis=1, inplace=True)\n",
    "autos_data.drop('offerType', axis=1, inplace=True)\n",
    "autos_data.drop('abtest', axis=1, inplace=True)\n",
    "autos_data.drop('nrOfPictures', axis=1, inplace=True)\n",
    "\n",
    "autos_data.columns"
   ]
  },
  {
   "cell_type": "code",
   "execution_count": 56,
   "metadata": {
    "collapsed": false,
    "deletable": true,
    "editable": true
   },
   "outputs": [
    {
     "data": {
      "text/plain": [
       "<matplotlib.axes._subplots.AxesSubplot at 0x7fae27579850>"
      ]
     },
     "execution_count": 56,
     "metadata": {},
     "output_type": "execute_result"
    },
    {
     "data": {
      "image/png": "[encoded data removed]",
      "text/plain": [
       "<matplotlib.figure.Figure at 0x7fae2b8a5950>"
      ]
     },
     "metadata": {},
     "output_type": "display_data"
    }
   ],
   "source": [
    "brandCount.plot(kind=\"bar\")"
   ]
  },
  {
   "cell_type": "markdown",
   "metadata": {
    "collapsed": true,
    "deletable": true,
    "editable": true
   },
   "source": [
    "VolksWagen is truely the volk's wagen"
   ]
  },
  {
   "cell_type": "code",
   "execution_count": null,
   "metadata": {
    "collapsed": false,
    "deletable": true,
    "editable": true
   },
   "outputs": [],
   "source": []
  },
  {
   "cell_type": "code",
   "execution_count": 57,
   "metadata": {
    "collapsed": false,
    "deletable": true,
    "editable": true
   },
   "outputs": [
    {
     "data": {
      "text/plain": [
       "<matplotlib.axes._subplots.AxesSubplot at 0x7fae2b6c2590>"
      ]
     },
     "execution_count": 57,
     "metadata": {},
     "output_type": "execute_result"
    },
    {
     "data": {
      "image/png": "[encoded data removed]",
      "text/plain": [
       "<matplotlib.figure.Figure at 0x7fae2b6cde50>"
      ]
     },
     "metadata": {},
     "output_type": "display_data"
    }
   ],
   "source": [
    "autos_data['price'].plot()"
   ]
  },
  {
   "cell_type": "code",
   "execution_count": 58,
   "metadata": {
    "collapsed": false,
    "deletable": true,
    "editable": true
   },
   "outputs": [
    {
     "data": {
      "text/plain": [
       "<matplotlib.axes._subplots.AxesSubplot at 0x7fae291e8a50>"
      ]
     },
     "execution_count": 58,
     "metadata": {},
     "output_type": "execute_result"
    },
    {
     "data": {
      "image/png": "[encoded data removed]",
      "text/plain": [
       "<matplotlib.figure.Figure at 0x7fae31e42610>"
      ]
     },
     "metadata": {},
     "output_type": "display_data"
    }
   ],
   "source": [
    "autos_data['price'].hist()"
   ]
  },
  {
   "cell_type": "code",
   "execution_count": 59,
   "metadata": {
    "collapsed": false,
    "deletable": true,
    "editable": true
   },
   "outputs": [
    {
     "data": {
      "text/plain": [
       "<matplotlib.axes._subplots.AxesSubplot at 0x7fae2b4ff5d0>"
      ]
     },
     "execution_count": 59,
     "metadata": {},
     "output_type": "execute_result"
    },
    {
     "data": {
      "image/png": "[encoded data removed]",
      "text/plain": [
       "<matplotlib.figure.Figure at 0x7fae59e8f4d0>"
      ]
     },
     "metadata": {},
     "output_type": "display_data"
    }
   ],
   "source": [
    "autos_data['price'][autos_data['price'] < 40000].hist()"
   ]
  },
  {
   "cell_type": "code",
   "execution_count": 60,
   "metadata": {
    "collapsed": false,
    "deletable": true,
    "editable": true
   },
   "outputs": [
    {
     "data": {
      "text/plain": [
       "<matplotlib.axes._subplots.AxesSubplot at 0x7fae2b4db9d0>"
      ]
     },
     "execution_count": 60,
     "metadata": {},
     "output_type": "execute_result"
    },
    {
     "data": {
      "image/png": "[encoded data removed]",
      "text/plain": [
       "<matplotlib.figure.Figure at 0x7fae59e894d0>"
      ]
     },
     "metadata": {},
     "output_type": "display_data"
    }
   ],
   "source": [
    "autos_data['price'][autos_data['price'] < 30000].hist()"
   ]
  },
  {
   "cell_type": "code",
   "execution_count": 61,
   "metadata": {
    "collapsed": false,
    "deletable": true,
    "editable": true
   },
   "outputs": [
    {
     "data": {
      "text/plain": [
       "volkswagen        79640\n",
       "bmw               40274\n",
       "opel              40136\n",
       "mercedes_benz     35309\n",
       "audi              32873\n",
       "ford              25573\n",
       "renault           17969\n",
       "peugeot           11027\n",
       "fiat               9676\n",
       "seat               7022\n",
       "mazda              5695\n",
       "skoda              5641\n",
       "smart              5249\n",
       "citroen            5182\n",
       "nissan             5037\n",
       "toyota             4694\n",
       "sonstige_autos     3981\n",
       "hyundai            3646\n",
       "mini               3394\n",
       "volvo              3327\n",
       "mitsubishi         3061\n",
       "honda              2836\n",
       "kia                2555\n",
       "alfa_romeo         2345\n",
       "suzuki             2328\n",
       "porsche            2215\n",
       "chevrolet          1845\n",
       "chrysler           1452\n",
       "dacia               900\n",
       "jeep                807\n",
       "daihatsu            806\n",
       "subaru              779\n",
       "land_rover          770\n",
       "jaguar              621\n",
       "trabant             591\n",
       "daewoo              542\n",
       "saab                530\n",
       "rover               490\n",
       "lancia              484\n",
       "lada                225\n",
       "Name: brand, dtype: int64"
      ]
     },
     "execution_count": 61,
     "metadata": {},
     "output_type": "execute_result"
    }
   ],
   "source": [
    "autos_data['brand'].value_counts()"
   ]
  },
  {
   "cell_type": "code",
   "execution_count": 62,
   "metadata": {
    "collapsed": false,
    "deletable": true,
    "editable": true
   },
   "outputs": [
    {
     "data": {
      "text/plain": [
       "<matplotlib.axes._subplots.AxesSubplot at 0x7fae2b35a110>"
      ]
     },
     "execution_count": 62,
     "metadata": {},
     "output_type": "execute_result"
    },
    {
     "data": {
      "image/png": "[encoded data removed]",
      "text/plain": [
       "<matplotlib.figure.Figure at 0x7fae2b2e9710>"
      ]
     },
     "metadata": {},
     "output_type": "display_data"
    }
   ],
   "source": [
    "autos_data['brand'].value_counts().plot(kind=\"bar\")"
   ]
  },
  {
   "cell_type": "code",
   "execution_count": 63,
   "metadata": {
    "collapsed": false,
    "deletable": true,
    "editable": true
   },
   "outputs": [
    {
     "data": {
      "text/plain": [
       "0        40820\n",
       "75       24035\n",
       "60       15907\n",
       "150      15442\n",
       "140      13585\n",
       "101      13313\n",
       "90       12748\n",
       "116      11963\n",
       "170      10982\n",
       "105      10429\n",
       "125       7051\n",
       "136       6952\n",
       "102       6500\n",
       "163       6287\n",
       "54        5752\n",
       "143       5547\n",
       "122       5322\n",
       "131       5179\n",
       "110       4862\n",
       "109       4817\n",
       "50        4661\n",
       "80        4050\n",
       "120       3914\n",
       "177       3886\n",
       "58        3855\n",
       "69        3655\n",
       "115       3332\n",
       "95        3023\n",
       "45        2991\n",
       "68        2828\n",
       "         ...  \n",
       "1367         1\n",
       "15017        1\n",
       "685          1\n",
       "7515         1\n",
       "6062         1\n",
       "1625         1\n",
       "1707         1\n",
       "1105         1\n",
       "6226         1\n",
       "584          1\n",
       "332          1\n",
       "8011         1\n",
       "15033        1\n",
       "3144         1\n",
       "442          1\n",
       "953          1\n",
       "3000         1\n",
       "331          1\n",
       "587          1\n",
       "1100         1\n",
       "5809         1\n",
       "952          1\n",
       "696          1\n",
       "589          1\n",
       "1102         1\n",
       "1870         1\n",
       "5815         1\n",
       "16051        1\n",
       "1360         1\n",
       "1398         1\n",
       "Name: powerPS, dtype: int64"
      ]
     },
     "execution_count": 63,
     "metadata": {},
     "output_type": "execute_result"
    }
   ],
   "source": [
    "autos_data['powerPS'].value_counts()"
   ]
  },
  {
   "cell_type": "markdown",
   "metadata": {
    "deletable": true,
    "editable": true
   },
   "source": [
    "0 powerPS assuming car is not running"
   ]
  },
  {
   "cell_type": "code",
   "execution_count": 64,
   "metadata": {
    "collapsed": false,
    "deletable": true,
    "editable": true
   },
   "outputs": [
    {
     "data": {
      "image/png": "[encoded data removed]",
      "text/plain": [
       "<matplotlib.figure.Figure at 0x7fae2b1a7bd0>"
      ]
     },
     "metadata": {},
     "output_type": "display_data"
    }
   ],
   "source": [
    "capped_powerPS = autos_data[\"powerPS\"][autos_data['powerPS'] < 500]\n",
    "\n",
    "plt.hist(capped_powerPS)\n",
    "plt.show()"
   ]
  },
  {
   "cell_type": "code",
   "execution_count": 65,
   "metadata": {
    "collapsed": false,
    "deletable": true,
    "editable": true
   },
   "outputs": [
    {
     "data": {
      "image/png": "[encoded data removed]",
      "text/plain": [
       "<matplotlib.figure.Figure at 0x7fae2b16f0d0>"
      ]
     },
     "metadata": {},
     "output_type": "display_data"
    }
   ],
   "source": [
    "plt.hist(capped_powerPS, bins=10, facecolor='blue', alpha=0.2)\n",
    "plt.hist(capped_powerPS, bins=100, facecolor='green', alpha=1)\n",
    "plt.show()"
   ]
  },
  {
   "cell_type": "code",
   "execution_count": 66,
   "metadata": {
    "collapsed": false,
    "deletable": true,
    "editable": true,
    "scrolled": true
   },
   "outputs": [
    {
     "data": {
      "image/png": "[encoded data removed]",
      "text/plain": [
       "<matplotlib.figure.Figure at 0x7fae291ff050>"
      ]
     },
     "metadata": {},
     "output_type": "display_data"
    }
   ],
   "source": [
    "plt.hist(capped_powerPS, bins=100)\n",
    "plt.show()"
   ]
  },
  {
   "cell_type": "code",
   "execution_count": 67,
   "metadata": {
    "collapsed": false,
    "deletable": true,
    "editable": true
   },
   "outputs": [
    {
     "data": {
      "image/png": "[encoded data removed]",
      "text/plain": [
       "<matplotlib.figure.Figure at 0x7fae2a46c890>"
      ]
     },
     "metadata": {},
     "output_type": "display_data"
    }
   ],
   "source": [
    "capped_price = autos_data[\"price\"][autos_data['price'] < 40000]\n",
    "\n",
    "plt.hist(capped_price)\n",
    "plt.show()"
   ]
  },
  {
   "cell_type": "code",
   "execution_count": 68,
   "metadata": {
    "collapsed": false,
    "deletable": true,
    "editable": true
   },
   "outputs": [
    {
     "data": {
      "image/png": "[encoded data removed]",
      "text/plain": [
       "<matplotlib.figure.Figure at 0x7fae2a372390>"
      ]
     },
     "metadata": {},
     "output_type": "display_data"
    }
   ],
   "source": [
    "plt.hist(capped_price, bins=10, facecolor='blue', alpha=0.2)\n",
    "plt.hist(capped_price, bins=100, facecolor='green', alpha=1)\n",
    "plt.show()"
   ]
  },
  {
   "cell_type": "code",
   "execution_count": 69,
   "metadata": {
    "collapsed": false,
    "deletable": true,
    "editable": true,
    "scrolled": true
   },
   "outputs": [
    {
     "data": {
      "image/png": "[encoded data removed]",
      "text/plain": [
       "<matplotlib.figure.Figure at 0x7fae2a372850>"
      ]
     },
     "metadata": {},
     "output_type": "display_data"
    }
   ],
   "source": [
    "plt.hist(capped_price, bins=100)\n",
    "plt.show()"
   ]
  },
  {
   "cell_type": "code",
   "execution_count": 70,
   "metadata": {
    "collapsed": false,
    "deletable": true,
    "editable": true
   },
   "outputs": [
    {
     "data": {
      "image/png": "[encoded data removed]",
      "text/plain": [
       "<matplotlib.figure.Figure at 0x7fae29f5dfd0>"
      ]
     },
     "metadata": {},
     "output_type": "display_data"
    }
   ],
   "source": [
    "number_of_bins = 100\n",
    "lower_bound = 0\n",
    "upper_bound = 40000\n",
    "plt.hist(autos_data[\"price\"], bins=number_of_bins, range=(lower_bound, upper_bound))\n",
    "plt.show()"
   ]
  },
  {
   "cell_type": "code",
   "execution_count": 71,
   "metadata": {
    "collapsed": false,
    "deletable": true,
    "editable": true
   },
   "outputs": [
    {
     "data": {
      "image/png": "[encoded data removed]",
      "text/plain": [
       "<matplotlib.figure.Figure at 0x7fae2a199350>"
      ]
     },
     "metadata": {},
     "output_type": "display_data"
    }
   ],
   "source": [
    "number_of_bins = 100\n",
    "lower_bound = 0\n",
    "upper_bound = 40000\n",
    "\n",
    "plt.hist(autos_data[\"price\"], bins=number_of_bins, range=(lower_bound, upper_bound))\n",
    "plt.title(\"Amount of cars sold between \\${} and \\${}\".format(\"0\", str(upper_bound)), fontsize=18)\n",
    "plt.xlabel('$ value of cars', fontsize=26)\n",
    "plt.ylabel('Count', fontsize=26)\n",
    "plt.grid(True)\n",
    "plt.show()"
   ]
  },
  {
   "cell_type": "code",
   "execution_count": 72,
   "metadata": {
    "collapsed": false,
    "deletable": true,
    "editable": true
   },
   "outputs": [
    {
     "data": {
      "image/png": "[encoded data removed]",
      "text/plain": [
       "<matplotlib.figure.Figure at 0x7fae2a20c7d0>"
      ]
     },
     "metadata": {},
     "output_type": "display_data"
    }
   ],
   "source": [
    "number_of_bins = 20\n",
    "lower_bound = 0\n",
    "upper_bound = 200000\n",
    "\n",
    "plt.hist(autos_data[\"kilometer\"], bins=number_of_bins, range=(lower_bound, upper_bound))\n",
    "plt.title(\"Cars driven between {}kms and {}kms\".format(\"0\", str(upper_bound)), fontsize=18)\n",
    "plt.xlabel('kms driven', fontsize=26)\n",
    "plt.ylabel('Count', fontsize=26)\n",
    "plt.grid(True)\n",
    "plt.show()"
   ]
  },
  {
   "cell_type": "code",
   "execution_count": 73,
   "metadata": {
    "collapsed": false,
    "deletable": true,
    "editable": true,
    "scrolled": true
   },
   "outputs": [
    {
     "data": {
      "image/png": "[encoded data removed]",
      "text/plain": [
       "<matplotlib.figure.Figure at 0x7fae2a493050>"
      ]
     },
     "metadata": {},
     "output_type": "display_data"
    }
   ],
   "source": [
    "number_of_bins = 100\n",
    "lower_bound = 0\n",
    "upper_bound = 500\n",
    "\n",
    "plt.hist(autos_data[\"powerPS\"], bins=number_of_bins, range=(lower_bound, upper_bound))\n",
    "plt.title(\"Amount of cars sold between \\${} and \\${}\".format(\"0\", str(upper_bound)), fontsize=18)\n",
    "plt.xlabel('$ value of cars', fontsize=26)\n",
    "plt.ylabel('Count', fontsize=26)\n",
    "plt.grid(True)\n",
    "plt.show()"
   ]
  },
  {
   "cell_type": "code",
   "execution_count": 74,
   "metadata": {
    "collapsed": false,
    "deletable": true,
    "editable": true
   },
   "outputs": [
    {
     "data": {
      "text/plain": [
       "<matplotlib.axes._subplots.AxesSubplot at 0x7fae2ac89490>"
      ]
     },
     "execution_count": 74,
     "metadata": {},
     "output_type": "execute_result"
    },
    {
     "data": {
      "image/png": "[encoded data removed]",
      "text/plain": [
       "<matplotlib.figure.Figure at 0x7fae2b186690>"
      ]
     },
     "metadata": {},
     "output_type": "display_data"
    }
   ],
   "source": [
    "autos_data[\"brand\"].value_counts().plot(kind=\"bar\")"
   ]
  },
  {
   "cell_type": "code",
   "execution_count": 75,
   "metadata": {
    "collapsed": false,
    "deletable": true,
    "editable": true,
    "scrolled": true
   },
   "outputs": [
    {
     "data": {
      "text/plain": [
       "<matplotlib.axes._subplots.AxesSubplot at 0x7fae2a45a090>"
      ]
     },
     "execution_count": 75,
     "metadata": {},
     "output_type": "execute_result"
    },
    {
     "data": {
      "image/png": "[encoded data removed]",
      "text/plain": [
       "<matplotlib.figure.Figure at 0x7fae2a351210>"
      ]
     },
     "metadata": {},
     "output_type": "display_data"
    }
   ],
   "source": [
    "autos_data[\"model\"].value_counts().plot(kind=\"bar\")"
   ]
  },
  {
   "cell_type": "code",
   "execution_count": 76,
   "metadata": {
    "collapsed": false,
    "deletable": true,
    "editable": true
   },
   "outputs": [
    {
     "data": {
      "text/plain": [
       "<matplotlib.axes._subplots.AxesSubplot at 0x7fae2a085f90>"
      ]
     },
     "execution_count": 76,
     "metadata": {},
     "output_type": "execute_result"
    },
    {
     "data": {
      "image/png": "[encoded data removed]",
      "text/plain": [
       "<matplotlib.figure.Figure at 0x7fae2a901990>"
      ]
     },
     "metadata": {},
     "output_type": "display_data"
    }
   ],
   "source": [
    "vehicleTypeCount.plot(kind=\"bar\")\n",
    "# autos_data[\"vehicleType\"].value_counts().plot(kind=\"bar\")"
   ]
  },
  {
   "cell_type": "code",
   "execution_count": 77,
   "metadata": {
    "collapsed": false,
    "deletable": true,
    "editable": true,
    "scrolled": true
   },
   "outputs": [
    {
     "data": {
      "text/plain": [
       "<matplotlib.axes._subplots.AxesSubplot at 0x7fae29bcb350>"
      ]
     },
     "execution_count": 77,
     "metadata": {},
     "output_type": "execute_result"
    },
    {
     "data": {
      "image/png": "[encoded data removed]",
      "text/plain": [
       "<matplotlib.figure.Figure at 0x7fae29bc73d0>"
      ]
     },
     "metadata": {},
     "output_type": "display_data"
    }
   ],
   "source": [
    "autos_data[\"kilometer\"].value_counts().plot(kind=\"bar\")"
   ]
  },
  {
   "cell_type": "code",
   "execution_count": 78,
   "metadata": {
    "collapsed": false,
    "deletable": true,
    "editable": true,
    "scrolled": true
   },
   "outputs": [
    {
     "data": {
      "text/plain": [
       "2000    24551\n",
       "1999    22767\n",
       "2005    22316\n",
       "2006    20230\n",
       "2001    20218\n",
       "2003    19873\n",
       "2004    19746\n",
       "2002    19189\n",
       "1998    17951\n",
       "2007    17673\n",
       "2008    16175\n",
       "2009    15607\n",
       "1997    14706\n",
       "2010    12354\n",
       "2011    12068\n",
       "1996    10885\n",
       "2017    10546\n",
       "2016     9859\n",
       "1995     9658\n",
       "2012     9418\n",
       "2013     6157\n",
       "1994     4872\n",
       "2014     4802\n",
       "2018     3993\n",
       "1993     3469\n",
       "1992     3048\n",
       "2015     2982\n",
       "1990     2852\n",
       "1991     2810\n",
       "1989     1342\n",
       "        ...  \n",
       "5900        1\n",
       "2066        1\n",
       "6500        1\n",
       "9229        1\n",
       "8500        1\n",
       "8200        1\n",
       "2290        1\n",
       "3700        1\n",
       "1200        1\n",
       "9450        1\n",
       "1001        1\n",
       "1255        1\n",
       "1253        1\n",
       "5600        1\n",
       "3800        1\n",
       "4800        1\n",
       "7100        1\n",
       "5300        1\n",
       "3500        1\n",
       "1911        1\n",
       "2200        1\n",
       "1688        1\n",
       "1925        1\n",
       "3200        1\n",
       "1920        1\n",
       "1919        1\n",
       "1915        1\n",
       "7800        1\n",
       "1400        1\n",
       "8455        1\n",
       "Name: yearOfRegistration, dtype: int64"
      ]
     },
     "execution_count": 78,
     "metadata": {},
     "output_type": "execute_result"
    }
   ],
   "source": [
    "autos_data[\"yearOfRegistration\"].value_counts()"
   ]
  },
  {
   "cell_type": "markdown",
   "metadata": {
    "deletable": true,
    "editable": true
   },
   "source": [
    "Filtering cars registered only between 1950 and 2017"
   ]
  },
  {
   "cell_type": "code",
   "execution_count": 79,
   "metadata": {
    "collapsed": false,
    "deletable": true,
    "editable": true
   },
   "outputs": [
    {
     "ename": "KeyError",
     "evalue": "''",
     "output_type": "error",
     "traceback": [
      "\u001b[0;31m---------------------------------------------------------------------------\u001b[0m",
      "\u001b[0;31mKeyError\u001b[0m                                  Traceback (most recent call last)",
      "\u001b[0;32m<ipython-input-79-d35609a91613>\u001b[0m in \u001b[0;36m<module>\u001b[0;34m()\u001b[0m\n\u001b[1;32m      1\u001b[0m \u001b[0mdf\u001b[0m \u001b[0;34m=\u001b[0m \u001b[0mautos_data\u001b[0m\u001b[0;34m[\u001b[0m\u001b[0;34m(\u001b[0m\u001b[0mautos_data\u001b[0m\u001b[0;34m[\u001b[0m\u001b[0;34m\"yearOfRegistration\"\u001b[0m\u001b[0;34m]\u001b[0m \u001b[0;34m>\u001b[0m \u001b[0;36m1950\u001b[0m\u001b[0;34m)\u001b[0m \u001b[0;34m|\u001b[0m \u001b[0;34m(\u001b[0m\u001b[0mautos_data\u001b[0m\u001b[0;34m[\u001b[0m\u001b[0;34m\"yearOfRegistration\"\u001b[0m\u001b[0;34m]\u001b[0m \u001b[0;34m<\u001b[0m \u001b[0;36m2017\u001b[0m\u001b[0;34m)\u001b[0m\u001b[0;34m]\u001b[0m\u001b[0;34m\u001b[0m\u001b[0m\n\u001b[0;32m----> 2\u001b[0;31m \u001b[0mdf\u001b[0m \u001b[0;34m=\u001b[0m \u001b[0mdf\u001b[0m\u001b[0;34m[\u001b[0m\u001b[0;34m(\u001b[0m\u001b[0mdf\u001b[0m\u001b[0;34m[\u001b[0m\u001b[0;34m\"\"\u001b[0m\u001b[0;34m]\u001b[0m\u001b[0;34m)\u001b[0m\u001b[0;34m]\u001b[0m\u001b[0;34m\u001b[0m\u001b[0m\n\u001b[0m",
      "\u001b[0;32m/usr/local/lib/python2.7/dist-packages/pandas/core/frame.pyc\u001b[0m in \u001b[0;36m__getitem__\u001b[0;34m(self, key)\u001b[0m\n\u001b[1;32m   2057\u001b[0m             \u001b[0;32mreturn\u001b[0m \u001b[0mself\u001b[0m\u001b[0;34m.\u001b[0m\u001b[0m_getitem_multilevel\u001b[0m\u001b[0;34m(\u001b[0m\u001b[0mkey\u001b[0m\u001b[0;34m)\u001b[0m\u001b[0;34m\u001b[0m\u001b[0m\n\u001b[1;32m   2058\u001b[0m         \u001b[0;32melse\u001b[0m\u001b[0;34m:\u001b[0m\u001b[0;34m\u001b[0m\u001b[0m\n\u001b[0;32m-> 2059\u001b[0;31m             \u001b[0;32mreturn\u001b[0m \u001b[0mself\u001b[0m\u001b[0;34m.\u001b[0m\u001b[0m_getitem_column\u001b[0m\u001b[0;34m(\u001b[0m\u001b[0mkey\u001b[0m\u001b[0;34m)\u001b[0m\u001b[0;34m\u001b[0m\u001b[0m\n\u001b[0m\u001b[1;32m   2060\u001b[0m \u001b[0;34m\u001b[0m\u001b[0m\n\u001b[1;32m   2061\u001b[0m     \u001b[0;32mdef\u001b[0m \u001b[0m_getitem_column\u001b[0m\u001b[0;34m(\u001b[0m\u001b[0mself\u001b[0m\u001b[0;34m,\u001b[0m \u001b[0mkey\u001b[0m\u001b[0;34m)\u001b[0m\u001b[0;34m:\u001b[0m\u001b[0;34m\u001b[0m\u001b[0m\n",
      "\u001b[0;32m/usr/local/lib/python2.7/dist-packages/pandas/core/frame.pyc\u001b[0m in \u001b[0;36m_getitem_column\u001b[0;34m(self, key)\u001b[0m\n\u001b[1;32m   2064\u001b[0m         \u001b[0;31m# get column\u001b[0m\u001b[0;34m\u001b[0m\u001b[0;34m\u001b[0m\u001b[0m\n\u001b[1;32m   2065\u001b[0m         \u001b[0;32mif\u001b[0m \u001b[0mself\u001b[0m\u001b[0;34m.\u001b[0m\u001b[0mcolumns\u001b[0m\u001b[0;34m.\u001b[0m\u001b[0mis_unique\u001b[0m\u001b[0;34m:\u001b[0m\u001b[0;34m\u001b[0m\u001b[0m\n\u001b[0;32m-> 2066\u001b[0;31m             \u001b[0;32mreturn\u001b[0m \u001b[0mself\u001b[0m\u001b[0;34m.\u001b[0m\u001b[0m_get_item_cache\u001b[0m\u001b[0;34m(\u001b[0m\u001b[0mkey\u001b[0m\u001b[0;34m)\u001b[0m\u001b[0;34m\u001b[0m\u001b[0m\n\u001b[0m\u001b[1;32m   2067\u001b[0m \u001b[0;34m\u001b[0m\u001b[0m\n\u001b[1;32m   2068\u001b[0m         \u001b[0;31m# duplicate columns & possible reduce dimensionality\u001b[0m\u001b[0;34m\u001b[0m\u001b[0;34m\u001b[0m\u001b[0m\n",
      "\u001b[0;32m/usr/local/lib/python2.7/dist-packages/pandas/core/generic.pyc\u001b[0m in \u001b[0;36m_get_item_cache\u001b[0;34m(self, item)\u001b[0m\n\u001b[1;32m   1384\u001b[0m         \u001b[0mres\u001b[0m \u001b[0;34m=\u001b[0m \u001b[0mcache\u001b[0m\u001b[0;34m.\u001b[0m\u001b[0mget\u001b[0m\u001b[0;34m(\u001b[0m\u001b[0mitem\u001b[0m\u001b[0;34m)\u001b[0m\u001b[0;34m\u001b[0m\u001b[0m\n\u001b[1;32m   1385\u001b[0m         \u001b[0;32mif\u001b[0m \u001b[0mres\u001b[0m \u001b[0;32mis\u001b[0m \u001b[0mNone\u001b[0m\u001b[0;34m:\u001b[0m\u001b[0;34m\u001b[0m\u001b[0m\n\u001b[0;32m-> 1386\u001b[0;31m             \u001b[0mvalues\u001b[0m \u001b[0;34m=\u001b[0m \u001b[0mself\u001b[0m\u001b[0;34m.\u001b[0m\u001b[0m_data\u001b[0m\u001b[0;34m.\u001b[0m\u001b[0mget\u001b[0m\u001b[0;34m(\u001b[0m\u001b[0mitem\u001b[0m\u001b[0;34m)\u001b[0m\u001b[0;34m\u001b[0m\u001b[0m\n\u001b[0m\u001b[1;32m   1387\u001b[0m             \u001b[0mres\u001b[0m \u001b[0;34m=\u001b[0m \u001b[0mself\u001b[0m\u001b[0;34m.\u001b[0m\u001b[0m_box_item_values\u001b[0m\u001b[0;34m(\u001b[0m\u001b[0mitem\u001b[0m\u001b[0;34m,\u001b[0m \u001b[0mvalues\u001b[0m\u001b[0;34m)\u001b[0m\u001b[0;34m\u001b[0m\u001b[0m\n\u001b[1;32m   1388\u001b[0m             \u001b[0mcache\u001b[0m\u001b[0;34m[\u001b[0m\u001b[0mitem\u001b[0m\u001b[0;34m]\u001b[0m \u001b[0;34m=\u001b[0m \u001b[0mres\u001b[0m\u001b[0;34m\u001b[0m\u001b[0m\n",
      "\u001b[0;32m/usr/local/lib/python2.7/dist-packages/pandas/core/internals.pyc\u001b[0m in \u001b[0;36mget\u001b[0;34m(self, item, fastpath)\u001b[0m\n\u001b[1;32m   3541\u001b[0m \u001b[0;34m\u001b[0m\u001b[0m\n\u001b[1;32m   3542\u001b[0m             \u001b[0;32mif\u001b[0m \u001b[0;32mnot\u001b[0m \u001b[0misnull\u001b[0m\u001b[0;34m(\u001b[0m\u001b[0mitem\u001b[0m\u001b[0;34m)\u001b[0m\u001b[0;34m:\u001b[0m\u001b[0;34m\u001b[0m\u001b[0m\n\u001b[0;32m-> 3543\u001b[0;31m                 \u001b[0mloc\u001b[0m \u001b[0;34m=\u001b[0m \u001b[0mself\u001b[0m\u001b[0;34m.\u001b[0m\u001b[0mitems\u001b[0m\u001b[0;34m.\u001b[0m\u001b[0mget_loc\u001b[0m\u001b[0;34m(\u001b[0m\u001b[0mitem\u001b[0m\u001b[0;34m)\u001b[0m\u001b[0;34m\u001b[0m\u001b[0m\n\u001b[0m\u001b[1;32m   3544\u001b[0m             \u001b[0;32melse\u001b[0m\u001b[0;34m:\u001b[0m\u001b[0;34m\u001b[0m\u001b[0m\n\u001b[1;32m   3545\u001b[0m                 \u001b[0mindexer\u001b[0m \u001b[0;34m=\u001b[0m \u001b[0mnp\u001b[0m\u001b[0;34m.\u001b[0m\u001b[0marange\u001b[0m\u001b[0;34m(\u001b[0m\u001b[0mlen\u001b[0m\u001b[0;34m(\u001b[0m\u001b[0mself\u001b[0m\u001b[0;34m.\u001b[0m\u001b[0mitems\u001b[0m\u001b[0;34m)\u001b[0m\u001b[0;34m)\u001b[0m\u001b[0;34m[\u001b[0m\u001b[0misnull\u001b[0m\u001b[0;34m(\u001b[0m\u001b[0mself\u001b[0m\u001b[0;34m.\u001b[0m\u001b[0mitems\u001b[0m\u001b[0;34m)\u001b[0m\u001b[0;34m]\u001b[0m\u001b[0;34m\u001b[0m\u001b[0m\n",
      "\u001b[0;32m/usr/local/lib/python2.7/dist-packages/pandas/indexes/base.pyc\u001b[0m in \u001b[0;36mget_loc\u001b[0;34m(self, key, method, tolerance)\u001b[0m\n\u001b[1;32m   2134\u001b[0m                 \u001b[0;32mreturn\u001b[0m \u001b[0mself\u001b[0m\u001b[0;34m.\u001b[0m\u001b[0m_engine\u001b[0m\u001b[0;34m.\u001b[0m\u001b[0mget_loc\u001b[0m\u001b[0;34m(\u001b[0m\u001b[0mkey\u001b[0m\u001b[0;34m)\u001b[0m\u001b[0;34m\u001b[0m\u001b[0m\n\u001b[1;32m   2135\u001b[0m             \u001b[0;32mexcept\u001b[0m \u001b[0mKeyError\u001b[0m\u001b[0;34m:\u001b[0m\u001b[0;34m\u001b[0m\u001b[0m\n\u001b[0;32m-> 2136\u001b[0;31m                 \u001b[0;32mreturn\u001b[0m \u001b[0mself\u001b[0m\u001b[0;34m.\u001b[0m\u001b[0m_engine\u001b[0m\u001b[0;34m.\u001b[0m\u001b[0mget_loc\u001b[0m\u001b[0;34m(\u001b[0m\u001b[0mself\u001b[0m\u001b[0;34m.\u001b[0m\u001b[0m_maybe_cast_indexer\u001b[0m\u001b[0;34m(\u001b[0m\u001b[0mkey\u001b[0m\u001b[0;34m)\u001b[0m\u001b[0;34m)\u001b[0m\u001b[0;34m\u001b[0m\u001b[0m\n\u001b[0m\u001b[1;32m   2137\u001b[0m \u001b[0;34m\u001b[0m\u001b[0m\n\u001b[1;32m   2138\u001b[0m         \u001b[0mindexer\u001b[0m \u001b[0;34m=\u001b[0m \u001b[0mself\u001b[0m\u001b[0;34m.\u001b[0m\u001b[0mget_indexer\u001b[0m\u001b[0;34m(\u001b[0m\u001b[0;34m[\u001b[0m\u001b[0mkey\u001b[0m\u001b[0;34m]\u001b[0m\u001b[0;34m,\u001b[0m \u001b[0mmethod\u001b[0m\u001b[0;34m=\u001b[0m\u001b[0mmethod\u001b[0m\u001b[0;34m,\u001b[0m \u001b[0mtolerance\u001b[0m\u001b[0;34m=\u001b[0m\u001b[0mtolerance\u001b[0m\u001b[0;34m)\u001b[0m\u001b[0;34m\u001b[0m\u001b[0m\n",
      "\u001b[0;32mpandas/index.pyx\u001b[0m in \u001b[0;36mpandas.index.IndexEngine.get_loc (pandas/index.c:4433)\u001b[0;34m()\u001b[0m\n",
      "\u001b[0;32mpandas/index.pyx\u001b[0m in \u001b[0;36mpandas.index.IndexEngine.get_loc (pandas/index.c:4279)\u001b[0;34m()\u001b[0m\n",
      "\u001b[0;32mpandas/src/hashtable_class_helper.pxi\u001b[0m in \u001b[0;36mpandas.hashtable.PyObjectHashTable.get_item (pandas/hashtable.c:13742)\u001b[0;34m()\u001b[0m\n",
      "\u001b[0;32mpandas/src/hashtable_class_helper.pxi\u001b[0m in \u001b[0;36mpandas.hashtable.PyObjectHashTable.get_item (pandas/hashtable.c:13696)\u001b[0;34m()\u001b[0m\n",
      "\u001b[0;31mKeyError\u001b[0m: ''"
     ]
    }
   ],
   "source": [
    "df = autos_data[(autos_data[\"yearOfRegistration\"] > 1950) | (autos_data[\"yearOfRegistration\"] < 2017)]\n",
    "df = df[(df[\"\"])]"
   ]
  },
  {
   "cell_type": "code",
   "execution_count": null,
   "metadata": {
    "collapsed": false,
    "deletable": true,
    "editable": true
   },
   "outputs": [],
   "source": [
    "autos_data.columns"
   ]
  },
  {
   "cell_type": "code",
   "execution_count": null,
   "metadata": {
    "collapsed": false,
    "deletable": true,
    "editable": true,
    "scrolled": true
   },
   "outputs": [],
   "source": [
    "autos_data[\"yearOfRegistration\"].value_counts().plot(kind=\"bar\")"
   ]
  },
  {
   "cell_type": "code",
   "execution_count": null,
   "metadata": {
    "collapsed": true
   },
   "outputs": [],
   "source": []
  }
 ],
 "metadata": {
  "kernelspec": {
   "display_name": "Python 2",
   "language": "python",
   "name": "python2"
  },
  "language_info": {
   "codemirror_mode": {
    "name": "ipython",
    "version": 2
   },
   "file_extension": ".py",
   "mimetype": "text/x-python",
   "name": "python",
   "nbconvert_exporter": "python",
   "pygments_lexer": "ipython2",
   "version": "2.7.12"
  }
 },
 "nbformat": 4,
 "nbformat_minor": 2
}
