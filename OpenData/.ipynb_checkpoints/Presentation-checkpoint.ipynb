{
 "cells": [
  {
   "cell_type": "code",
   "execution_count": 298,
   "metadata": {
    "collapsed": true,
    "deletable": true,
    "editable": true
   },
   "outputs": [],
   "source": [
    "import matplotlib\n",
    "import matplotlib.pyplot as plt\n",
    "import numpy as np\n",
    "import pandas as pd\n",
    "import os\n",
    "import json\n",
    "import requests\n",
    "import calendar\n",
    "import datetime\n"
   ]
  },
  {
   "cell_type": "code",
   "execution_count": 299,
   "metadata": {
    "collapsed": true,
    "deletable": true,
    "editable": true
   },
   "outputs": [],
   "source": [
    "%matplotlib inline\n",
    "plt.rcParams['figure.figsize'] = (20, 10)"
   ]
  },
  {
   "cell_type": "code",
   "execution_count": 300,
   "metadata": {
    "collapsed": true,
    "deletable": true,
    "editable": true
   },
   "outputs": [],
   "source": [
    "saved_style_state = matplotlib.rcParams.copy()"
   ]
  },
  {
   "cell_type": "code",
   "execution_count": 301,
   "metadata": {
    "collapsed": false,
    "deletable": true,
    "editable": true
   },
   "outputs": [
    {
     "data": {
      "text/html": [
       "<div>\n",
       "<table border=\"1\" class=\"dataframe\">\n",
       "  <thead>\n",
       "    <tr style=\"text-align: right;\">\n",
       "      <th></th>\n",
       "      <th>dateCrawled</th>\n",
       "      <th>name</th>\n",
       "      <th>seller</th>\n",
       "      <th>offerType</th>\n",
       "      <th>price</th>\n",
       "      <th>abtest</th>\n",
       "      <th>vehicleType</th>\n",
       "      <th>yearOfRegistration</th>\n",
       "      <th>gearbox</th>\n",
       "      <th>powerPS</th>\n",
       "      <th>model</th>\n",
       "      <th>kilometer</th>\n",
       "      <th>monthOfRegistration</th>\n",
       "      <th>fuelType</th>\n",
       "      <th>brand</th>\n",
       "      <th>notRepairedDamage</th>\n",
       "      <th>dateCreated</th>\n",
       "      <th>nrOfPictures</th>\n",
       "      <th>postalCode</th>\n",
       "      <th>lastSeen</th>\n",
       "    </tr>\n",
       "  </thead>\n",
       "  <tbody>\n",
       "    <tr>\n",
       "      <th>0</th>\n",
       "      <td>2016-03-24 11:52:17</td>\n",
       "      <td>Golf_3_1.6</td>\n",
       "      <td>privat</td>\n",
       "      <td>Angebot</td>\n",
       "      <td>480</td>\n",
       "      <td>test</td>\n",
       "      <td>NaN</td>\n",
       "      <td>1993</td>\n",
       "      <td>manuell</td>\n",
       "      <td>0</td>\n",
       "      <td>golf</td>\n",
       "      <td>150000</td>\n",
       "      <td>0</td>\n",
       "      <td>benzin</td>\n",
       "      <td>volkswagen</td>\n",
       "      <td>NaN</td>\n",
       "      <td>2016-03-24</td>\n",
       "      <td>0</td>\n",
       "      <td>70435</td>\n",
       "      <td>2016-04-07 03:16:57</td>\n",
       "    </tr>\n",
       "    <tr>\n",
       "      <th>1</th>\n",
       "      <td>2016-03-24 10:58:45</td>\n",
       "      <td>A5_Sportback_2.7_Tdi</td>\n",
       "      <td>privat</td>\n",
       "      <td>Angebot</td>\n",
       "      <td>18300</td>\n",
       "      <td>test</td>\n",
       "      <td>coupe</td>\n",
       "      <td>2011</td>\n",
       "      <td>manuell</td>\n",
       "      <td>190</td>\n",
       "      <td>NaN</td>\n",
       "      <td>125000</td>\n",
       "      <td>5</td>\n",
       "      <td>diesel</td>\n",
       "      <td>audi</td>\n",
       "      <td>ja</td>\n",
       "      <td>2016-03-24</td>\n",
       "      <td>0</td>\n",
       "      <td>66954</td>\n",
       "      <td>2016-04-07 01:46:50</td>\n",
       "    </tr>\n",
       "    <tr>\n",
       "      <th>2</th>\n",
       "      <td>2016-03-14 12:52:21</td>\n",
       "      <td>Jeep_Grand_Cherokee_\"Overland\"</td>\n",
       "      <td>privat</td>\n",
       "      <td>Angebot</td>\n",
       "      <td>9800</td>\n",
       "      <td>test</td>\n",
       "      <td>suv</td>\n",
       "      <td>2004</td>\n",
       "      <td>automatik</td>\n",
       "      <td>163</td>\n",
       "      <td>grand</td>\n",
       "      <td>125000</td>\n",
       "      <td>8</td>\n",
       "      <td>diesel</td>\n",
       "      <td>jeep</td>\n",
       "      <td>NaN</td>\n",
       "      <td>2016-03-14</td>\n",
       "      <td>0</td>\n",
       "      <td>90480</td>\n",
       "      <td>2016-04-05 12:47:46</td>\n",
       "    </tr>\n",
       "    <tr>\n",
       "      <th>3</th>\n",
       "      <td>2016-03-17 16:54:04</td>\n",
       "      <td>GOLF_4_1_4__3T�RER</td>\n",
       "      <td>privat</td>\n",
       "      <td>Angebot</td>\n",
       "      <td>1500</td>\n",
       "      <td>test</td>\n",
       "      <td>kleinwagen</td>\n",
       "      <td>2001</td>\n",
       "      <td>manuell</td>\n",
       "      <td>75</td>\n",
       "      <td>golf</td>\n",
       "      <td>150000</td>\n",
       "      <td>6</td>\n",
       "      <td>benzin</td>\n",
       "      <td>volkswagen</td>\n",
       "      <td>nein</td>\n",
       "      <td>2016-03-17</td>\n",
       "      <td>0</td>\n",
       "      <td>91074</td>\n",
       "      <td>2016-03-17 17:40:17</td>\n",
       "    </tr>\n",
       "    <tr>\n",
       "      <th>4</th>\n",
       "      <td>2016-03-31 17:25:20</td>\n",
       "      <td>Skoda_Fabia_1.4_TDI_PD_Classic</td>\n",
       "      <td>privat</td>\n",
       "      <td>Angebot</td>\n",
       "      <td>3600</td>\n",
       "      <td>test</td>\n",
       "      <td>kleinwagen</td>\n",
       "      <td>2008</td>\n",
       "      <td>manuell</td>\n",
       "      <td>69</td>\n",
       "      <td>fabia</td>\n",
       "      <td>90000</td>\n",
       "      <td>7</td>\n",
       "      <td>diesel</td>\n",
       "      <td>skoda</td>\n",
       "      <td>nein</td>\n",
       "      <td>2016-03-31</td>\n",
       "      <td>0</td>\n",
       "      <td>60437</td>\n",
       "      <td>2016-04-06 10:17:21</td>\n",
       "    </tr>\n",
       "  </tbody>\n",
       "</table>\n",
       "</div>"
      ],
      "text/plain": [
       "          dateCrawled                            name  seller offerType  \\\n",
       "0 2016-03-24 11:52:17                      Golf_3_1.6  privat   Angebot   \n",
       "1 2016-03-24 10:58:45            A5_Sportback_2.7_Tdi  privat   Angebot   \n",
       "2 2016-03-14 12:52:21  Jeep_Grand_Cherokee_\"Overland\"  privat   Angebot   \n",
       "3 2016-03-17 16:54:04              GOLF_4_1_4__3T�RER  privat   Angebot   \n",
       "4 2016-03-31 17:25:20  Skoda_Fabia_1.4_TDI_PD_Classic  privat   Angebot   \n",
       "\n",
       "   price abtest vehicleType  yearOfRegistration    gearbox  powerPS  model  \\\n",
       "0    480   test         NaN                1993    manuell        0   golf   \n",
       "1  18300   test       coupe                2011    manuell      190    NaN   \n",
       "2   9800   test         suv                2004  automatik      163  grand   \n",
       "3   1500   test  kleinwagen                2001    manuell       75   golf   \n",
       "4   3600   test  kleinwagen                2008    manuell       69  fabia   \n",
       "\n",
       "   kilometer  monthOfRegistration fuelType       brand notRepairedDamage  \\\n",
       "0     150000                    0   benzin  volkswagen               NaN   \n",
       "1     125000                    5   diesel        audi                ja   \n",
       "2     125000                    8   diesel        jeep               NaN   \n",
       "3     150000                    6   benzin  volkswagen              nein   \n",
       "4      90000                    7   diesel       skoda              nein   \n",
       "\n",
       "  dateCreated  nrOfPictures  postalCode            lastSeen  \n",
       "0  2016-03-24             0       70435 2016-04-07 03:16:57  \n",
       "1  2016-03-24             0       66954 2016-04-07 01:46:50  \n",
       "2  2016-03-14             0       90480 2016-04-05 12:47:46  \n",
       "3  2016-03-17             0       91074 2016-03-17 17:40:17  \n",
       "4  2016-03-31             0       60437 2016-04-06 10:17:21  "
      ]
     },
     "execution_count": 301,
     "metadata": {},
     "output_type": "execute_result"
    }
   ],
   "source": [
    "filepath = \"~/code1161base/OpenData/autos.csv\"\n",
    "autos = pd.read_csv(filepath,\n",
    "                           infer_datetime_format=True,\n",
    "                           parse_dates=['dateCrawled', 'dateCreated', 'lastSeen'],\n",
    "                           dayfirst=True)\n",
    "\n",
    "autos.head(5)"
   ]
  },
  {
   "cell_type": "code",
   "execution_count": 302,
   "metadata": {
    "collapsed": false,
    "deletable": true,
    "editable": true
   },
   "outputs": [
    {
     "data": {
      "text/plain": [
       "pandas.core.series.Series"
      ]
     },
     "execution_count": 302,
     "metadata": {},
     "output_type": "execute_result"
    }
   ],
   "source": [
    "type(autos[\"yearOfRegistration\"])"
   ]
  },
  {
   "cell_type": "markdown",
   "metadata": {},
   "source": [
    "# Describe Data"
   ]
  },
  {
   "cell_type": "code",
   "execution_count": 466,
   "metadata": {
    "collapsed": false
   },
   "outputs": [
    {
     "data": {
      "text/plain": [
       "(371528, 20)"
      ]
     },
     "execution_count": 466,
     "metadata": {},
     "output_type": "execute_result"
    }
   ],
   "source": [
    "autos.shape"
   ]
  },
  {
   "cell_type": "code",
   "execution_count": 464,
   "metadata": {
    "collapsed": false
   },
   "outputs": [
    {
     "data": {
      "text/html": [
       "<div>\n",
       "<table border=\"1\" class=\"dataframe\">\n",
       "  <thead>\n",
       "    <tr style=\"text-align: right;\">\n",
       "      <th></th>\n",
       "      <th>price</th>\n",
       "      <th>yearOfRegistration</th>\n",
       "      <th>powerPS</th>\n",
       "      <th>kilometer</th>\n",
       "      <th>monthOfRegistration</th>\n",
       "      <th>nrOfPictures</th>\n",
       "      <th>postalCode</th>\n",
       "    </tr>\n",
       "  </thead>\n",
       "  <tbody>\n",
       "    <tr>\n",
       "      <th>count</th>\n",
       "      <td>3.715280e+05</td>\n",
       "      <td>371528.000000</td>\n",
       "      <td>371528.000000</td>\n",
       "      <td>371528.000000</td>\n",
       "      <td>371528.000000</td>\n",
       "      <td>371528.0</td>\n",
       "      <td>371528.00000</td>\n",
       "    </tr>\n",
       "    <tr>\n",
       "      <th>mean</th>\n",
       "      <td>1.729514e+04</td>\n",
       "      <td>2004.577997</td>\n",
       "      <td>115.549477</td>\n",
       "      <td>125618.688228</td>\n",
       "      <td>5.734445</td>\n",
       "      <td>0.0</td>\n",
       "      <td>50820.66764</td>\n",
       "    </tr>\n",
       "    <tr>\n",
       "      <th>std</th>\n",
       "      <td>3.587954e+06</td>\n",
       "      <td>92.866598</td>\n",
       "      <td>192.139578</td>\n",
       "      <td>40112.337051</td>\n",
       "      <td>3.712412</td>\n",
       "      <td>0.0</td>\n",
       "      <td>25799.08247</td>\n",
       "    </tr>\n",
       "    <tr>\n",
       "      <th>min</th>\n",
       "      <td>0.000000e+00</td>\n",
       "      <td>1000.000000</td>\n",
       "      <td>0.000000</td>\n",
       "      <td>5000.000000</td>\n",
       "      <td>0.000000</td>\n",
       "      <td>0.0</td>\n",
       "      <td>1067.00000</td>\n",
       "    </tr>\n",
       "    <tr>\n",
       "      <th>25%</th>\n",
       "      <td>1.150000e+03</td>\n",
       "      <td>1999.000000</td>\n",
       "      <td>70.000000</td>\n",
       "      <td>125000.000000</td>\n",
       "      <td>3.000000</td>\n",
       "      <td>0.0</td>\n",
       "      <td>30459.00000</td>\n",
       "    </tr>\n",
       "    <tr>\n",
       "      <th>50%</th>\n",
       "      <td>2.950000e+03</td>\n",
       "      <td>2003.000000</td>\n",
       "      <td>105.000000</td>\n",
       "      <td>150000.000000</td>\n",
       "      <td>6.000000</td>\n",
       "      <td>0.0</td>\n",
       "      <td>49610.00000</td>\n",
       "    </tr>\n",
       "    <tr>\n",
       "      <th>75%</th>\n",
       "      <td>7.200000e+03</td>\n",
       "      <td>2008.000000</td>\n",
       "      <td>150.000000</td>\n",
       "      <td>150000.000000</td>\n",
       "      <td>9.000000</td>\n",
       "      <td>0.0</td>\n",
       "      <td>71546.00000</td>\n",
       "    </tr>\n",
       "    <tr>\n",
       "      <th>max</th>\n",
       "      <td>2.147484e+09</td>\n",
       "      <td>9999.000000</td>\n",
       "      <td>20000.000000</td>\n",
       "      <td>150000.000000</td>\n",
       "      <td>12.000000</td>\n",
       "      <td>0.0</td>\n",
       "      <td>99998.00000</td>\n",
       "    </tr>\n",
       "  </tbody>\n",
       "</table>\n",
       "</div>"
      ],
      "text/plain": [
       "              price  yearOfRegistration        powerPS      kilometer  \\\n",
       "count  3.715280e+05       371528.000000  371528.000000  371528.000000   \n",
       "mean   1.729514e+04         2004.577997     115.549477  125618.688228   \n",
       "std    3.587954e+06           92.866598     192.139578   40112.337051   \n",
       "min    0.000000e+00         1000.000000       0.000000    5000.000000   \n",
       "25%    1.150000e+03         1999.000000      70.000000  125000.000000   \n",
       "50%    2.950000e+03         2003.000000     105.000000  150000.000000   \n",
       "75%    7.200000e+03         2008.000000     150.000000  150000.000000   \n",
       "max    2.147484e+09         9999.000000   20000.000000  150000.000000   \n",
       "\n",
       "       monthOfRegistration  nrOfPictures    postalCode  \n",
       "count        371528.000000      371528.0  371528.00000  \n",
       "mean              5.734445           0.0   50820.66764  \n",
       "std               3.712412           0.0   25799.08247  \n",
       "min               0.000000           0.0    1067.00000  \n",
       "25%               3.000000           0.0   30459.00000  \n",
       "50%               6.000000           0.0   49610.00000  \n",
       "75%               9.000000           0.0   71546.00000  \n",
       "max              12.000000           0.0   99998.00000  "
      ]
     },
     "execution_count": 464,
     "metadata": {},
     "output_type": "execute_result"
    }
   ],
   "source": [
    "autos.describe()"
   ]
  },
  {
   "cell_type": "markdown",
   "metadata": {},
   "source": [
    "371528 cars with 20 columns of description"
   ]
  },
  {
   "cell_type": "code",
   "execution_count": 303,
   "metadata": {
    "collapsed": false,
    "deletable": true,
    "editable": true
   },
   "outputs": [
    {
     "data": {
      "text/plain": [
       "Index([u'dateCrawled', u'name', u'seller', u'offerType', u'price', u'abtest',\n",
       "       u'vehicleType', u'yearOfRegistration', u'gearbox', u'powerPS', u'model',\n",
       "       u'kilometer', u'monthOfRegistration', u'fuelType', u'brand',\n",
       "       u'notRepairedDamage', u'dateCreated', u'nrOfPictures', u'postalCode',\n",
       "       u'lastSeen'],\n",
       "      dtype='object')"
      ]
     },
     "execution_count": 303,
     "metadata": {},
     "output_type": "execute_result"
    }
   ],
   "source": [
    "autos.columns"
   ]
  },
  {
   "cell_type": "markdown",
   "metadata": {
    "deletable": true,
    "editable": true
   },
   "source": [
    "# DateCrawled"
   ]
  },
  {
   "cell_type": "code",
   "execution_count": 304,
   "metadata": {
    "collapsed": false,
    "deletable": true,
    "editable": true
   },
   "outputs": [
    {
     "data": {
      "text/plain": [
       "2016-03-24 14:49:47    7\n",
       "2016-03-26 22:57:31    6\n",
       "2016-03-19 21:49:56    6\n",
       "2016-03-20 16:50:22    5\n",
       "2016-03-31 16:50:28    5\n",
       "2016-03-22 14:50:05    5\n",
       "2016-03-29 22:50:49    5\n",
       "2016-03-08 15:50:29    5\n",
       "2016-04-01 19:25:23    5\n",
       "2016-04-01 16:52:05    5\n",
       "2016-03-05 14:44:30    5\n",
       "2016-03-22 10:42:10    5\n",
       "2016-03-19 12:50:39    5\n",
       "2016-04-02 14:50:21    5\n",
       "2016-03-26 10:51:07    5\n",
       "2016-04-01 15:56:46    5\n",
       "2016-04-02 21:54:36    5\n",
       "2016-03-16 13:47:44    5\n",
       "2016-03-16 17:43:49    5\n",
       "2016-03-09 13:50:56    5\n",
       "2016-04-02 22:54:55    5\n",
       "2016-03-22 15:50:32    5\n",
       "2016-03-28 10:48:11    5\n",
       "2016-03-21 14:50:20    5\n",
       "2016-03-05 14:25:23    5\n",
       "2016-04-03 13:41:21    5\n",
       "2016-04-04 22:38:11    5\n",
       "2016-03-14 16:51:53    5\n",
       "2016-03-09 16:48:39    5\n",
       "2016-03-31 17:57:07    5\n",
       "                      ..\n",
       "2016-03-11 14:52:42    1\n",
       "2016-03-19 16:37:43    1\n",
       "2016-03-30 13:55:25    1\n",
       "2016-03-24 20:00:24    1\n",
       "2016-03-09 16:51:03    1\n",
       "2016-03-20 15:57:34    1\n",
       "2016-03-31 14:45:13    1\n",
       "2016-03-28 10:56:58    1\n",
       "2016-03-20 23:52:53    1\n",
       "2016-03-11 11:25:56    1\n",
       "2016-03-09 13:44:00    1\n",
       "2016-03-11 15:49:37    1\n",
       "2016-03-09 18:37:04    1\n",
       "2016-03-07 01:51:59    1\n",
       "2016-03-23 19:47:32    1\n",
       "2016-03-08 16:57:03    1\n",
       "2016-03-23 13:40:03    1\n",
       "2016-03-20 20:54:58    1\n",
       "2016-03-19 06:03:21    1\n",
       "2016-04-02 20:25:25    1\n",
       "2016-04-03 15:57:57    1\n",
       "2016-03-23 20:57:37    1\n",
       "2016-03-27 08:36:44    1\n",
       "2016-03-21 10:54:08    1\n",
       "2016-03-23 14:50:08    1\n",
       "2016-03-30 14:49:00    1\n",
       "2016-03-09 20:48:09    1\n",
       "2016-03-31 10:57:54    1\n",
       "2016-03-06 14:47:06    1\n",
       "2016-03-19 17:49:48    1\n",
       "Name: dateCrawled, dtype: int64"
      ]
     },
     "execution_count": 304,
     "metadata": {},
     "output_type": "execute_result"
    }
   ],
   "source": [
    "dateCrawled_vc = autos[\"dateCrawled\"].value_counts()\n",
    "\n",
    "dateCrawled_vc"
   ]
  },
  {
   "cell_type": "markdown",
   "metadata": {
    "deletable": true,
    "editable": true
   },
   "source": [
    "# Name"
   ]
  },
  {
   "cell_type": "code",
   "execution_count": 305,
   "metadata": {
    "collapsed": false,
    "deletable": true,
    "editable": true
   },
   "outputs": [
    {
     "data": {
      "text/plain": [
       "Ford_Fiesta                                                           657\n",
       "BMW_318i                                                              627\n",
       "Opel_Corsa                                                            622\n",
       "Volkswagen_Golf_1.4                                                   603\n",
       "BMW_316i                                                              523\n",
       "BMW_320i                                                              492\n",
       "Volkswagen_Polo                                                       475\n",
       "Renault_Twingo                                                        447\n",
       "Volkswagen_Golf                                                       428\n",
       "Volkswagen_Golf_1.6                                                   413\n",
       "Volkswagen_Polo_1.2                                                   412\n",
       "BMW_116i                                                              394\n",
       "Opel_Corsa_1.2_16V                                                    373\n",
       "Opel_Corsa_B                                                          369\n",
       "Opel_Astra                                                            366\n",
       "Peugeot_206                                                           365\n",
       "Ford_Focus                                                            361\n",
       "Opel_Corsa_1.0_12V                                                    344\n",
       "Renault_Twingo_1.2                                                    322\n",
       "Volkswagen_Passat_Variant_1.9_TDI                                     274\n",
       "Volkswagen_Golf_1.9_TDI                                               273\n",
       "Opel_Astra_1.6                                                        260\n",
       "Audi_A4_Avant_2.0_TDI_DPF                                             254\n",
       "MINI_Mini_Cooper                                                      245\n",
       "Fiat_Punto                                                            242\n",
       "Ford_Ka                                                               242\n",
       "Audi_A4_Avant_1.9_TDI                                                 241\n",
       "Audi_A4_1.6                                                           238\n",
       "MINI_Mini_One                                                         233\n",
       "BMW_520i                                                              226\n",
       "                                                                     ... \n",
       "Golf_2_Oldtimer_tuning_GTI_Kamei_VR6                                    1\n",
       "Volkswagen_Lupo_1.0_T�V_07/17                                           1\n",
       "Fuer_Bastler_oder_zum_aufbereiten_und_selbst_fahren                     1\n",
       "Andere_DKW__F_102                                                       1\n",
       "VW__Sharan                                                              1\n",
       "Porsche_997_Carrera_S_gelb                                              1\n",
       "Honda_civic_zum_ausschlachten                                           1\n",
       "Dacia___Duster                                                          1\n",
       "Audi_A4_1.9_TDI_AHK___KLIMA___SITZHEIZUNG___LEDER                       1\n",
       "Volkswagen_Caddy_Maxi_EcoFuel_7_Sitzer_Comf._Team_Edition               1\n",
       "BMW_328i_touring_Schaltgetriebe_mit_LPG_Prins                           1\n",
       "Volkswagen_Golf_1.4_Trendline_2._Hand_Scheckheftgepflegt                1\n",
       "Seat_Leon__Baujahr_2/2013__77kw__Nicht_fahrbereit                       1\n",
       "Mercedes_Benz_E_350_CDI_DPF_C_BlueEFFICIENCY_7G_TRONIC                  1\n",
       "Toyota_RAV_4_2.2_D_4D_4x4_Automatik_Schiebedac                          1\n",
       "vw_Touran_1_6_fsi                                                       1\n",
       "Mercedes_Benz_SLK_320__Automatik__Leder__Super_Zustand                  1\n",
       "BMW_316_i.__Export                                                      1\n",
       "BMW_E36_GTR_Breitbau__M5_Motor_eingetragen_im_Brief                     1\n",
       "Porsche_996_org._ATM_25_tsd._Km                                         1\n",
       "Mercedes_Benz_W201_2.0D_190er_Original_Zustand_5Gang_ABS_Selten         1\n",
       "BMW_520i__Scheckheft__8_fach_bereift__TOP_Zustand!_Tausch_moeglich      1\n",
       "Mazda_3_center_line_120_ps                                              1\n",
       "Vectra_Caravan                                                          1\n",
       "Audi_TT_Coupe_1.8_T_quattro_20V                                         1\n",
       "Polo_6n_rostfrei_T�V_BIS_07/17                                          1\n",
       "VW_Cross_Polo_1.2_TSI_nur_29700km                                       1\n",
       "Mitsubishi__Colt_/_/_sehr_guter_Zustand                                 1\n",
       "Volkswagen_Golf_1.8_Rolling_Stones_Klima                                1\n",
       "Seat_Inca__1_9_l___DIESEL                                               1\n",
       "Name: name, dtype: int64"
      ]
     },
     "execution_count": 305,
     "metadata": {},
     "output_type": "execute_result"
    }
   ],
   "source": [
    "name_vc = autos[\"name\"].value_counts()\n",
    "\n",
    "name_vc"
   ]
  },
  {
   "cell_type": "markdown",
   "metadata": {
    "deletable": true,
    "editable": true
   },
   "source": [
    "# Seller"
   ]
  },
  {
   "cell_type": "code",
   "execution_count": 306,
   "metadata": {
    "collapsed": false,
    "deletable": true,
    "editable": true
   },
   "outputs": [
    {
     "data": {
      "text/plain": [
       "privat        371525\n",
       "gewerblich         3\n",
       "Name: seller, dtype: int64"
      ]
     },
     "execution_count": 306,
     "metadata": {},
     "output_type": "execute_result"
    }
   ],
   "source": [
    "seller_vc = autos[\"seller\"].value_counts()\n",
    "\n",
    "seller_vc"
   ]
  },
  {
   "cell_type": "markdown",
   "metadata": {
    "deletable": true,
    "editable": true
   },
   "source": [
    "# offerType"
   ]
  },
  {
   "cell_type": "code",
   "execution_count": 307,
   "metadata": {
    "collapsed": false,
    "deletable": true,
    "editable": true
   },
   "outputs": [
    {
     "data": {
      "text/plain": [
       "Angebot    371516\n",
       "Gesuch         12\n",
       "Name: offerType, dtype: int64"
      ]
     },
     "execution_count": 307,
     "metadata": {},
     "output_type": "execute_result"
    }
   ],
   "source": [
    "offerType_vc = autos[\"offerType\"].value_counts()\n",
    "\n",
    "offerType_vc"
   ]
  },
  {
   "cell_type": "markdown",
   "metadata": {
    "deletable": true,
    "editable": true
   },
   "source": [
    "# price"
   ]
  },
  {
   "cell_type": "code",
   "execution_count": 308,
   "metadata": {
    "collapsed": false,
    "deletable": true,
    "editable": true,
    "scrolled": true
   },
   "outputs": [
    {
     "data": {
      "text/plain": [
       "0          10778\n",
       "500         5670\n",
       "1500        5394\n",
       "1000        4649\n",
       "1200        4594\n",
       "2500        4438\n",
       "600         3819\n",
       "3500        3792\n",
       "800         3784\n",
       "2000        3432\n",
       "999         3364\n",
       "750         3203\n",
       "650         3150\n",
       "4500        3053\n",
       "850         2946\n",
       "2200        2936\n",
       "700         2936\n",
       "1800        2886\n",
       "900         2874\n",
       "950         2793\n",
       "1100        2772\n",
       "1300        2757\n",
       "300         2731\n",
       "3000        2720\n",
       "550         2591\n",
       "1600        2570\n",
       "5500        2543\n",
       "350         2514\n",
       "400         2442\n",
       "1250        2441\n",
       "           ...  \n",
       "22599          1\n",
       "4782           1\n",
       "8008           1\n",
       "20290          1\n",
       "50100          1\n",
       "3245           1\n",
       "58800          1\n",
       "2795000        1\n",
       "75400          1\n",
       "10830          1\n",
       "588            1\n",
       "31555          1\n",
       "3755           1\n",
       "19269          1\n",
       "14666          1\n",
       "28995          1\n",
       "4175           1\n",
       "10670          1\n",
       "77             1\n",
       "8265           1\n",
       "145900         1\n",
       "2730           1\n",
       "12973          1\n",
       "42840          1\n",
       "30530          1\n",
       "23456          1\n",
       "171000         1\n",
       "21830          1\n",
       "13485          1\n",
       "8188           1\n",
       "Name: price, dtype: int64"
      ]
     },
     "execution_count": 308,
     "metadata": {},
     "output_type": "execute_result"
    }
   ],
   "source": [
    "price_vc = autos[\"price\"].value_counts()\n",
    "\n",
    "price_vc"
   ]
  },
  {
   "cell_type": "markdown",
   "metadata": {},
   "source": [
    "Seems to have 10778 cars with no price listed ($0), so they will be filtered out."
   ]
  },
  {
   "cell_type": "markdown",
   "metadata": {
    "deletable": true,
    "editable": true
   },
   "source": [
    "# abtest"
   ]
  },
  {
   "cell_type": "code",
   "execution_count": 309,
   "metadata": {
    "collapsed": false,
    "deletable": true,
    "editable": true
   },
   "outputs": [
    {
     "data": {
      "text/plain": [
       "test       192585\n",
       "control    178943\n",
       "Name: abtest, dtype: int64"
      ]
     },
     "execution_count": 309,
     "metadata": {},
     "output_type": "execute_result"
    }
   ],
   "source": [
    "abtest_vc = autos[\"abtest\"].value_counts()\n",
    "\n",
    "abtest_vc"
   ]
  },
  {
   "cell_type": "markdown",
   "metadata": {
    "deletable": true,
    "editable": true
   },
   "source": [
    "# vehicleType"
   ]
  },
  {
   "cell_type": "code",
   "execution_count": 310,
   "metadata": {
    "collapsed": false,
    "deletable": true,
    "editable": true
   },
   "outputs": [
    {
     "data": {
      "text/plain": [
       "limousine     95894\n",
       "kleinwagen    80023\n",
       "kombi         67564\n",
       "bus           30201\n",
       "cabrio        22898\n",
       "coupe         19015\n",
       "suv           14707\n",
       "andere         3357\n",
       "Name: vehicleType, dtype: int64"
      ]
     },
     "execution_count": 310,
     "metadata": {},
     "output_type": "execute_result"
    }
   ],
   "source": [
    "vehicleType_vc = autos[\"vehicleType\"].value_counts()\n",
    "\n",
    "vehicleType_vc"
   ]
  },
  {
   "cell_type": "markdown",
   "metadata": {
    "deletable": true,
    "editable": true
   },
   "source": [
    "# yearOfRegistration"
   ]
  },
  {
   "cell_type": "code",
   "execution_count": 311,
   "metadata": {
    "collapsed": false,
    "deletable": true,
    "editable": true
   },
   "outputs": [
    {
     "data": {
      "text/plain": [
       "2000    24551\n",
       "1999    22767\n",
       "2005    22316\n",
       "2006    20230\n",
       "2001    20218\n",
       "2003    19873\n",
       "2004    19746\n",
       "2002    19189\n",
       "1998    17951\n",
       "2007    17673\n",
       "2008    16175\n",
       "2009    15607\n",
       "1997    14706\n",
       "2010    12354\n",
       "2011    12068\n",
       "1996    10886\n",
       "2017    10546\n",
       "2016     9859\n",
       "1995     9658\n",
       "2012     9418\n",
       "2013     6157\n",
       "1994     4872\n",
       "2014     4802\n",
       "2018     3993\n",
       "1993     3469\n",
       "1992     3048\n",
       "2015     2982\n",
       "1990     2852\n",
       "1991     2810\n",
       "1989     1342\n",
       "        ...  \n",
       "5900        1\n",
       "2066        1\n",
       "6500        1\n",
       "9229        1\n",
       "8500        1\n",
       "8200        1\n",
       "2290        1\n",
       "3700        1\n",
       "1200        1\n",
       "9450        1\n",
       "1001        1\n",
       "1255        1\n",
       "1253        1\n",
       "5600        1\n",
       "3800        1\n",
       "4800        1\n",
       "7100        1\n",
       "5300        1\n",
       "3500        1\n",
       "1911        1\n",
       "2200        1\n",
       "1688        1\n",
       "1925        1\n",
       "3200        1\n",
       "1920        1\n",
       "1919        1\n",
       "1915        1\n",
       "7800        1\n",
       "1400        1\n",
       "8455        1\n",
       "Name: yearOfRegistration, dtype: int64"
      ]
     },
     "execution_count": 311,
     "metadata": {},
     "output_type": "execute_result"
    }
   ],
   "source": [
    "yearOfRegistration_vc = autos[\"yearOfRegistration\"].value_counts()\n",
    "\n",
    "yearOfRegistration_vc"
   ]
  },
  {
   "cell_type": "markdown",
   "metadata": {
    "deletable": true,
    "editable": true
   },
   "source": [
    "Filtering needed for years out of range 1950 to 2017"
   ]
  },
  {
   "cell_type": "markdown",
   "metadata": {
    "deletable": true,
    "editable": true
   },
   "source": [
    "# gearbox"
   ]
  },
  {
   "cell_type": "code",
   "execution_count": 312,
   "metadata": {
    "collapsed": false,
    "deletable": true,
    "editable": true
   },
   "outputs": [
    {
     "data": {
      "text/plain": [
       "manuell      274214\n",
       "automatik     77105\n",
       "Name: gearbox, dtype: int64"
      ]
     },
     "execution_count": 312,
     "metadata": {},
     "output_type": "execute_result"
    }
   ],
   "source": [
    "gearbox_vc = autos[\"gearbox\"].value_counts()\n",
    "\n",
    "gearbox_vc"
   ]
  },
  {
   "cell_type": "markdown",
   "metadata": {
    "deletable": true,
    "editable": true
   },
   "source": [
    "# powerPS"
   ]
  },
  {
   "cell_type": "code",
   "execution_count": 313,
   "metadata": {
    "collapsed": false,
    "deletable": true,
    "editable": true
   },
   "outputs": [
    {
     "data": {
      "text/plain": [
       "0        40820\n",
       "75       24035\n",
       "60       15907\n",
       "150      15442\n",
       "140      13585\n",
       "101      13313\n",
       "90       12748\n",
       "116      11963\n",
       "170      10982\n",
       "105      10429\n",
       "125       7051\n",
       "136       6952\n",
       "102       6500\n",
       "163       6287\n",
       "54        5752\n",
       "143       5547\n",
       "122       5322\n",
       "131       5179\n",
       "110       4862\n",
       "109       4817\n",
       "50        4661\n",
       "80        4050\n",
       "120       3914\n",
       "177       3886\n",
       "58        3855\n",
       "69        3655\n",
       "115       3332\n",
       "95        3023\n",
       "45        2991\n",
       "68        2828\n",
       "         ...  \n",
       "15017        1\n",
       "685          1\n",
       "7515         1\n",
       "6062         1\n",
       "1625         1\n",
       "1707         1\n",
       "602          1\n",
       "1202         1\n",
       "337          1\n",
       "8011         1\n",
       "1100         1\n",
       "15033        1\n",
       "3144         1\n",
       "442          1\n",
       "953          1\n",
       "3000         1\n",
       "331          1\n",
       "587          1\n",
       "332          1\n",
       "952          1\n",
       "6226         1\n",
       "696          1\n",
       "589          1\n",
       "1102         1\n",
       "1870         1\n",
       "5815         1\n",
       "16051        1\n",
       "1360         1\n",
       "5809         1\n",
       "1398         1\n",
       "Name: powerPS, dtype: int64"
      ]
     },
     "execution_count": 313,
     "metadata": {},
     "output_type": "execute_result"
    }
   ],
   "source": [
    "powerPS_vc = autos[\"powerPS\"].value_counts()\n",
    "\n",
    "powerPS_vc"
   ]
  },
  {
   "cell_type": "markdown",
   "metadata": {},
   "source": [
    "40820 amount of cars are at 0 horsepower, assuming either totaled or user not defined and will be filtered."
   ]
  },
  {
   "cell_type": "markdown",
   "metadata": {
    "deletable": true,
    "editable": true
   },
   "source": [
    "0 powerPS would be considered totaled or not listed\n",
    "\n",
    "Filtering needed for horse power outside of range 600"
   ]
  },
  {
   "cell_type": "markdown",
   "metadata": {
    "deletable": true,
    "editable": true
   },
   "source": [
    "# model"
   ]
  },
  {
   "cell_type": "code",
   "execution_count": 314,
   "metadata": {
    "collapsed": false,
    "deletable": true,
    "editable": true
   },
   "outputs": [
    {
     "data": {
      "text/plain": [
       "golf                  30070\n",
       "andere                26400\n",
       "3er                   20567\n",
       "polo                  13092\n",
       "corsa                 12573\n",
       "astra                 10830\n",
       "passat                10306\n",
       "a4                    10257\n",
       "c_klasse               8775\n",
       "5er                    8546\n",
       "e_klasse               7561\n",
       "a3                     6604\n",
       "a6                     6023\n",
       "focus                  5950\n",
       "fiesta                 5775\n",
       "transporter            5528\n",
       "twingo                 4953\n",
       "2_reihe                4816\n",
       "fortwo                 4338\n",
       "a_klasse               4316\n",
       "vectra                 4255\n",
       "1er                    3837\n",
       "mondeo                 3626\n",
       "clio                   3553\n",
       "touran                 3540\n",
       "3_reihe                3503\n",
       "punto                  3349\n",
       "zafira                 3049\n",
       "megane                 2927\n",
       "ibiza                  2702\n",
       "                      ...  \n",
       "mii                      81\n",
       "crossfire                66\n",
       "range_rover_evoque       65\n",
       "gl                       64\n",
       "nubira                   62\n",
       "move                     60\n",
       "lybra                    54\n",
       "145                      50\n",
       "v60                      48\n",
       "croma                    45\n",
       "amarok                   42\n",
       "delta                    40\n",
       "terios                   35\n",
       "lodgy                    35\n",
       "9000                     31\n",
       "charade                  27\n",
       "b_max                    26\n",
       "musa                     25\n",
       "materia                  18\n",
       "200                      18\n",
       "kappa                    15\n",
       "samara                   13\n",
       "elefantino               11\n",
       "i3                       10\n",
       "kalina                    9\n",
       "serie_2                   8\n",
       "rangerover                6\n",
       "serie_3                   4\n",
       "serie_1                   2\n",
       "discovery_sport           1\n",
       "Name: model, dtype: int64"
      ]
     },
     "execution_count": 314,
     "metadata": {},
     "output_type": "execute_result"
    }
   ],
   "source": [
    "model_vc = autos[\"model\"].value_counts()\n",
    "model_vc"
   ]
  },
  {
   "cell_type": "code",
   "execution_count": 315,
   "metadata": {
    "collapsed": false
   },
   "outputs": [
    {
     "data": {
      "text/plain": [
       "<matplotlib.axes._subplots.AxesSubplot at 0x7feb14552110>"
      ]
     },
     "execution_count": 315,
     "metadata": {},
     "output_type": "execute_result"
    },
    {
     "data": {
      "image/png": "[encoded data removed]",
      "text/plain": [
       "<matplotlib.figure.Figure at 0x7feb17bd6b10>"
      ]
     },
     "metadata": {},
     "output_type": "display_data"
    }
   ],
   "source": [
    "model_vc.plot(kind='bar')"
   ]
  },
  {
   "cell_type": "markdown",
   "metadata": {
    "deletable": true,
    "editable": true
   },
   "source": [
    "# kilometer"
   ]
  },
  {
   "cell_type": "code",
   "execution_count": 316,
   "metadata": {
    "collapsed": false,
    "deletable": true,
    "editable": true
   },
   "outputs": [
    {
     "data": {
      "text/plain": [
       "150000    240797\n",
       "125000     38067\n",
       "100000     15920\n",
       "90000      12523\n",
       "80000      11053\n",
       "70000       9773\n",
       "60000       8669\n",
       "50000       7615\n",
       "5000        7069\n",
       "40000       6376\n",
       "30000       6041\n",
       "20000       5676\n",
       "10000       1949\n",
       "Name: kilometer, dtype: int64"
      ]
     },
     "execution_count": 316,
     "metadata": {},
     "output_type": "execute_result"
    }
   ],
   "source": [
    "kilometer_vc = autos[\"kilometer\"].value_counts()\n",
    "\n",
    "kilometer_vc"
   ]
  },
  {
   "cell_type": "markdown",
   "metadata": {
    "deletable": true,
    "editable": true
   },
   "source": [
    "# monthOfRegistration"
   ]
  },
  {
   "cell_type": "code",
   "execution_count": 317,
   "metadata": {
    "collapsed": false,
    "deletable": true,
    "editable": true
   },
   "outputs": [
    {
     "data": {
      "text/plain": [
       "0     37675\n",
       "3     36170\n",
       "6     33167\n",
       "4     30918\n",
       "5     30631\n",
       "7     28958\n",
       "10    27337\n",
       "11    25489\n",
       "12    25380\n",
       "9     25074\n",
       "1     24561\n",
       "8     23765\n",
       "2     22403\n",
       "Name: monthOfRegistration, dtype: int64"
      ]
     },
     "execution_count": 317,
     "metadata": {},
     "output_type": "execute_result"
    }
   ],
   "source": [
    "monthOfRegistration_vc = autos[\"monthOfRegistration\"].value_counts()\n",
    "\n",
    "monthOfRegistration_vc"
   ]
  },
  {
   "cell_type": "markdown",
   "metadata": {},
   "source": []
  },
  {
   "cell_type": "markdown",
   "metadata": {
    "deletable": true,
    "editable": true
   },
   "source": [
    "# fuelType"
   ]
  },
  {
   "cell_type": "code",
   "execution_count": 318,
   "metadata": {
    "collapsed": false,
    "deletable": true,
    "editable": true
   },
   "outputs": [
    {
     "data": {
      "text/plain": [
       "benzin     223857\n",
       "diesel     107746\n",
       "lpg          5378\n",
       "cng           571\n",
       "hybrid        278\n",
       "andere        208\n",
       "elektro       104\n",
       "Name: fuelType, dtype: int64"
      ]
     },
     "execution_count": 318,
     "metadata": {},
     "output_type": "execute_result"
    }
   ],
   "source": [
    "fuelType_vc = autos[\"fuelType\"].value_counts()\n",
    "\n",
    "fuelType_vc"
   ]
  },
  {
   "cell_type": "markdown",
   "metadata": {
    "deletable": true,
    "editable": true
   },
   "source": [
    "# Brand"
   ]
  },
  {
   "cell_type": "code",
   "execution_count": 319,
   "metadata": {
    "collapsed": false,
    "deletable": true,
    "editable": true
   },
   "outputs": [
    {
     "data": {
      "text/plain": [
       "volkswagen        79640\n",
       "bmw               40274\n",
       "opel              40136\n",
       "mercedes_benz     35309\n",
       "audi              32873\n",
       "ford              25573\n",
       "renault           17969\n",
       "peugeot           11027\n",
       "fiat               9676\n",
       "seat               7022\n",
       "mazda              5695\n",
       "skoda              5641\n",
       "smart              5249\n",
       "citroen            5182\n",
       "nissan             5037\n",
       "toyota             4694\n",
       "sonstige_autos     3982\n",
       "hyundai            3646\n",
       "mini               3394\n",
       "volvo              3327\n",
       "mitsubishi         3061\n",
       "honda              2836\n",
       "kia                2555\n",
       "alfa_romeo         2345\n",
       "suzuki             2328\n",
       "porsche            2215\n",
       "chevrolet          1845\n",
       "chrysler           1452\n",
       "dacia               900\n",
       "jeep                807\n",
       "daihatsu            806\n",
       "subaru              779\n",
       "land_rover          770\n",
       "jaguar              621\n",
       "trabant             591\n",
       "daewoo              542\n",
       "saab                530\n",
       "rover               490\n",
       "lancia              484\n",
       "lada                225\n",
       "Name: brand, dtype: int64"
      ]
     },
     "execution_count": 319,
     "metadata": {},
     "output_type": "execute_result"
    }
   ],
   "source": [
    "brand_vc = autos[\"brand\"].value_counts()\n",
    "\n",
    "brand_vc"
   ]
  },
  {
   "cell_type": "markdown",
   "metadata": {
    "deletable": true,
    "editable": true
   },
   "source": [
    "# notRepairDamage"
   ]
  },
  {
   "cell_type": "code",
   "execution_count": 320,
   "metadata": {
    "collapsed": false,
    "deletable": true,
    "editable": true
   },
   "outputs": [
    {
     "data": {
      "text/plain": [
       "nein    263182\n",
       "ja       36286\n",
       "Name: notRepairedDamage, dtype: int64"
      ]
     },
     "execution_count": 320,
     "metadata": {},
     "output_type": "execute_result"
    }
   ],
   "source": [
    "notRepairedDamage_vc = autos[\"notRepairedDamage\"].value_counts()\n",
    "\n",
    "notRepairedDamage_vc"
   ]
  },
  {
   "cell_type": "markdown",
   "metadata": {
    "deletable": true,
    "editable": true
   },
   "source": [
    "# dateCreated"
   ]
  },
  {
   "cell_type": "code",
   "execution_count": 321,
   "metadata": {
    "collapsed": false,
    "deletable": true,
    "editable": true,
    "scrolled": true
   },
   "outputs": [
    {
     "data": {
      "text/plain": [
       "2016-04-03    14450\n",
       "2016-04-04    14022\n",
       "2016-03-20    13547\n",
       "2016-03-12    13379\n",
       "2016-03-21    13305\n",
       "2016-03-14    13088\n",
       "2016-03-28    13069\n",
       "2016-04-02    12991\n",
       "2016-03-07    12821\n",
       "2016-03-19    12752\n",
       "2016-03-09    12723\n",
       "2016-03-29    12714\n",
       "2016-04-01    12623\n",
       "2016-03-30    12402\n",
       "2016-03-15    12399\n",
       "2016-03-08    12396\n",
       "2016-03-25    12264\n",
       "2016-03-11    12181\n",
       "2016-03-10    12050\n",
       "2016-03-22    11958\n",
       "2016-03-26    11920\n",
       "2016-03-31    11872\n",
       "2016-03-23    11856\n",
       "2016-03-17    11610\n",
       "2016-03-16    11285\n",
       "2016-03-27    11161\n",
       "2016-03-24    11132\n",
       "2016-03-05     8528\n",
       "2016-03-13     6318\n",
       "2016-03-06     5752\n",
       "              ...  \n",
       "2016-01-20        2\n",
       "2016-01-18        2\n",
       "2015-11-23        2\n",
       "2016-01-22        2\n",
       "2015-11-24        2\n",
       "2016-01-16        2\n",
       "2016-02-04        2\n",
       "2016-01-14        1\n",
       "2015-12-28        1\n",
       "2015-03-20        1\n",
       "2015-12-06        1\n",
       "2015-11-08        1\n",
       "2015-10-14        1\n",
       "2015-06-18        1\n",
       "2015-06-11        1\n",
       "2015-12-17        1\n",
       "2015-11-10        1\n",
       "2015-08-07        1\n",
       "2015-12-27        1\n",
       "2016-01-06        1\n",
       "2016-01-15        1\n",
       "2015-11-17        1\n",
       "2014-03-10        1\n",
       "2015-11-12        1\n",
       "2016-01-03        1\n",
       "2016-01-08        1\n",
       "2015-08-10        1\n",
       "2015-11-02        1\n",
       "2015-11-13        1\n",
       "2015-09-09        1\n",
       "Name: dateCreated, dtype: int64"
      ]
     },
     "execution_count": 321,
     "metadata": {},
     "output_type": "execute_result"
    }
   ],
   "source": [
    "dateCreated_vc = autos[\"dateCreated\"].value_counts()\n",
    "\n",
    "dateCreated_vc"
   ]
  },
  {
   "cell_type": "markdown",
   "metadata": {
    "deletable": true,
    "editable": true
   },
   "source": [
    "# nrOfPictures"
   ]
  },
  {
   "cell_type": "code",
   "execution_count": 322,
   "metadata": {
    "collapsed": false,
    "deletable": true,
    "editable": true
   },
   "outputs": [
    {
     "data": {
      "text/plain": [
       "0    371528\n",
       "Name: nrOfPictures, dtype: int64"
      ]
     },
     "execution_count": 322,
     "metadata": {},
     "output_type": "execute_result"
    }
   ],
   "source": [
    "nrOfPictures_vc = autos[\"nrOfPictures\"].value_counts()\n",
    "\n",
    "nrOfPictures_vc"
   ]
  },
  {
   "cell_type": "markdown",
   "metadata": {
    "deletable": true,
    "editable": true
   },
   "source": [
    "Filtering variables of nrOfPictures"
   ]
  },
  {
   "cell_type": "markdown",
   "metadata": {
    "deletable": true,
    "editable": true
   },
   "source": [
    "# PostalCode"
   ]
  },
  {
   "cell_type": "code",
   "execution_count": 323,
   "metadata": {
    "collapsed": false,
    "deletable": true,
    "editable": true,
    "scrolled": true
   },
   "outputs": [
    {
     "data": {
      "text/plain": [
       "10115    828\n",
       "65428    637\n",
       "66333    349\n",
       "38518    326\n",
       "44145    323\n",
       "32257    323\n",
       "52525    314\n",
       "78224    309\n",
       "26789    301\n",
       "48599    294\n",
       "13357    293\n",
       "53757    284\n",
       "50354    283\n",
       "40764    282\n",
       "48249    282\n",
       "60311    281\n",
       "51065    278\n",
       "52249    277\n",
       "60386    275\n",
       "61169    269\n",
       "92637    266\n",
       "26871    265\n",
       "66424    265\n",
       "56070    262\n",
       "45881    262\n",
       "65719    261\n",
       "13409    257\n",
       "87700    257\n",
       "59192    254\n",
       "44339    254\n",
       "        ... \n",
       "55499      1\n",
       "67311      1\n",
       "21784      1\n",
       "38325      1\n",
       "63874      1\n",
       "21360      1\n",
       "95356      1\n",
       "26906      1\n",
       "29361      1\n",
       "17154      1\n",
       "79685      1\n",
       "91471      1\n",
       "88376      1\n",
       "77787      1\n",
       "95694      1\n",
       "27254      1\n",
       "60306      1\n",
       "7619       1\n",
       "29587      1\n",
       "91465      1\n",
       "25946      1\n",
       "4685       1\n",
       "98749      1\n",
       "74937      1\n",
       "24638      1\n",
       "97859      1\n",
       "29484      1\n",
       "85071      1\n",
       "17329      1\n",
       "37297      1\n",
       "Name: postalCode, dtype: int64"
      ]
     },
     "execution_count": 323,
     "metadata": {},
     "output_type": "execute_result"
    }
   ],
   "source": [
    "postalCode_vc = autos[\"postalCode\"].value_counts()\n",
    "\n",
    "postalCode_vc"
   ]
  },
  {
   "cell_type": "markdown",
   "metadata": {
    "deletable": true,
    "editable": true
   },
   "source": [
    "# lastSeen"
   ]
  },
  {
   "cell_type": "code",
   "execution_count": 324,
   "metadata": {
    "collapsed": false,
    "deletable": true,
    "editable": true,
    "scrolled": true
   },
   "outputs": [
    {
     "data": {
      "text/plain": [
       "2016-04-06 13:45:54    17\n",
       "2016-04-07 06:45:59    17\n",
       "2016-04-06 22:44:53    16\n",
       "2016-04-06 07:45:46    16\n",
       "2016-04-07 08:45:09    16\n",
       "2016-04-07 00:45:17    16\n",
       "2016-04-07 09:46:25    16\n",
       "2016-04-07 07:17:35    16\n",
       "2016-04-06 13:15:54    16\n",
       "2016-04-06 05:45:43    16\n",
       "2016-04-06 09:44:33    16\n",
       "2016-04-07 08:16:54    16\n",
       "2016-04-07 09:15:43    16\n",
       "2016-04-06 03:15:56    16\n",
       "2016-04-07 06:45:32    16\n",
       "2016-04-06 10:15:26    16\n",
       "2016-04-07 08:15:52    16\n",
       "2016-04-07 05:44:30    16\n",
       "2016-04-07 06:45:12    16\n",
       "2016-04-07 13:17:48    16\n",
       "2016-04-06 09:17:58    16\n",
       "2016-04-07 09:44:27    16\n",
       "2016-04-06 01:15:23    16\n",
       "2016-04-06 09:46:00    16\n",
       "2016-04-07 10:46:23    16\n",
       "2016-04-07 07:46:26    16\n",
       "2016-04-06 01:16:21    16\n",
       "2016-04-06 04:15:59    16\n",
       "2016-04-07 07:44:31    16\n",
       "2016-04-06 04:17:20    16\n",
       "                       ..\n",
       "2016-04-03 12:58:34     1\n",
       "2016-04-02 05:16:06     1\n",
       "2016-03-22 07:48:52     1\n",
       "2016-03-26 09:41:00     1\n",
       "2016-03-14 19:41:48     1\n",
       "2016-03-17 09:16:59     1\n",
       "2016-03-14 16:31:22     1\n",
       "2016-03-30 08:47:26     1\n",
       "2016-04-02 00:18:42     1\n",
       "2016-04-04 14:36:53     1\n",
       "2016-03-16 17:21:38     1\n",
       "2016-04-02 10:46:57     1\n",
       "2016-03-10 19:46:38     1\n",
       "2016-03-18 06:51:03     1\n",
       "2016-03-17 15:15:50     1\n",
       "2016-04-03 13:16:36     1\n",
       "2016-03-30 12:44:33     1\n",
       "2016-03-30 16:17:47     1\n",
       "2016-03-16 23:46:11     1\n",
       "2016-04-04 14:53:57     1\n",
       "2016-03-22 03:17:42     1\n",
       "2016-04-01 23:18:25     1\n",
       "2016-03-08 15:15:59     1\n",
       "2016-03-21 06:18:47     1\n",
       "2016-03-11 10:42:46     1\n",
       "2016-03-29 15:51:48     1\n",
       "2016-03-20 18:36:54     1\n",
       "2016-03-27 09:47:07     1\n",
       "2016-03-30 18:42:14     1\n",
       "2016-03-30 15:16:50     1\n",
       "Name: lastSeen, dtype: int64"
      ]
     },
     "execution_count": 324,
     "metadata": {},
     "output_type": "execute_result"
    }
   ],
   "source": [
    "lastSeen_vc = autos[\"lastSeen\"].value_counts()\n",
    "\n",
    "lastSeen_vc"
   ]
  },
  {
   "cell_type": "markdown",
   "metadata": {
    "deletable": true,
    "editable": true
   },
   "source": [
    "# Cleaning Dataframe"
   ]
  },
  {
   "cell_type": "markdown",
   "metadata": {
    "deletable": true,
    "editable": true
   },
   "source": [
    "## Clearing variables from new Dataframe"
   ]
  },
  {
   "cell_type": "code",
   "execution_count": 467,
   "metadata": {
    "collapsed": false
   },
   "outputs": [
    {
     "name": "stdout",
     "output_type": "stream",
     "text": [
      "['privat' 'gewerblich']\n",
      "['Angebot' 'Gesuch']\n",
      "['test' 'control']\n",
      "[0]\n"
     ]
    }
   ],
   "source": [
    "print(autos.seller.unique())\n",
    "print(autos.offerType.unique())\n",
    "print(autos.abtest.unique())\n",
    "print(autos.nrOfPictures.unique())"
   ]
  },
  {
   "cell_type": "code",
   "execution_count": 325,
   "metadata": {
    "collapsed": false,
    "deletable": true,
    "editable": true
   },
   "outputs": [
    {
     "data": {
      "text/plain": [
       "Index([u'price', u'vehicleType', u'yearOfRegistration', u'gearbox', u'powerPS',\n",
       "       u'model', u'kilometer', u'monthOfRegistration', u'fuelType', u'brand',\n",
       "       u'notRepairedDamage', u'dateCreated', u'postalCode', u'lastSeen'],\n",
       "      dtype='object')"
      ]
     },
     "execution_count": 325,
     "metadata": {},
     "output_type": "execute_result"
    }
   ],
   "source": [
    "autosdf = autos.drop(['dateCrawled', 'name', 'seller', 'offerType', 'abtest', 'nrOfPictures'], axis=1)\n",
    "\n",
    "# autosdf = autosdf[pd.notnull(autosdf['price', \n",
    "#                                      'vehicleType', \n",
    "#                                      'yearOfRegistration', \n",
    "#                                      'gearbox', \n",
    "#                                      'powerPS', \n",
    "#                                      'model', \n",
    "#                                      'kilometer', \n",
    "#                                      'monthOfRegistration', \n",
    "#                                      'fuelType', \n",
    "#                                      'brand', \n",
    "#                                      'notRepairedDamage', \n",
    "#                                      'dateCreated', \n",
    "#                                      'postalCode', \n",
    "#                                      'lastSeen'])]\n",
    "\n",
    "autosdf = autosdf[pd.notnull(autosdf['model'])]\n",
    "autosdf = autosdf[pd.notnull(autosdf['gearbox'])]\n",
    "\n",
    "# autosdf.dropna(subset=['model'])\n",
    "autosdf.dropna()\n",
    "\n",
    "autosdf.columns\n",
    "\n"
   ]
  },
  {
   "cell_type": "code",
   "execution_count": 326,
   "metadata": {
    "collapsed": false
   },
   "outputs": [
    {
     "data": {
      "text/plain": [
       "True"
      ]
     },
     "execution_count": 326,
     "metadata": {},
     "output_type": "execute_result"
    }
   ],
   "source": [
    "autosdf.isnull().any().any()"
   ]
  },
  {
   "cell_type": "markdown",
   "metadata": {
    "deletable": true,
    "editable": true
   },
   "source": [
    "Dropping variables of 'name', 'seller', 'offerType', 'abtest' and 'nrOfPictures' into new Dataframe"
   ]
  },
  {
   "cell_type": "code",
   "execution_count": 327,
   "metadata": {
    "collapsed": false,
    "deletable": true,
    "editable": true,
    "scrolled": false
   },
   "outputs": [
    {
     "data": {
      "text/plain": [
       "Index([u'dateCrawled', u'name', u'seller', u'offerType', u'price', u'abtest',\n",
       "       u'vehicleType', u'yearOfRegistration', u'gearbox', u'powerPS', u'model',\n",
       "       u'kilometer', u'monthOfRegistration', u'fuelType', u'brand',\n",
       "       u'notRepairedDamage', u'dateCreated', u'nrOfPictures', u'postalCode',\n",
       "       u'lastSeen'],\n",
       "      dtype='object')"
      ]
     },
     "execution_count": 327,
     "metadata": {},
     "output_type": "execute_result"
    }
   ],
   "source": [
    "autos.columns"
   ]
  },
  {
   "cell_type": "markdown",
   "metadata": {},
   "source": [
    "To check whether original DF is affected."
   ]
  },
  {
   "cell_type": "markdown",
   "metadata": {},
   "source": [
    "# Setting lower and upper bounds of price using Quantiles"
   ]
  },
  {
   "cell_type": "code",
   "execution_count": 358,
   "metadata": {
    "collapsed": false
   },
   "outputs": [],
   "source": [
    "lowerPrice, upperPrice = autosdf['price'].quantile([0.001, 0.999]).tolist()"
   ]
  },
  {
   "cell_type": "markdown",
   "metadata": {},
   "source": [
    "Assigning the value of the 0.05th value and the 0.95th value to variables 'lower' and 'upper'"
   ]
  },
  {
   "cell_type": "code",
   "execution_count": 359,
   "metadata": {
    "collapsed": false
   },
   "outputs": [
    {
     "name": "stdout",
     "output_type": "stream",
     "text": [
      "88900.0\n",
      "0.0\n"
     ]
    }
   ],
   "source": [
    "print upperPrice\n",
    "print lowerPrice"
   ]
  },
  {
   "cell_type": "markdown",
   "metadata": {
    "deletable": true,
    "editable": true
   },
   "source": [
    "lower and upper of price quantiles of 0.05 and 0.95."
   ]
  },
  {
   "cell_type": "markdown",
   "metadata": {},
   "source": [
    "# Setting lower and upper for 'powerPS' using Quantiles."
   ]
  },
  {
   "cell_type": "code",
   "execution_count": 334,
   "metadata": {
    "collapsed": false
   },
   "outputs": [],
   "source": [
    "lowerPS, upperPS = autosdf['powerPS'].quantile([0.001, 0.999]).tolist()"
   ]
  },
  {
   "cell_type": "code",
   "execution_count": 335,
   "metadata": {
    "collapsed": false
   },
   "outputs": [
    {
     "name": "stdout",
     "output_type": "stream",
     "text": [
      "612.0\n",
      "0.0\n"
     ]
    }
   ],
   "source": [
    "print upperPS\n",
    "print lowerPS"
   ]
  },
  {
   "cell_type": "markdown",
   "metadata": {
    "deletable": true,
    "editable": true
   },
   "source": [
    "## Cleaning Rows from new Dataframe"
   ]
  },
  {
   "cell_type": "code",
   "execution_count": 360,
   "metadata": {
    "collapsed": false,
    "deletable": true,
    "editable": true
   },
   "outputs": [
    {
     "data": {
      "text/html": [
       "<div>\n",
       "<table border=\"1\" class=\"dataframe\">\n",
       "  <thead>\n",
       "    <tr style=\"text-align: right;\">\n",
       "      <th></th>\n",
       "      <th>price</th>\n",
       "      <th>vehicleType</th>\n",
       "      <th>yearOfRegistration</th>\n",
       "      <th>gearbox</th>\n",
       "      <th>powerPS</th>\n",
       "      <th>model</th>\n",
       "      <th>kilometer</th>\n",
       "      <th>monthOfRegistration</th>\n",
       "      <th>fuelType</th>\n",
       "      <th>brand</th>\n",
       "      <th>notRepairedDamage</th>\n",
       "      <th>dateCreated</th>\n",
       "      <th>postalCode</th>\n",
       "      <th>lastSeen</th>\n",
       "    </tr>\n",
       "  </thead>\n",
       "  <tbody>\n",
       "    <tr>\n",
       "      <th>2</th>\n",
       "      <td>9800</td>\n",
       "      <td>suv</td>\n",
       "      <td>2004</td>\n",
       "      <td>automatik</td>\n",
       "      <td>163</td>\n",
       "      <td>grand</td>\n",
       "      <td>125000</td>\n",
       "      <td>8</td>\n",
       "      <td>diesel</td>\n",
       "      <td>jeep</td>\n",
       "      <td>NaN</td>\n",
       "      <td>2016-03-14</td>\n",
       "      <td>90480</td>\n",
       "      <td>2016-04-05 12:47:46</td>\n",
       "    </tr>\n",
       "    <tr>\n",
       "      <th>3</th>\n",
       "      <td>1500</td>\n",
       "      <td>kleinwagen</td>\n",
       "      <td>2001</td>\n",
       "      <td>manuell</td>\n",
       "      <td>75</td>\n",
       "      <td>golf</td>\n",
       "      <td>150000</td>\n",
       "      <td>6</td>\n",
       "      <td>benzin</td>\n",
       "      <td>volkswagen</td>\n",
       "      <td>nein</td>\n",
       "      <td>2016-03-17</td>\n",
       "      <td>91074</td>\n",
       "      <td>2016-03-17 17:40:17</td>\n",
       "    </tr>\n",
       "    <tr>\n",
       "      <th>4</th>\n",
       "      <td>3600</td>\n",
       "      <td>kleinwagen</td>\n",
       "      <td>2008</td>\n",
       "      <td>manuell</td>\n",
       "      <td>69</td>\n",
       "      <td>fabia</td>\n",
       "      <td>90000</td>\n",
       "      <td>7</td>\n",
       "      <td>diesel</td>\n",
       "      <td>skoda</td>\n",
       "      <td>nein</td>\n",
       "      <td>2016-03-31</td>\n",
       "      <td>60437</td>\n",
       "      <td>2016-04-06 10:17:21</td>\n",
       "    </tr>\n",
       "    <tr>\n",
       "      <th>5</th>\n",
       "      <td>650</td>\n",
       "      <td>limousine</td>\n",
       "      <td>1995</td>\n",
       "      <td>manuell</td>\n",
       "      <td>102</td>\n",
       "      <td>3er</td>\n",
       "      <td>150000</td>\n",
       "      <td>10</td>\n",
       "      <td>benzin</td>\n",
       "      <td>bmw</td>\n",
       "      <td>ja</td>\n",
       "      <td>2016-04-04</td>\n",
       "      <td>33775</td>\n",
       "      <td>2016-04-06 19:17:07</td>\n",
       "    </tr>\n",
       "    <tr>\n",
       "      <th>6</th>\n",
       "      <td>2200</td>\n",
       "      <td>cabrio</td>\n",
       "      <td>2004</td>\n",
       "      <td>manuell</td>\n",
       "      <td>109</td>\n",
       "      <td>2_reihe</td>\n",
       "      <td>150000</td>\n",
       "      <td>8</td>\n",
       "      <td>benzin</td>\n",
       "      <td>peugeot</td>\n",
       "      <td>nein</td>\n",
       "      <td>2016-04-01</td>\n",
       "      <td>67112</td>\n",
       "      <td>2016-04-05 18:18:39</td>\n",
       "    </tr>\n",
       "  </tbody>\n",
       "</table>\n",
       "</div>"
      ],
      "text/plain": [
       "   price vehicleType  yearOfRegistration    gearbox  powerPS    model  \\\n",
       "2   9800         suv                2004  automatik      163    grand   \n",
       "3   1500  kleinwagen                2001    manuell       75     golf   \n",
       "4   3600  kleinwagen                2008    manuell       69    fabia   \n",
       "5    650   limousine                1995    manuell      102      3er   \n",
       "6   2200      cabrio                2004    manuell      109  2_reihe   \n",
       "\n",
       "   kilometer  monthOfRegistration fuelType       brand notRepairedDamage  \\\n",
       "2     125000                    8   diesel        jeep               NaN   \n",
       "3     150000                    6   benzin  volkswagen              nein   \n",
       "4      90000                    7   diesel       skoda              nein   \n",
       "5     150000                   10   benzin         bmw                ja   \n",
       "6     150000                    8   benzin     peugeot              nein   \n",
       "\n",
       "  dateCreated  postalCode            lastSeen  \n",
       "2  2016-03-14       90480 2016-04-05 12:47:46  \n",
       "3  2016-03-17       91074 2016-03-17 17:40:17  \n",
       "4  2016-03-31       60437 2016-04-06 10:17:21  \n",
       "5  2016-04-04       33775 2016-04-06 19:17:07  \n",
       "6  2016-04-01       67112 2016-04-05 18:18:39  "
      ]
     },
     "execution_count": 360,
     "metadata": {},
     "output_type": "execute_result"
    }
   ],
   "source": [
    "# # df = autos[(autos[\"\"] ) | (autos[\"\"] )]\n",
    "# ACC_filtered = ACC[(ACC[\"price\"] > lowerPrice) & (ACC[\"price\"] < upperPrice)]\n",
    "# ACC_filtered = ACC_filtered[(ACC_filtered[\"powerPS\"] > 0) & (ACC_filtered[\"powerPS\"] < upperPS)]\n",
    "# ACC_filtered = ACC_filtered[(ACC_filtered[\"yearOfRegistration\"] > 1885) & (ACC_filtered[\"yearOfRegistration\"] < 2017)]\n",
    "\n",
    "# ACC_filtered\n",
    "\n",
    "# price filtering\n",
    "autosdf = autosdf[(autosdf['price'] > lowerPrice) & (autosdf['price'] < upperPrice)]\n",
    "\n",
    "# power filtering\n",
    "autosdf = autosdf[(autosdf['powerPS'] > 0) & (autosdf['powerPS'] < upperPS)]\n",
    "\n",
    "# yearofrego filtering\n",
    "autosdf = autosdf[(autosdf['yearOfRegistration'] > 1885) & (autosdf['yearOfRegistration'] < 2017)]\n",
    "\n",
    "\n",
    "\n",
    "\n",
    "autosdf.head(5)\n"
   ]
  },
  {
   "cell_type": "markdown",
   "metadata": {},
   "source": [
    "In 1885, Karl Benz developed a petrol or gasoline powered automobile. This is also considered to be the first \"production\" vehicle as Benz made several other identical copies."
   ]
  },
  {
   "cell_type": "markdown",
   "metadata": {},
   "source": [
    "# New Value Counts"
   ]
  },
  {
   "cell_type": "code",
   "execution_count": 361,
   "metadata": {
    "collapsed": false
   },
   "outputs": [],
   "source": [
    "price_vc = autosdf['price'].value_counts()\n",
    "vehicleType_vc = autosdf['vehicleType'].value_counts()\n",
    "yearOfRegistration_vc = autosdf['yearOfRegistration'].value_counts()\n",
    "gearbox_vc = autosdf['gearbox'].value_counts()\n",
    "power_vc = autosdf['powerPS'].value_counts()\n",
    "model_vc = autosdf['model'].value_counts()\n",
    "monthOfRegistration_vc = autosdf['monthOfRegistration'].value_counts()\n",
    "fuelType_vc = autosdf['fuelType'].value_counts()\n",
    "brand_vc = autosdf['brand'].value_counts()\n",
    "notRepairedDamage_vc = autosdf['notRepairedDamage'].value_counts()\n",
    "dateCreated_vc = autosdf['dateCreated'].value_counts()\n",
    "postalCode_vc = autosdf['postalCode'].value_counts()\n",
    "lastSeen_vc = autosdf['lastSeen'].value_counts()"
   ]
  },
  {
   "cell_type": "markdown",
   "metadata": {},
   "source": [
    "# Translations"
   ]
  },
  {
   "cell_type": "code",
   "execution_count": 362,
   "metadata": {
    "collapsed": false
   },
   "outputs": [],
   "source": [
    "# def fold(given):\n",
    "#     \"\"\"Return canonical versions of inputs.\"\"\"\n",
    "    \n",
    "#     # Use canonical variables so that you can define once, use many times.\n",
    "#     UNSW_canonical = \"uni of stairs\"\n",
    "#     ben_name_cannonical = \"Ben Doherty\"\n",
    "\n",
    "#     # dictionary of input:output pairs\n",
    "#     folds = {\n",
    "#         \"University of new south wales\": UNSW_canonical,\n",
    "#         \"University of New South Wales\": UNSW_canonical,\n",
    "#         \"University of NSW\": UNSW_canonical,\n",
    "#         \"UNSW\": UNSW_canonical,\n",
    "#         \"New-south\": UNSW_canonical,\n",
    "#         \"BDoh\": ben_name_cannonical,\n",
    "#         \"Benny\": ben_name_cannonical,\n",
    "#         \"Mr Dockerty\": ben_name_cannonical,\n",
    "#         \"Oi, Dickehead!\": ben_name_cannonical\n",
    "#     }\n",
    "\n",
    "#     return folds[given] # needs a defensive part, but ommited for clarity.\n",
    "\n",
    "# print fold(\"New-south\")\n",
    "# print fold(\"BDoh\")\n",
    "\n",
    "# def translate(given):\n",
    "    \n",
    "#     benzin = \"Petrol\"\n",
    "#     diesel = \"Diesel\"\n",
    "#     lpg = \"Liquefied Petroleum Gas\"\n",
    "#     cng = 'Compressed Natural Gas'\n",
    "#     hybrid = 'Hybrid'\n",
    "#     andere = 'Other'\n",
    "#     elektro = 'Electric'\n",
    "    \n",
    "#     translation = {\n",
    "#         \"benzin\": benzin\n",
    "#     }\n",
    "    \n",
    "#     return translate(given)\n",
    "\n",
    "# print translate(\"benzin\")"
   ]
  },
  {
   "cell_type": "markdown",
   "metadata": {
    "deletable": true,
    "editable": true
   },
   "source": [
    "# Top 10 of models sold"
   ]
  },
  {
   "cell_type": "code",
   "execution_count": 363,
   "metadata": {
    "collapsed": false,
    "deletable": true,
    "editable": true,
    "scrolled": true
   },
   "outputs": [
    {
     "data": {
      "text/plain": [
       "golf        25105\n",
       "andere      21878\n",
       "3er         17999\n",
       "polo        10531\n",
       "corsa        9889\n",
       "a4           9083\n",
       "astra        8948\n",
       "passat       8841\n",
       "5er          7717\n",
       "c_klasse     7693\n",
       "Name: model, dtype: int64"
      ]
     },
     "execution_count": 363,
     "metadata": {},
     "output_type": "execute_result"
    }
   ],
   "source": [
    "model_top10 = model_vc[:10]\n",
    "model_top10"
   ]
  },
  {
   "cell_type": "markdown",
   "metadata": {
    "collapsed": false,
    "deletable": true,
    "editable": true,
    "scrolled": false
   },
   "source": [
    "golf = VW golf\n",
    "andere = other\n",
    "3er = BMW 3 Series\n",
    "polo = VW polo\n",
    "corsa = Opal Corsa\n",
    "astra = Opal Astra\n",
    "a4 = Audi A4\n",
    "passat = VW Passat\n",
    "c_klasse = Benz C class\n",
    "5er = BMW 5 Series\n"
   ]
  },
  {
   "cell_type": "markdown",
   "metadata": {
    "deletable": true,
    "editable": true
   },
   "source": [
    "# To compare whether automatics and maunal cars are more likely to be damaged"
   ]
  },
  {
   "cell_type": "code",
   "execution_count": 364,
   "metadata": {
    "collapsed": false,
    "scrolled": true
   },
   "outputs": [],
   "source": [
    "is_automatic = autosdf['gearbox'] == 'automatik'\n",
    "is_manual = autosdf['gearbox'] == 'manuell'"
   ]
  },
  {
   "cell_type": "code",
   "execution_count": 365,
   "metadata": {
    "collapsed": false,
    "scrolled": true
   },
   "outputs": [
    {
     "data": {
      "text/plain": [
       "automatik    66642\n",
       "Name: gearbox, dtype: int64"
      ]
     },
     "execution_count": 365,
     "metadata": {},
     "output_type": "execute_result"
    }
   ],
   "source": [
    "automaticCount = autosdf[is_automatic]['gearbox'].value_counts()\n",
    "automaticCount"
   ]
  },
  {
   "cell_type": "code",
   "execution_count": 366,
   "metadata": {
    "collapsed": false
   },
   "outputs": [
    {
     "data": {
      "text/plain": [
       "manuell    229394\n",
       "Name: gearbox, dtype: int64"
      ]
     },
     "execution_count": 366,
     "metadata": {},
     "output_type": "execute_result"
    }
   ],
   "source": [
    "manualCount = autosdf[is_manual]['gearbox'].value_counts()\n",
    "manualCount"
   ]
  },
  {
   "cell_type": "code",
   "execution_count": 367,
   "metadata": {
    "collapsed": false
   },
   "outputs": [
    {
     "data": {
      "text/plain": [
       "nein    54880\n",
       "ja       4989\n",
       "Name: notRepairedDamage, dtype: int64"
      ]
     },
     "execution_count": 367,
     "metadata": {},
     "output_type": "execute_result"
    }
   ],
   "source": [
    "damagedAutomatic = autosdf[is_automatic]['notRepairedDamage'].value_counts()\n",
    "damagedAutomatic"
   ]
  },
  {
   "cell_type": "code",
   "execution_count": 368,
   "metadata": {
    "collapsed": false
   },
   "outputs": [
    {
     "name": "stdout",
     "output_type": "stream",
     "text": [
      "7.49 % of automatic cars are damaged\n"
     ]
    }
   ],
   "source": [
    "ratioA = (float(damagedAutomatic[1]) / float(automaticCount[0])) * 100\n",
    "\n",
    "print \"{} % of automatic cars are damaged\".format(round(ratioA, 2))"
   ]
  },
  {
   "cell_type": "code",
   "execution_count": 369,
   "metadata": {
    "collapsed": false
   },
   "outputs": [
    {
     "data": {
      "text/plain": [
       "nein    176222\n",
       "ja       22154\n",
       "Name: notRepairedDamage, dtype: int64"
      ]
     },
     "execution_count": 369,
     "metadata": {},
     "output_type": "execute_result"
    }
   ],
   "source": [
    "damagedManual = autosdf[is_manual]['notRepairedDamage'].value_counts()\n",
    "damagedManual"
   ]
  },
  {
   "cell_type": "code",
   "execution_count": 370,
   "metadata": {
    "collapsed": false
   },
   "outputs": [
    {
     "name": "stdout",
     "output_type": "stream",
     "text": [
      "9.66 % of automatic are damaged\n"
     ]
    }
   ],
   "source": [
    "ratioM = (float(damagedManual[1]) / float(manualCount[0])) * 100\n",
    "\n",
    "print \"{} % of automatic are damaged\".format(round(ratioM, 2))"
   ]
  },
  {
   "cell_type": "markdown",
   "metadata": {
    "deletable": true,
    "editable": true
   },
   "source": [
    "# Average Horsepowers"
   ]
  },
  {
   "cell_type": "code",
   "execution_count": 371,
   "metadata": {
    "collapsed": false,
    "deletable": true,
    "editable": true
   },
   "outputs": [
    {
     "data": {
      "text/plain": [
       "brand\n",
       "alfa_romeo       143.639370\n",
       "audi             166.000322\n",
       "bmw              175.087004\n",
       "chevrolet        143.668961\n",
       "chrysler         167.345568\n",
       "citroen           96.132778\n",
       "dacia             88.338028\n",
       "daewoo            84.398950\n",
       "daihatsu          68.349829\n",
       "fiat              79.512634\n",
       "ford             106.374238\n",
       "honda            116.395843\n",
       "hyundai          111.638502\n",
       "jaguar           242.637051\n",
       "jeep             186.313783\n",
       "kia              120.656235\n",
       "lada              80.113333\n",
       "lancia           102.967914\n",
       "land_rover       164.540663\n",
       "mazda            120.017525\n",
       "mercedes_benz    167.093771\n",
       "mini             126.584146\n",
       "mitsubishi       118.289638\n",
       "nissan           106.866768\n",
       "opel             100.949684\n",
       "peugeot          100.400864\n",
       "porsche          291.604507\n",
       "renault           91.038508\n",
       "rover            112.971963\n",
       "saab             163.610390\n",
       "seat              98.731682\n",
       "skoda            107.500704\n",
       "smart             63.287347\n",
       "subaru           140.303318\n",
       "suzuki            89.334757\n",
       "toyota           110.725798\n",
       "trabant           26.930435\n",
       "volkswagen       106.925092\n",
       "volvo            150.728138\n",
       "Name: powerPS, dtype: float64"
      ]
     },
     "execution_count": 371,
     "metadata": {},
     "output_type": "execute_result"
    }
   ],
   "source": [
    "brandPS = autosdf.groupby('brand').powerPS.mean()\n",
    "brandPS\n"
   ]
  },
  {
   "cell_type": "code",
   "execution_count": 372,
   "metadata": {
    "collapsed": false
   },
   "outputs": [
    {
     "data": {
      "text/plain": [
       "vehicleType\n",
       "andere        105.937076\n",
       "bus           119.860386\n",
       "cabrio        150.885401\n",
       "coupe         178.922775\n",
       "kleinwagen     73.566403\n",
       "kombi         142.423314\n",
       "limousine     138.928206\n",
       "suv           173.880506\n",
       "Name: powerPS, dtype: float64"
      ]
     },
     "execution_count": 372,
     "metadata": {},
     "output_type": "execute_result"
    }
   ],
   "source": [
    "vehicleTypePS = autosdf.groupby('vehicleType').powerPS.mean()\n",
    "vehicleTypePS"
   ]
  },
  {
   "cell_type": "code",
   "execution_count": 373,
   "metadata": {
    "collapsed": false
   },
   "outputs": [
    {
     "data": {
      "text/plain": [
       "gearbox\n",
       "automatik    178.585562\n",
       "manuell      111.422814\n",
       "Name: powerPS, dtype: float64"
      ]
     },
     "execution_count": 373,
     "metadata": {},
     "output_type": "execute_result"
    }
   ],
   "source": [
    "gearboxPS = autosdf.groupby('gearbox').powerPS.mean()\n",
    "gearboxPS"
   ]
  },
  {
   "cell_type": "code",
   "execution_count": 374,
   "metadata": {
    "collapsed": false
   },
   "outputs": [
    {
     "data": {
      "text/plain": [
       "fuelType\n",
       "andere      90.915493\n",
       "benzin     118.711160\n",
       "cng        102.957265\n",
       "diesel     142.678140\n",
       "elektro     72.482759\n",
       "hybrid     118.890476\n",
       "lpg        157.043182\n",
       "Name: powerPS, dtype: float64"
      ]
     },
     "execution_count": 374,
     "metadata": {},
     "output_type": "execute_result"
    }
   ],
   "source": [
    "fuelTypePS = autosdf.groupby('fuelType').powerPS.mean()\n",
    "fuelTypePS"
   ]
  },
  {
   "cell_type": "markdown",
   "metadata": {},
   "source": [
    "## Average Price"
   ]
  },
  {
   "cell_type": "code",
   "execution_count": 375,
   "metadata": {
    "collapsed": false
   },
   "outputs": [
    {
     "data": {
      "text/plain": [
       "vehicleType\n",
       "andere         4470.314622\n",
       "bus            6999.607139\n",
       "cabrio        10059.646868\n",
       "coupe         10367.372744\n",
       "kleinwagen     2994.735231\n",
       "kombi          6120.499478\n",
       "limousine      6199.339213\n",
       "suv           13635.304749\n",
       "Name: price, dtype: float64"
      ]
     },
     "execution_count": 375,
     "metadata": {},
     "output_type": "execute_result"
    }
   ],
   "source": [
    "# average price of vehicle types\n",
    "\n",
    "vehicleTypePrice = autosdf.groupby('vehicleType').price.mean()\n",
    "vehicleTypePrice"
   ]
  },
  {
   "cell_type": "code",
   "execution_count": 376,
   "metadata": {
    "collapsed": false
   },
   "outputs": [
    {
     "data": {
      "text/plain": [
       "<matplotlib.axes._subplots.AxesSubplot at 0x7feb12de4950>"
      ]
     },
     "execution_count": 376,
     "metadata": {},
     "output_type": "execute_result"
    },
    {
     "data": {
      "image/png": "[encoded data removed]",
      "text/plain": [
       "<matplotlib.figure.Figure at 0x7feb12d63a50>"
      ]
     },
     "metadata": {},
     "output_type": "display_data"
    }
   ],
   "source": [
    "vehicleTypePrice.plot(kind='bar')"
   ]
  },
  {
   "cell_type": "code",
   "execution_count": 377,
   "metadata": {
    "collapsed": false,
    "scrolled": true
   },
   "outputs": [
    {
     "data": {
      "text/plain": [
       "fuelType\n",
       "andere      3288.887324\n",
       "benzin      5060.337628\n",
       "cng         4963.042735\n",
       "diesel      9039.613870\n",
       "elektro     9091.586207\n",
       "hybrid     12984.400000\n",
       "lpg         4325.012273\n",
       "Name: price, dtype: float64"
      ]
     },
     "execution_count": 377,
     "metadata": {},
     "output_type": "execute_result"
    }
   ],
   "source": [
    "# average price of fuelTypes\n",
    "\n",
    "fuelTypePrice = autosdf.groupby('fuelType').price.mean()\n",
    "fuelTypePrice"
   ]
  },
  {
   "cell_type": "code",
   "execution_count": 378,
   "metadata": {
    "collapsed": false
   },
   "outputs": [
    {
     "data": {
      "text/plain": [
       "<matplotlib.axes._subplots.AxesSubplot at 0x7feb12d8b0d0>"
      ]
     },
     "execution_count": 378,
     "metadata": {},
     "output_type": "execute_result"
    },
    {
     "data": {
      "image/png": "[encoded data removed]",
      "text/plain": [
       "<matplotlib.figure.Figure at 0x7feb12cc6750>"
      ]
     },
     "metadata": {},
     "output_type": "display_data"
    }
   ],
   "source": [
    "fuelTypePrice.plot(kind='bar')"
   ]
  },
  {
   "cell_type": "code",
   "execution_count": 379,
   "metadata": {
    "collapsed": false
   },
   "outputs": [
    {
     "data": {
      "text/plain": [
       "kilometer\n",
       "5000       9787.082957\n",
       "10000     21294.275266\n",
       "20000     17474.673140\n",
       "30000     15944.795871\n",
       "40000     15013.946147\n",
       "50000     13432.381756\n",
       "60000     11996.995580\n",
       "70000     11062.822264\n",
       "80000      9865.993538\n",
       "90000      8871.057739\n",
       "100000     8077.183417\n",
       "125000     6556.945239\n",
       "150000     4022.570393\n",
       "Name: price, dtype: float64"
      ]
     },
     "execution_count": 379,
     "metadata": {},
     "output_type": "execute_result"
    }
   ],
   "source": [
    "kilometerPriceMean = autosdf.groupby('kilometer').price.mean()\n",
    "kilometerPriceMean"
   ]
  },
  {
   "cell_type": "code",
   "execution_count": 380,
   "metadata": {
    "collapsed": false,
    "scrolled": true
   },
   "outputs": [
    {
     "data": {
      "text/plain": [
       "<matplotlib.axes._subplots.AxesSubplot at 0x7feb12c3d710>"
      ]
     },
     "execution_count": 380,
     "metadata": {},
     "output_type": "execute_result"
    },
    {
     "data": {
      "image/png": "[encoded data removed]",
      "text/plain": [
       "<matplotlib.figure.Figure at 0x7feb12bb4dd0>"
      ]
     },
     "metadata": {},
     "output_type": "display_data"
    }
   ],
   "source": [
    "kilometerPriceMean.plot()"
   ]
  },
  {
   "cell_type": "code",
   "execution_count": 381,
   "metadata": {
    "collapsed": false
   },
   "outputs": [
    {
     "data": {
      "text/plain": [
       "kilometer\n",
       "5000      84000\n",
       "10000     81000\n",
       "20000     87900\n",
       "30000     88400\n",
       "40000     88500\n",
       "50000     86500\n",
       "60000     86900\n",
       "70000     85911\n",
       "80000     85500\n",
       "90000     88000\n",
       "100000    87900\n",
       "125000    87900\n",
       "150000    85000\n",
       "Name: price, dtype: int64"
      ]
     },
     "execution_count": 381,
     "metadata": {},
     "output_type": "execute_result"
    }
   ],
   "source": [
    "kilometerPriceMax = autosdf.groupby('kilometer').price.max()\n",
    "kilometerPriceMax"
   ]
  },
  {
   "cell_type": "code",
   "execution_count": 382,
   "metadata": {
    "collapsed": false,
    "scrolled": true
   },
   "outputs": [
    {
     "data": {
      "text/plain": [
       "monthOfRegistration\n",
       "0     2625.303978\n",
       "1     6527.682777\n",
       "2     6283.327644\n",
       "3     6256.413695\n",
       "4     6591.909334\n",
       "5     6326.888385\n",
       "6     6440.399568\n",
       "7     6710.676783\n",
       "8     6306.792875\n",
       "9     6543.288523\n",
       "10    6333.862597\n",
       "11    6629.482775\n",
       "12    6118.009529\n",
       "Name: price, dtype: float64"
      ]
     },
     "execution_count": 382,
     "metadata": {},
     "output_type": "execute_result"
    }
   ],
   "source": [
    "monthOfRegistrationPrice = autosdf.groupby('monthOfRegistration').price.mean()\n",
    "monthOfRegistrationPrice"
   ]
  },
  {
   "cell_type": "code",
   "execution_count": 383,
   "metadata": {
    "collapsed": false,
    "scrolled": true
   },
   "outputs": [
    {
     "data": {
      "text/plain": [
       "<matplotlib.axes._subplots.AxesSubplot at 0x7feb0f575710>"
      ]
     },
     "execution_count": 383,
     "metadata": {},
     "output_type": "execute_result"
    },
    {
     "data": {
      "image/png": "[encoded data removed]",
      "text/plain": [
       "<matplotlib.figure.Figure at 0x7feb0f597d50>"
      ]
     },
     "metadata": {},
     "output_type": "display_data"
    }
   ],
   "source": [
    "monthOfRegistrationPrice.plot(kind='bar')"
   ]
  },
  {
   "cell_type": "code",
   "execution_count": 384,
   "metadata": {
    "collapsed": false
   },
   "outputs": [
    {
     "data": {
      "text/plain": [
       "monthOfRegistration\n",
       "0     69911\n",
       "1     87900\n",
       "2     85000\n",
       "3     87991\n",
       "4     88000\n",
       "5     86900\n",
       "6     88500\n",
       "7     85911\n",
       "8     88500\n",
       "9     79500\n",
       "10    88000\n",
       "11    84993\n",
       "12    85000\n",
       "Name: price, dtype: int64"
      ]
     },
     "execution_count": 384,
     "metadata": {},
     "output_type": "execute_result"
    }
   ],
   "source": [
    "monthOfRegistrationPriceMax = autosdf.groupby('monthOfRegistration').price.max()\n",
    "monthOfRegistrationPriceMax"
   ]
  },
  {
   "cell_type": "code",
   "execution_count": 385,
   "metadata": {
    "collapsed": false,
    "scrolled": true
   },
   "outputs": [
    {
     "data": {
      "text/plain": [
       "brand\n",
       "alfa_romeo        4519.218898\n",
       "audi              9525.070047\n",
       "bmw               8817.154787\n",
       "chevrolet         7081.685478\n",
       "chrysler          4327.885407\n",
       "citroen           3971.141597\n",
       "dacia             5949.919334\n",
       "daewoo            1080.451444\n",
       "daihatsu          1967.923208\n",
       "fiat              3133.002335\n",
       "ford              4006.569984\n",
       "honda             4263.977886\n",
       "hyundai           5946.969848\n",
       "jaguar           12194.727788\n",
       "jeep             11844.705279\n",
       "kia               6298.469909\n",
       "lada              3537.906667\n",
       "lancia            3643.280749\n",
       "land_rover       17553.760542\n",
       "mazda             4441.488061\n",
       "mercedes_benz     8772.913009\n",
       "mini             10187.516894\n",
       "mitsubishi        3614.479817\n",
       "nissan            5079.722138\n",
       "opel              3223.519074\n",
       "peugeot           3508.182138\n",
       "porsche          33769.641127\n",
       "renault           2696.580093\n",
       "rover             1819.439252\n",
       "saab              4144.474026\n",
       "seat              4810.282349\n",
       "skoda             6831.939095\n",
       "smart             3899.801905\n",
       "subaru            4687.246445\n",
       "suzuki            4302.660972\n",
       "toyota            5500.208566\n",
       "trabant           2524.669565\n",
       "volkswagen        5791.501960\n",
       "volvo             5582.840973\n",
       "Name: price, dtype: float64"
      ]
     },
     "execution_count": 385,
     "metadata": {},
     "output_type": "execute_result"
    }
   ],
   "source": [
    "brandPrice = autosdf.groupby('brand').price.mean()\n",
    "brandPrice"
   ]
  },
  {
   "cell_type": "code",
   "execution_count": 386,
   "metadata": {
    "collapsed": false,
    "scrolled": true
   },
   "outputs": [
    {
     "data": {
      "text/plain": [
       "<matplotlib.axes._subplots.AxesSubplot at 0x7feb12b73150>"
      ]
     },
     "execution_count": 386,
     "metadata": {},
     "output_type": "execute_result"
    },
    {
     "data": {
      "image/png": "[encoded data removed]",
      "text/plain": [
       "<matplotlib.figure.Figure at 0x7feb0f51e3d0>"
      ]
     },
     "metadata": {},
     "output_type": "display_data"
    }
   ],
   "source": [
    "brandPrice.plot(kind='bar')"
   ]
  },
  {
   "cell_type": "code",
   "execution_count": 387,
   "metadata": {
    "collapsed": false
   },
   "outputs": [
    {
     "data": {
      "text/plain": [
       "brand\n",
       "alfa_romeo       73000\n",
       "audi             88400\n",
       "bmw              85900\n",
       "chevrolet        65500\n",
       "chrysler         37500\n",
       "citroen          38888\n",
       "dacia            19990\n",
       "daewoo            3850\n",
       "daihatsu         12850\n",
       "fiat             46990\n",
       "ford             73500\n",
       "honda            48500\n",
       "hyundai          35999\n",
       "jaguar           83990\n",
       "jeep             59800\n",
       "kia              43900\n",
       "lada             12390\n",
       "lancia           64000\n",
       "land_rover       86500\n",
       "mazda            38900\n",
       "mercedes_benz    85000\n",
       "mini             45000\n",
       "mitsubishi       41899\n",
       "nissan           62500\n",
       "opel             39000\n",
       "peugeot          31500\n",
       "porsche          88500\n",
       "renault          72500\n",
       "rover            28900\n",
       "saab             29900\n",
       "seat             35500\n",
       "skoda            39999\n",
       "smart            40000\n",
       "subaru           38333\n",
       "suzuki           23200\n",
       "toyota           62900\n",
       "trabant          14500\n",
       "volkswagen       85000\n",
       "volvo            65400\n",
       "Name: price, dtype: int64"
      ]
     },
     "execution_count": 387,
     "metadata": {},
     "output_type": "execute_result"
    }
   ],
   "source": [
    "brandPriceMax = autosdf.groupby('brand').price.max()\n",
    "brandPriceMax"
   ]
  },
  {
   "cell_type": "code",
   "execution_count": 388,
   "metadata": {
    "collapsed": true
   },
   "outputs": [],
   "source": [
    "# Damaged or not of vehicles\n",
    "\n",
    "is_damaged = autosdf['notRepairedDamage'] == 'ja'\n",
    "is_notdamaged = autosdf['notRepairedDamage'] == 'nein'"
   ]
  },
  {
   "cell_type": "code",
   "execution_count": 389,
   "metadata": {
    "collapsed": false
   },
   "outputs": [
    {
     "data": {
      "text/plain": [
       "notRepairedDamage\n",
       "ja      2369.834727\n",
       "nein    7120.936712\n",
       "Name: price, dtype: float64"
      ]
     },
     "execution_count": 389,
     "metadata": {},
     "output_type": "execute_result"
    }
   ],
   "source": [
    "damagedPrice = autosdf.groupby('notRepairedDamage').price.mean()\n",
    "damagedPrice"
   ]
  },
  {
   "cell_type": "code",
   "execution_count": 390,
   "metadata": {
    "collapsed": false
   },
   "outputs": [
    {
     "data": {
      "text/plain": [
       "<matplotlib.axes._subplots.AxesSubplot at 0x7feb0f049f10>"
      ]
     },
     "execution_count": 390,
     "metadata": {},
     "output_type": "execute_result"
    },
    {
     "data": {
      "image/png": "[encoded data removed]",
      "text/plain": [
       "<matplotlib.figure.Figure at 0x7feb0f4cf8d0>"
      ]
     },
     "metadata": {},
     "output_type": "display_data"
    }
   ],
   "source": [
    "damagedPrice.plot(kind='bar')"
   ]
  },
  {
   "cell_type": "code",
   "execution_count": 235,
   "metadata": {
    "collapsed": false,
    "scrolled": true
   },
   "outputs": [
    {
     "data": {
      "text/plain": [
       "dateCreated\n",
       "2015-03-20     6000.000000\n",
       "2015-08-07    14250.000000\n",
       "2015-08-10     5200.000000\n",
       "2015-09-04      600.000000\n",
       "2015-09-09     9500.000000\n",
       "2015-10-14    27900.000000\n",
       "2015-11-02     3490.000000\n",
       "2015-11-08    15500.000000\n",
       "2015-11-10     5499.000000\n",
       "2015-11-12     5400.000000\n",
       "2015-11-13    54900.000000\n",
       "2015-11-17     5999.000000\n",
       "2015-11-23     5900.000000\n",
       "2015-11-24     7999.000000\n",
       "2015-12-05      900.000000\n",
       "2015-12-06     6950.000000\n",
       "2015-12-17     9999.000000\n",
       "2015-12-27     7500.000000\n",
       "2015-12-28    25500.000000\n",
       "2015-12-30    12700.000000\n",
       "2016-01-02      750.000000\n",
       "2016-01-06     8900.000000\n",
       "2016-01-07     7682.666667\n",
       "2016-01-08     1900.000000\n",
       "2016-01-10     9797.000000\n",
       "2016-01-13     8115.000000\n",
       "2016-01-14    20399.000000\n",
       "2016-01-15    13900.000000\n",
       "2016-01-16    22950.000000\n",
       "2016-01-17    18900.000000\n",
       "                  ...     \n",
       "2016-03-09     6073.468401\n",
       "2016-03-10     5973.507038\n",
       "2016-03-11     6135.209834\n",
       "2016-03-12     6129.046353\n",
       "2016-03-13     6561.174448\n",
       "2016-03-14     6163.514605\n",
       "2016-03-15     6088.633686\n",
       "2016-03-16     5938.462521\n",
       "2016-03-17     5963.484752\n",
       "2016-03-18     6096.490326\n",
       "2016-03-19     6165.333763\n",
       "2016-03-20     6317.623981\n",
       "2016-03-21     6119.762996\n",
       "2016-03-22     5898.439623\n",
       "2016-03-23     6191.914930\n",
       "2016-03-24     6346.041426\n",
       "2016-03-25     6473.645660\n",
       "2016-03-26     6343.146844\n",
       "2016-03-27     6533.455287\n",
       "2016-03-28     6245.428408\n",
       "2016-03-29     6245.080936\n",
       "2016-03-30     6163.453006\n",
       "2016-03-31     6277.358276\n",
       "2016-04-01     6568.535658\n",
       "2016-04-02     6552.416138\n",
       "2016-04-03     6561.883691\n",
       "2016-04-04     6442.328330\n",
       "2016-04-05     6633.260610\n",
       "2016-04-06     6635.118770\n",
       "2016-04-07     6294.668132\n",
       "Name: price, dtype: float64"
      ]
     },
     "execution_count": 235,
     "metadata": {},
     "output_type": "execute_result"
    }
   ],
   "source": [
    "# which day of the ad created may sell for higher?\n",
    "\n",
    "dateCreatedPrice = autosdf.groupby('dateCreated').price.mean()\n",
    "dateCreatedPrice"
   ]
  },
  {
   "cell_type": "markdown",
   "metadata": {},
   "source": [
    "# Gearbox"
   ]
  },
  {
   "cell_type": "code",
   "execution_count": 402,
   "metadata": {
    "collapsed": false
   },
   "outputs": [
    {
     "data": {
      "text/plain": [
       "<matplotlib.axes._subplots.AxesSubplot at 0x7feb0e9ac350>"
      ]
     },
     "execution_count": 402,
     "metadata": {},
     "output_type": "execute_result"
    },
    {
     "data": {
      "image/png": "[encoded data removed]",
      "text/plain": [
       "<matplotlib.figure.Figure at 0x7feb0e8dbe10>"
      ]
     },
     "metadata": {},
     "output_type": "display_data"
    }
   ],
   "source": [
    "autosdf.groupby('gearbox').powerPS.mean().plot(kind='bar')"
   ]
  },
  {
   "cell_type": "code",
   "execution_count": 403,
   "metadata": {
    "collapsed": false,
    "deletable": true,
    "editable": true
   },
   "outputs": [
    {
     "data": {
      "text/plain": [
       "<matplotlib.axes._subplots.AxesSubplot at 0x7feb0e5d62d0>"
      ]
     },
     "execution_count": 403,
     "metadata": {},
     "output_type": "execute_result"
    },
    {
     "data": {
      "image/png": "[encoded data removed]",
      "text/plain": [
       "<matplotlib.figure.Figure at 0x7feb0e599c10>"
      ]
     },
     "metadata": {},
     "output_type": "display_data"
    }
   ],
   "source": [
    "autosdf.groupby('gearbox').price.mean().plot(kind='bar')"
   ]
  },
  {
   "cell_type": "code",
   "execution_count": 404,
   "metadata": {
    "collapsed": false,
    "deletable": true,
    "editable": true
   },
   "outputs": [
    {
     "data": {
      "text/plain": [
       "<matplotlib.axes._subplots.AxesSubplot at 0x7feb0e49ec90>"
      ]
     },
     "execution_count": 404,
     "metadata": {},
     "output_type": "execute_result"
    },
    {
     "data": {
      "image/png": "[encoded data removed]",
      "text/plain": [
       "<matplotlib.figure.Figure at 0x7feb0e57c310>"
      ]
     },
     "metadata": {},
     "output_type": "display_data"
    }
   ],
   "source": [
    "autosdf[is_damaged].groupby('gearbox').powerPS.mean().plot(kind='bar')"
   ]
  },
  {
   "cell_type": "code",
   "execution_count": 405,
   "metadata": {
    "collapsed": false,
    "deletable": true,
    "editable": true,
    "scrolled": true
   },
   "outputs": [
    {
     "data": {
      "text/plain": [
       "<matplotlib.axes._subplots.AxesSubplot at 0x7feb0e3b5850>"
      ]
     },
     "execution_count": 405,
     "metadata": {},
     "output_type": "execute_result"
    },
    {
     "data": {
      "image/png": "[encoded data removed]",
      "text/plain": [
       "<matplotlib.figure.Figure at 0x7feb0e3d6890>"
      ]
     },
     "metadata": {},
     "output_type": "display_data"
    }
   ],
   "source": [
    "autosdf[is_notdamaged].groupby('gearbox').powerPS.mean().plot(kind='bar')"
   ]
  },
  {
   "cell_type": "code",
   "execution_count": 406,
   "metadata": {
    "collapsed": false,
    "deletable": true,
    "editable": true,
    "scrolled": true
   },
   "outputs": [
    {
     "data": {
      "text/plain": [
       "<matplotlib.axes._subplots.AxesSubplot at 0x7feb13feb4d0>"
      ]
     },
     "execution_count": 406,
     "metadata": {},
     "output_type": "execute_result"
    },
    {
     "data": {
      "image/png": "[encoded data removed]",
      "text/plain": [
       "<matplotlib.figure.Figure at 0x7feb14078a10>"
      ]
     },
     "metadata": {},
     "output_type": "display_data"
    }
   ],
   "source": [
    "autosdf[is_damaged].groupby('gearbox').price.mean().plot(kind='bar')"
   ]
  },
  {
   "cell_type": "code",
   "execution_count": 407,
   "metadata": {
    "collapsed": false,
    "deletable": true,
    "editable": true
   },
   "outputs": [
    {
     "data": {
      "text/plain": [
       "<matplotlib.axes._subplots.AxesSubplot at 0x7feb0e84aa50>"
      ]
     },
     "execution_count": 407,
     "metadata": {},
     "output_type": "execute_result"
    },
    {
     "data": {
      "image/png": "[encoded data removed]",
      "text/plain": [
       "<matplotlib.figure.Figure at 0x7feb1469bf50>"
      ]
     },
     "metadata": {},
     "output_type": "display_data"
    }
   ],
   "source": [
    "autosdf[is_notdamaged].groupby('gearbox').price.mean().plot(kind='bar')"
   ]
  },
  {
   "cell_type": "code",
   "execution_count": 409,
   "metadata": {
    "collapsed": false,
    "deletable": true,
    "editable": true,
    "scrolled": true
   },
   "outputs": [
    {
     "data": {
      "text/plain": [
       "<matplotlib.axes._subplots.AxesSubplot at 0x7feb0dfbee50>"
      ]
     },
     "execution_count": 409,
     "metadata": {},
     "output_type": "execute_result"
    },
    {
     "data": {
      "image/png": "[encoded data removed]",
      "text/plain": [
       "<matplotlib.figure.Figure at 0x7feb0deb1950>"
      ]
     },
     "metadata": {},
     "output_type": "display_data"
    }
   ],
   "source": [
    "autosdf[is_damaged].groupby('vehicleType').price.mean().plot(kind='bar')"
   ]
  },
  {
   "cell_type": "code",
   "execution_count": 410,
   "metadata": {
    "collapsed": false,
    "deletable": true,
    "editable": true,
    "scrolled": true
   },
   "outputs": [
    {
     "data": {
      "text/plain": [
       "<matplotlib.axes._subplots.AxesSubplot at 0x7feb0de89a90>"
      ]
     },
     "execution_count": 410,
     "metadata": {},
     "output_type": "execute_result"
    },
    {
     "data": {
      "image/png": "[encoded data removed]",
      "text/plain": [
       "<matplotlib.figure.Figure at 0x7feb0de07590>"
      ]
     },
     "metadata": {},
     "output_type": "display_data"
    }
   ],
   "source": [
    "autosdf[is_notdamaged].groupby('vehicleType').price.mean().plot(kind='bar')"
   ]
  },
  {
   "cell_type": "code",
   "execution_count": 425,
   "metadata": {
    "collapsed": false,
    "deletable": true,
    "editable": true
   },
   "outputs": [
    {
     "data": {
      "text/plain": [
       "limousine     84018\n",
       "kleinwagen    66405\n",
       "kombi         59398\n",
       "bus           26559\n",
       "cabrio        20035\n",
       "coupe         16070\n",
       "suv           12804\n",
       "andere         2209\n",
       "Name: vehicleType, dtype: int64"
      ]
     },
     "execution_count": 425,
     "metadata": {},
     "output_type": "execute_result"
    }
   ],
   "source": [
    "vehicleType_vc"
   ]
  },
  {
   "cell_type": "markdown",
   "metadata": {},
   "source": [
    "# BOOLEANS"
   ]
  },
  {
   "cell_type": "code",
   "execution_count": 433,
   "metadata": {
    "collapsed": true
   },
   "outputs": [],
   "source": [
    "# vehicle type booleans\n",
    "\n",
    "is_limousine = autosdf.vehicleType == 'limousine'\n",
    "is_shortWagon = autosdf.vehicleType == 'kleinwagen'\n",
    "is_wagon = autosdf.vehicleType == 'kombi'\n",
    "is_bus = autosdf.vehicleType == 'bus'\n",
    "is_cabrio = autosdf.vehicleType == 'cabrio'\n",
    "is_coupe= autosdf.vehicleType == 'coupe'\n",
    "is_sub = autosdf.vehicleType == 'suv'\n",
    "is_other = autosdf.vehicleType == 'andere'\n",
    "\n",
    "# gearbox booleans\n",
    "\n",
    "is_automatic = autosdf.gearbox == 'automatik'\n",
    "is_manual = autosdf.gearbox == 'manuell'\n",
    "\n",
    "# Damaged booleans\n",
    "is_damaged = autosdf.notRepairedDamage == 'ja'\n",
    "is_notdamaged = autosdf.notRepairedDamage == 'nein'\n",
    "\n"
   ]
  },
  {
   "cell_type": "code",
   "execution_count": 438,
   "metadata": {
    "collapsed": false,
    "scrolled": true
   },
   "outputs": [
    {
     "data": {
      "text/plain": [
       "limousine     22463\n",
       "kombi         16335\n",
       "suv            6334\n",
       "coupe          5256\n",
       "kleinwagen     5244\n",
       "cabrio         5183\n",
       "bus            4509\n",
       "andere          204\n",
       "Name: vehicleType, dtype: int64"
      ]
     },
     "execution_count": 438,
     "metadata": {},
     "output_type": "execute_result"
    }
   ],
   "source": [
    "autosdf[is_automatic].vehicleType.value_counts()"
   ]
  },
  {
   "cell_type": "code",
   "execution_count": 439,
   "metadata": {
    "collapsed": false
   },
   "outputs": [
    {
     "data": {
      "text/plain": [
       "limousine     61555\n",
       "kleinwagen    61161\n",
       "kombi         43063\n",
       "bus           22050\n",
       "cabrio        14852\n",
       "coupe         10814\n",
       "suv            6470\n",
       "andere         2005\n",
       "Name: vehicleType, dtype: int64"
      ]
     },
     "execution_count": 439,
     "metadata": {},
     "output_type": "execute_result"
    }
   ],
   "source": [
    "autosdf[is_manual].vehicleType.value_counts()"
   ]
  },
  {
   "cell_type": "markdown",
   "metadata": {},
   "source": [
    "# Automatic or Manuals damage rate of vehicle types"
   ]
  },
  {
   "cell_type": "code",
   "execution_count": 447,
   "metadata": {
    "collapsed": false
   },
   "outputs": [
    {
     "data": {
      "text/plain": [
       "limousine     1689\n",
       "kombi         1417\n",
       "kleinwagen     499\n",
       "bus            399\n",
       "suv            328\n",
       "coupe          310\n",
       "cabrio         166\n",
       "andere          32\n",
       "Name: vehicleType, dtype: int64"
      ]
     },
     "execution_count": 447,
     "metadata": {},
     "output_type": "execute_result"
    }
   ],
   "source": [
    "# Damaged Automatics of Vehicle Types\n",
    "autosdf[is_automatic]['vehicleType'][is_damaged].value_counts()"
   ]
  },
  {
   "cell_type": "code",
   "execution_count": 450,
   "metadata": {
    "collapsed": false
   },
   "outputs": [
    {
     "data": {
      "text/plain": [
       "kleinwagen    6305\n",
       "limousine     5634\n",
       "kombi         4567\n",
       "bus           2032\n",
       "coupe          991\n",
       "cabrio         822\n",
       "suv            410\n",
       "andere         288\n",
       "Name: vehicleType, dtype: int64"
      ]
     },
     "execution_count": 450,
     "metadata": {},
     "output_type": "execute_result"
    }
   ],
   "source": [
    "# Damaged Manuals of Vehicle Types\n",
    "autosdf[is_manual]['vehicleType'][is_damaged].value_counts()"
   ]
  },
  {
   "cell_type": "code",
   "execution_count": 451,
   "metadata": {
    "collapsed": false
   },
   "outputs": [
    {
     "data": {
      "text/plain": [
       "limousine     18451\n",
       "kombi         13285\n",
       "suv            5513\n",
       "cabrio         4620\n",
       "coupe          4487\n",
       "kleinwagen     4135\n",
       "bus            3777\n",
       "andere          119\n",
       "Name: vehicleType, dtype: int64"
      ]
     },
     "execution_count": 451,
     "metadata": {},
     "output_type": "execute_result"
    }
   ],
   "source": [
    "# Not Damaged Automatics of Vehicle Types\n",
    "autosdf[is_automatic]['vehicleType'][is_notdamaged].value_counts()"
   ]
  },
  {
   "cell_type": "code",
   "execution_count": 452,
   "metadata": {
    "collapsed": false
   },
   "outputs": [
    {
     "data": {
      "text/plain": [
       "limousine     48746\n",
       "kleinwagen    45917\n",
       "kombi         33018\n",
       "bus           17988\n",
       "cabrio        12578\n",
       "coupe          8341\n",
       "suv            5512\n",
       "andere         1151\n",
       "Name: vehicleType, dtype: int64"
      ]
     },
     "execution_count": 452,
     "metadata": {},
     "output_type": "execute_result"
    }
   ],
   "source": [
    "# Not Damaged Manuals of Vehicle Types\n",
    "autosdf[is_manual]['vehicleType'][is_notdamaged].value_counts()"
   ]
  },
  {
   "cell_type": "markdown",
   "metadata": {},
   "source": [
    "# Damaged cars of Automatic vs manual of each brand"
   ]
  },
  {
   "cell_type": "code",
   "execution_count": 454,
   "metadata": {
    "collapsed": false,
    "scrolled": true
   },
   "outputs": [
    {
     "data": {
      "text/plain": [
       "mercedes_benz    1113\n",
       "audi              758\n",
       "bmw               728\n",
       "volkswagen        614\n",
       "opel              410\n",
       "ford              204\n",
       "smart             173\n",
       "renault           129\n",
       "volvo              96\n",
       "chrysler           86\n",
       "peugeot            52\n",
       "mitsubishi         48\n",
       "kia                47\n",
       "citroen            43\n",
       "jaguar             41\n",
       "jeep               40\n",
       "nissan             40\n",
       "chevrolet          38\n",
       "toyota             32\n",
       "mazda              31\n",
       "hyundai            31\n",
       "honda              28\n",
       "skoda              28\n",
       "porsche            25\n",
       "fiat               22\n",
       "land_rover         20\n",
       "alfa_romeo         18\n",
       "suzuki             17\n",
       "saab               15\n",
       "subaru             12\n",
       "seat               11\n",
       "rover               9\n",
       "daihatsu            9\n",
       "lancia              7\n",
       "daewoo              7\n",
       "mini                6\n",
       "trabant             1\n",
       "Name: brand, dtype: int64"
      ]
     },
     "execution_count": 454,
     "metadata": {},
     "output_type": "execute_result"
    }
   ],
   "source": [
    "# Damaged automatics of each brand\n",
    "autosdf[is_automatic]['brand'][is_damaged].value_counts()"
   ]
  },
  {
   "cell_type": "code",
   "execution_count": 455,
   "metadata": {
    "collapsed": false,
    "scrolled": true
   },
   "outputs": [
    {
     "data": {
      "text/plain": [
       "volkswagen       4717\n",
       "opel             3102\n",
       "ford             2181\n",
       "bmw              1744\n",
       "audi             1554\n",
       "renault          1437\n",
       "mercedes_benz     989\n",
       "peugeot           921\n",
       "fiat              865\n",
       "seat              501\n",
       "mazda             480\n",
       "citroen           368\n",
       "nissan            364\n",
       "skoda             315\n",
       "mitsubishi        280\n",
       "toyota            243\n",
       "volvo             234\n",
       "alfa_romeo        234\n",
       "hyundai           225\n",
       "honda             213\n",
       "suzuki            178\n",
       "kia               153\n",
       "mini              111\n",
       "chevrolet          85\n",
       "subaru             76\n",
       "chrysler           75\n",
       "daihatsu           66\n",
       "daewoo             63\n",
       "dacia              61\n",
       "rover              57\n",
       "lancia             54\n",
       "saab               44\n",
       "smart              40\n",
       "porsche            36\n",
       "trabant            29\n",
       "land_rover         25\n",
       "lada               13\n",
       "jeep               12\n",
       "jaguar              9\n",
       "Name: brand, dtype: int64"
      ]
     },
     "execution_count": 455,
     "metadata": {},
     "output_type": "execute_result"
    }
   ],
   "source": [
    "# Damaged Manuals of each brand\n",
    "autosdf[is_manual]['brand'][is_damaged].value_counts()"
   ]
  },
  {
   "cell_type": "code",
   "execution_count": 456,
   "metadata": {
    "collapsed": false
   },
   "outputs": [
    {
     "data": {
      "text/plain": [
       "Index([u'price', u'vehicleType', u'yearOfRegistration', u'gearbox', u'powerPS',\n",
       "       u'model', u'kilometer', u'monthOfRegistration', u'fuelType', u'brand',\n",
       "       u'notRepairedDamage', u'dateCreated', u'postalCode', u'lastSeen'],\n",
       "      dtype='object')"
      ]
     },
     "execution_count": 456,
     "metadata": {},
     "output_type": "execute_result"
    }
   ],
   "source": [
    "autosdf.columns"
   ]
  },
  {
   "cell_type": "code",
   "execution_count": 458,
   "metadata": {
    "collapsed": false,
    "scrolled": true
   },
   "outputs": [
    {
     "data": {
      "text/plain": [
       "mercedes_benz    17007\n",
       "bmw              12087\n",
       "audi              9698\n",
       "volkswagen        9138\n",
       "opel              3214\n",
       "smart             3059\n",
       "ford              1627\n",
       "renault            997\n",
       "volvo              903\n",
       "porsche            766\n",
       "skoda              625\n",
       "chrysler           616\n",
       "peugeot            548\n",
       "citroen            532\n",
       "chevrolet          521\n",
       "toyota             517\n",
       "nissan             488\n",
       "jeep               470\n",
       "kia                467\n",
       "jaguar             433\n",
       "hyundai            367\n",
       "mitsubishi         363\n",
       "land_rover         321\n",
       "honda              272\n",
       "seat               272\n",
       "mazda              267\n",
       "mini               227\n",
       "fiat               181\n",
       "suzuki             156\n",
       "alfa_romeo         121\n",
       "subaru             109\n",
       "saab               104\n",
       "daihatsu            57\n",
       "lancia              49\n",
       "rover               35\n",
       "daewoo              24\n",
       "trabant              2\n",
       "dacia                1\n",
       "lada                 1\n",
       "Name: brand, dtype: int64"
      ]
     },
     "execution_count": 458,
     "metadata": {},
     "output_type": "execute_result"
    }
   ],
   "source": [
    "# automatic cars in each brand\n",
    "autosdf['brand'][is_automatic].value_counts()"
   ]
  },
  {
   "cell_type": "code",
   "execution_count": 459,
   "metadata": {
    "collapsed": false,
    "scrolled": true
   },
   "outputs": [
    {
     "data": {
      "text/plain": [
       "volkswagen       54393\n",
       "opel             27770\n",
       "bmw              21992\n",
       "ford             18542\n",
       "audi             18269\n",
       "mercedes_benz    12341\n",
       "renault          12325\n",
       "peugeot           8253\n",
       "fiat              7101\n",
       "seat              5501\n",
       "skoda             4350\n",
       "mazda             4298\n",
       "citroen           3550\n",
       "nissan            3460\n",
       "toyota            3429\n",
       "mini              2851\n",
       "hyundai           2651\n",
       "mitsubishi        2040\n",
       "honda             1989\n",
       "volvo             1933\n",
       "alfa_romeo        1784\n",
       "suzuki            1717\n",
       "kia               1610\n",
       "porsche           1009\n",
       "chevrolet          932\n",
       "dacia              780\n",
       "smart              616\n",
       "daihatsu           529\n",
       "subaru             524\n",
       "chrysler           501\n",
       "saab               358\n",
       "daewoo             357\n",
       "land_rover         343\n",
       "lancia             325\n",
       "rover              286\n",
       "trabant            228\n",
       "jeep               212\n",
       "lada               149\n",
       "jaguar              96\n",
       "Name: brand, dtype: int64"
      ]
     },
     "execution_count": 459,
     "metadata": {},
     "output_type": "execute_result"
    }
   ],
   "source": [
    "# Manual cars in each brand\n",
    "autosdf['brand'][is_manual].value_counts()"
   ]
  },
  {
   "cell_type": "code",
   "execution_count": 460,
   "metadata": {
    "collapsed": false
   },
   "outputs": [
    {
     "data": {
      "text/plain": [
       "benzin     17763\n",
       "diesel      6965\n",
       "lpg          528\n",
       "cng           40\n",
       "hybrid        14\n",
       "andere        10\n",
       "elektro        3\n",
       "Name: fuelType, dtype: int64"
      ]
     },
     "execution_count": 460,
     "metadata": {},
     "output_type": "execute_result"
    }
   ],
   "source": [
    "autosdf['fuelType'][is_damaged].value_counts()"
   ]
  },
  {
   "cell_type": "code",
   "execution_count": 462,
   "metadata": {
    "collapsed": false
   },
   "outputs": [
    {
     "data": {
      "text/plain": [
       "benzin     185047\n",
       "diesel      93699\n",
       "lpg          4400\n",
       "cng           468\n",
       "hybrid        210\n",
       "andere         71\n",
       "elektro        58\n",
       "Name: fuelType, dtype: int64"
      ]
     },
     "execution_count": 462,
     "metadata": {},
     "output_type": "execute_result"
    }
   ],
   "source": [
    "autosdf.fuelType.value_counts()"
   ]
  }
 ],
 "metadata": {
  "kernelspec": {
   "display_name": "Python 2",
   "language": "python",
   "name": "python2"
  },
  "language_info": {
   "codemirror_mode": {
    "name": "ipython",
    "version": 2
   },
   "file_extension": ".py",
   "mimetype": "text/x-python",
   "name": "python",
   "nbconvert_exporter": "python",
   "pygments_lexer": "ipython2",
   "version": "2.7.12"
  }
 },
 "nbformat": 4,
 "nbformat_minor": 2
}
